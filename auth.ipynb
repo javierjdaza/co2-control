{
 "cells": [
  {
   "cell_type": "code",
   "execution_count": 23,
   "metadata": {},
   "outputs": [],
   "source": [
    "import pandas as pd\n",
    "from deta import Deta\n",
    "import time\n",
    "import random\n",
    "from datetime import datetime, timedelta"
   ]
  },
  {
   "cell_type": "code",
   "execution_count": 24,
   "metadata": {},
   "outputs": [],
   "source": [
    "DETA_KEY = 'e0jeqtjtszl_L996atb2Q4i8HKS36bU6drgU6tt1HYSq' \n",
    "\n",
    "# Initialize with a project key\n",
    "deta = Deta(DETA_KEY)\n",
    "\n",
    "\n",
    "# This is how to create/connect a database\n",
    "db = deta.Base(\"data_co2\")\n",
    "# db = deta.Base(\"users\")"
   ]
  },
  {
   "cell_type": "code",
   "execution_count": 11,
   "metadata": {},
   "outputs": [
    {
     "data": {
      "text/html": [
       "<div>\n",
       "<style scoped>\n",
       "    .dataframe tbody tr th:only-of-type {\n",
       "        vertical-align: middle;\n",
       "    }\n",
       "\n",
       "    .dataframe tbody tr th {\n",
       "        vertical-align: top;\n",
       "    }\n",
       "\n",
       "    .dataframe thead th {\n",
       "        text-align: right;\n",
       "    }\n",
       "</style>\n",
       "<table border=\"1\" class=\"dataframe\">\n",
       "  <thead>\n",
       "    <tr style=\"text-align: right;\">\n",
       "      <th></th>\n",
       "      <th>aula</th>\n",
       "      <th>datetime</th>\n",
       "      <th>edificio</th>\n",
       "      <th>key</th>\n",
       "      <th>medicion</th>\n",
       "      <th>piso</th>\n",
       "      <th>sensor</th>\n",
       "    </tr>\n",
       "  </thead>\n",
       "  <tbody>\n",
       "    <tr>\n",
       "      <th>0</th>\n",
       "      <td>aula 1</td>\n",
       "      <td>02-06-2022 00:00:00</td>\n",
       "      <td>capruis y favuis</td>\n",
       "      <td>0</td>\n",
       "      <td>972</td>\n",
       "      <td>1</td>\n",
       "      <td>aula 1_sensor</td>\n",
       "    </tr>\n",
       "    <tr>\n",
       "      <th>1</th>\n",
       "      <td>aula 1</td>\n",
       "      <td>03-06-2022 00:00:00</td>\n",
       "      <td>camilo torres</td>\n",
       "      <td>1</td>\n",
       "      <td>805</td>\n",
       "      <td>1</td>\n",
       "      <td>aula 1_sensor</td>\n",
       "    </tr>\n",
       "    <tr>\n",
       "      <th>2</th>\n",
       "      <td>aula 1</td>\n",
       "      <td>12-06-2022 00:00:00</td>\n",
       "      <td>capruis y favuis</td>\n",
       "      <td>10</td>\n",
       "      <td>405</td>\n",
       "      <td>1</td>\n",
       "      <td>aula 1_sensor</td>\n",
       "    </tr>\n",
       "    <tr>\n",
       "      <th>3</th>\n",
       "      <td>aula 1</td>\n",
       "      <td>10-09-2022 00:00:00</td>\n",
       "      <td>daniel casas</td>\n",
       "      <td>100</td>\n",
       "      <td>466</td>\n",
       "      <td>1</td>\n",
       "      <td>aula 1_sensor</td>\n",
       "    </tr>\n",
       "    <tr>\n",
       "      <th>4</th>\n",
       "      <td>aula 4</td>\n",
       "      <td>13-09-2022 00:00:00</td>\n",
       "      <td>cenivam</td>\n",
       "      <td>1000</td>\n",
       "      <td>531</td>\n",
       "      <td>2</td>\n",
       "      <td>aula 4_sensor</td>\n",
       "    </tr>\n",
       "    <tr>\n",
       "      <th>...</th>\n",
       "      <td>...</td>\n",
       "      <td>...</td>\n",
       "      <td>...</td>\n",
       "      <td>...</td>\n",
       "      <td>...</td>\n",
       "      <td>...</td>\n",
       "      <td>...</td>\n",
       "    </tr>\n",
       "    <tr>\n",
       "      <th>2686</th>\n",
       "      <td>aula 4</td>\n",
       "      <td>08-09-2022 00:00:00</td>\n",
       "      <td>cenivam</td>\n",
       "      <td>995</td>\n",
       "      <td>687</td>\n",
       "      <td>2</td>\n",
       "      <td>aula 4_sensor</td>\n",
       "    </tr>\n",
       "    <tr>\n",
       "      <th>2687</th>\n",
       "      <td>aula 4</td>\n",
       "      <td>09-09-2022 00:00:00</td>\n",
       "      <td>daniel casas</td>\n",
       "      <td>996</td>\n",
       "      <td>1003</td>\n",
       "      <td>2</td>\n",
       "      <td>aula 4_sensor</td>\n",
       "    </tr>\n",
       "    <tr>\n",
       "      <th>2688</th>\n",
       "      <td>aula 4</td>\n",
       "      <td>10-09-2022 00:00:00</td>\n",
       "      <td>capruis y favuis</td>\n",
       "      <td>997</td>\n",
       "      <td>746</td>\n",
       "      <td>2</td>\n",
       "      <td>aula 4_sensor</td>\n",
       "    </tr>\n",
       "    <tr>\n",
       "      <th>2689</th>\n",
       "      <td>aula 4</td>\n",
       "      <td>11-09-2022 00:00:00</td>\n",
       "      <td>camilo torres</td>\n",
       "      <td>998</td>\n",
       "      <td>1079</td>\n",
       "      <td>2</td>\n",
       "      <td>aula 4_sensor</td>\n",
       "    </tr>\n",
       "    <tr>\n",
       "      <th>2690</th>\n",
       "      <td>aula 4</td>\n",
       "      <td>12-09-2022 00:00:00</td>\n",
       "      <td>capruis y favuis</td>\n",
       "      <td>999</td>\n",
       "      <td>679</td>\n",
       "      <td>2</td>\n",
       "      <td>aula 4_sensor</td>\n",
       "    </tr>\n",
       "  </tbody>\n",
       "</table>\n",
       "<p>2691 rows × 7 columns</p>\n",
       "</div>"
      ],
      "text/plain": [
       "        aula             datetime          edificio   key  medicion  piso  \\\n",
       "0     aula 1  02-06-2022 00:00:00  capruis y favuis     0       972     1   \n",
       "1     aula 1  03-06-2022 00:00:00     camilo torres     1       805     1   \n",
       "2     aula 1  12-06-2022 00:00:00  capruis y favuis    10       405     1   \n",
       "3     aula 1  10-09-2022 00:00:00      daniel casas   100       466     1   \n",
       "4     aula 4  13-09-2022 00:00:00           cenivam  1000       531     2   \n",
       "...      ...                  ...               ...   ...       ...   ...   \n",
       "2686  aula 4  08-09-2022 00:00:00           cenivam   995       687     2   \n",
       "2687  aula 4  09-09-2022 00:00:00      daniel casas   996      1003     2   \n",
       "2688  aula 4  10-09-2022 00:00:00  capruis y favuis   997       746     2   \n",
       "2689  aula 4  11-09-2022 00:00:00     camilo torres   998      1079     2   \n",
       "2690  aula 4  12-09-2022 00:00:00  capruis y favuis   999       679     2   \n",
       "\n",
       "             sensor  \n",
       "0     aula 1_sensor  \n",
       "1     aula 1_sensor  \n",
       "2     aula 1_sensor  \n",
       "3     aula 1_sensor  \n",
       "4     aula 4_sensor  \n",
       "...             ...  \n",
       "2686  aula 4_sensor  \n",
       "2687  aula 4_sensor  \n",
       "2688  aula 4_sensor  \n",
       "2689  aula 4_sensor  \n",
       "2690  aula 4_sensor  \n",
       "\n",
       "[2691 rows x 7 columns]"
      ]
     },
     "execution_count": 11,
     "metadata": {},
     "output_type": "execute_result"
    }
   ],
   "source": [
    "def fetch_all_co2_data():\n",
    "    db = deta.Base(\"data_co2\")\n",
    "    res = db.fetch()\n",
    "    all_items = res.items\n",
    "\n",
    "    while res.last:\n",
    "        res = db.fetch(last=res.last)\n",
    "        all_items += res.items\n",
    "    return all_items\n",
    "\n",
    "data_co2 = pd.DataFrame(fetch_all_co2_data())\n",
    "data_co2"
   ]
  },
  {
   "cell_type": "code",
   "execution_count": 12,
   "metadata": {},
   "outputs": [],
   "source": [
    "data_co2['datetime'] = pd.to_datetime(data_co2['datetime'])"
   ]
  },
  {
   "cell_type": "code",
   "execution_count": null,
   "metadata": {},
   "outputs": [],
   "source": [
    "data = fetch_all_co2_data()\n",
    "df_data_co2 = pd.DataFrame(data_co2)\n",
    "df_data_co2"
   ]
  },
  {
   "cell_type": "code",
   "execution_count": 19,
   "metadata": {},
   "outputs": [],
   "source": [
    "def create_dummy_date():\n",
    "\n",
    "    aulas = ['aula 1','aula 2','aula 3','aula 4','aula 5','aula 6','aula 7','aula 8','aula 9']\n",
    "    edificios = ['CAMILO TORRES', 'CAPRUIS Y FAVUIS','CENTIC','DANIEL CASAS','CENIVAM']\n",
    "\n",
    "\n",
    "    dict_dummy = []\n",
    "    start_date = datetime.strptime('01/06/2022', '%d/%m/%Y')\n",
    "    for i in aulas:\n",
    "        piso = 0\n",
    "        n_aula = int(i.split(' ')[1] ) \n",
    "        if n_aula <=3:\n",
    "            piso = 1\n",
    "        elif n_aula >3 and n_aula <=6:\n",
    "            piso = 2\n",
    "        elif n_aula > 6 :\n",
    "            piso = 3\n",
    "        \n",
    "        for dia in range(1,300):\n",
    "            edificio = random.choice(edificios)\n",
    "            dict_ = {\n",
    "                'aula':i,\n",
    "                'medicion': random.randint(400,1200),\n",
    "                'datetime': start_date + timedelta(dia),\n",
    "                'sensor' : f'{i}_sensor',\n",
    "                'edificio' : edificio,\n",
    "                'piso' : piso,\n",
    "            }\n",
    "            dict_dummy.append(dict_)\n",
    "        df = pd.DataFrame(dict_dummy)\n",
    "    return df"
   ]
  },
  {
   "cell_type": "code",
   "execution_count": 21,
   "metadata": {},
   "outputs": [
    {
     "data": {
      "text/plain": [
       "2691"
      ]
     },
     "execution_count": 21,
     "metadata": {},
     "output_type": "execute_result"
    }
   ],
   "source": [
    "df = create_dummy_date()\n",
    "df.datetime.max()\n",
    "len(df)"
   ]
  },
  {
   "cell_type": "code",
   "execution_count": 25,
   "metadata": {},
   "outputs": [
    {
     "name": "stdout",
     "output_type": "stream",
     "text": [
      "2690\r"
     ]
    }
   ],
   "source": [
    "contador = 0\n",
    "for i in df.to_dict(orient = 'records'):\n",
    "    dict_temp = {\n",
    "        'key' : str(contador),\n",
    "        'medicion' : int(i['medicion']),\n",
    "        'aula' : str(i['aula']),\n",
    "        'datetime' :i['datetime'].strftime('%d-%m-%Y'),\n",
    "        'sensor' : i['sensor'],\n",
    "        'edificio' :i['edificio'].lower(),\n",
    "        'piso' : int(i['piso']),\n",
    "    }\n",
    "    db.put(dict_temp)\n",
    "    print(contador, end = '\\r')\n",
    "    contador +=1"
   ]
  },
  {
   "cell_type": "code",
   "execution_count": null,
   "metadata": {},
   "outputs": [],
   "source": [
    "lista = [{\n",
    "    \"user\":\"ivan\",\n",
    "    \"password\":\"ivan123\"\n",
    "},\n",
    "{\n",
    "    \"user\":\"javier\",\n",
    "    \"password\":\"javier123\"\n",
    "}\n",
    "]\n",
    "\n",
    "df = pd.DataFrame(lista)"
   ]
  },
  {
   "cell_type": "code",
   "execution_count": null,
   "metadata": {},
   "outputs": [],
   "source": [
    "with open('auth.json', 'w') as f:\n",
    "    f.write(df.to_json( orient='records', lines = True))\n"
   ]
  },
  {
   "cell_type": "code",
   "execution_count": null,
   "metadata": {},
   "outputs": [],
   "source": [
    "from datetime import datetime\n",
    "user_nickname = 'carlos'\n",
    "user_name = 'carlos jose'\n",
    "user_last_name = 'maestre muza'\n",
    "user_password = 'carlos123'\n",
    "user_date_registration = datetime.now().strftime('%d/%m/%Y')\n",
    "user_role = 'Administrator'\n",
    "\n",
    "def new_user(user,password,name,last_name,role,date_login):\n",
    "    new_user_data = {\n",
    "        'user' : user,\n",
    "        'password' : password,\n",
    "        'name' : name,\n",
    "        'last_name' : last_name,\n",
    "        'role' : role,\n",
    "        'date_login' : date_login,\n",
    "    }\n",
    "\n",
    "    df_temp = pd.DataFrame([new_user_data])\n",
    "    df = pd.read_json('auth.json', lines=True)\n",
    "    df = pd.concat([df,df_temp])\n",
    "\n",
    "    with open('auth.json', 'w') as f:\n",
    "        f.write(df.to_json( orient='records', lines = True))"
   ]
  },
  {
   "cell_type": "code",
   "execution_count": null,
   "metadata": {},
   "outputs": [],
   "source": [
    "from db import create_new_user\n",
    "x = [{'user': 'ivan',\n",
    "  'password': 'ivan123',\n",
    "  'name': 'Ivan Daniel',\n",
    "  'last_name': 'Maestre Muza',\n",
    "  'role': 'administrator'},\n",
    " {'user': 'javier',\n",
    "  'password': 'javier123',\n",
    "  'name': 'Javier Javier',\n",
    "  'last_name': 'Daza Olivella',\n",
    "  'role': 'administrator'},\n",
    " {'user': 'eladio',\n",
    "  'password': 'eladio123',\n",
    "  'name': 'Eladio',\n",
    "  'last_name': 'Carrión Morales',\n",
    "  'role': 'viewer'}]\n",
    "\n",
    "for i in x:\n",
    "    user_name = i['user']\n",
    "    password = i['password']\n",
    "    name = i['name']\n",
    "    last_name = i['last_name']\n",
    "    role = i['role']\n",
    "    create_new_user(user_name,password,name,last_name,role)"
   ]
  },
  {
   "cell_type": "code",
   "execution_count": null,
   "metadata": {},
   "outputs": [],
   "source": [
    "\n",
    "\n",
    "def authentication(user:str, password:str):\n",
    "    response = False\n",
    "    df = pd.read_json('auth.json', lines=True)\n",
    "    df_dict = df.to_dict(orient='records')\n",
    "\n",
    "    for dictionary in df_dict:\n",
    "\n",
    "        if dictionary['user'] == user and dictionary['password'] == password:\n",
    "            response = True\n",
    "\n",
    "    return response\n",
    "            \n",
    "def fetch_all_users():\n",
    "    \"\"\"Returns a dict of all users\"\"\"\n",
    "    res = db.fetch()\n",
    "    return res.items\n"
   ]
  },
  {
   "cell_type": "code",
   "execution_count": null,
   "metadata": {},
   "outputs": [],
   "source": [
    "user = 'javier'\n",
    "password = 'javier123'\n",
    "\n",
    "authentication(user=user,password=password)"
   ]
  },
  {
   "cell_type": "code",
   "execution_count": null,
   "metadata": {},
   "outputs": [],
   "source": [
    "df = pd.read_json('auth.json', lines=True)\n",
    "df_dict = df.to_dict(orient='records')\n",
    "df_dict"
   ]
  },
  {
   "cell_type": "code",
   "execution_count": null,
   "metadata": {},
   "outputs": [],
   "source": [
    "from deta import Deta\n",
    "from datetime import datetime\n",
    "DETA_KEY = 'e0jeqtjtszl_L996atb2Q4i8HKS36bU6drgU6tt1HYSq' \n",
    "\n",
    "# Initialize with a project key\n",
    "\n",
    "deta = Deta(DETA_KEY)\n",
    "\n",
    "\n",
    "# This is how to create/connect a database\n",
    "db = deta.Base(\"users\")\n",
    "\n",
    "def create_new_user(user_name,password,name,last_name,role):\n",
    "    # create new user\n",
    "    date_login = datetime.now().strftime('%d-%m-%Y')\n",
    "    return db.put({\"key\":user_name, \"password\":password, \"name\":name.title().strip(), \"last_name\": last_name.title().strip(),\"role\": role.title().strip(),\"date_login\":date_login})\n",
    "\n",
    "\n",
    "def update_user(user_name,password,name,last_name,role):\n",
    "    return db.update({\"password\":password, \"name\":name.title().strip(), \"last_name\": last_name.title().strip(),\"role\": role.title().strip()}, key = user_name)\n",
    "\n",
    "def fetch_all_users():\n",
    "    \"\"\"Returns a dict of all users\"\"\"\n",
    "    res = db.fetch()\n",
    "    return res.items\n",
    "\n",
    "\n",
    "def get_user(user_name:str):\n",
    "    return db.get(user_name)\n",
    "\n",
    "\n",
    "def authentication(user_name_input:str, password_input):\n",
    "    user_fetched = get_user(user_name_input)\n",
    "    if user_fetched != None:\n",
    "        password_fetched = user_fetched['password']\n",
    "        if password_input == password_fetched:\n",
    "            password = user_fetched['password']\n",
    "            name = user_fetched['name']\n",
    "            last_name = user_fetched['last_name']\n",
    "            role = user_fetched['role']\n",
    "            auth_flag = True\n",
    "            return auth_flag,password,name,last_name,role\n",
    "        else:\n",
    "            password = ''\n",
    "            name = ''\n",
    "            last_name = ''\n",
    "            role = ''\n",
    "            auth_flag = False\n",
    "            return auth_flag,password,name,last_name,role\n",
    "\n",
    "\n"
   ]
  },
  {
   "cell_type": "code",
   "execution_count": null,
   "metadata": {},
   "outputs": [],
   "source": [
    "key = \"ivan\"\n",
    "password = \"ivan123\"\n",
    "name = \"Ivan daniel\"\n",
    "last_name = \"maestre muza\"\n",
    "role = \"administrator\"\n",
    "\n",
    "\n",
    "# if get_user(key) != None:\n",
    "#     auth_flag,password,name,last_name,role = authentication(user_name_input= key, password_input = password)\n",
    "# else:\n",
    "#     print('The user dont exists')\n",
    "create_new_user(key,password,name,last_name,role)"
   ]
  },
  {
   "cell_type": "code",
   "execution_count": null,
   "metadata": {},
   "outputs": [],
   "source": [
    "def change_password(user_name_input,password_input,new_password_input:str):\n",
    "    user_fetched = get_user(user_name_input)\n",
    "    if user_fetched != None:\n",
    "        try:\n",
    "            db.update({\"password\":password_input},key=user_name_input)\n",
    "            return True\n",
    "        except Exception as e:\n",
    "            print(e)\n",
    "            return False"
   ]
  },
  {
   "cell_type": "code",
   "execution_count": null,
   "metadata": {},
   "outputs": [],
   "source": [
    "user_name_input = 'efra'\n",
    "password_input = 'efra123'\n",
    "new_password_input = 'efra124'\n",
    "\n",
    "\n",
    "user_fetched = get_user(user_name_input)\n",
    "if user_fetched != None:\n",
    "    user_dict = db.get(user_name_input)\n",
    "    if user_dict['password'] == password_input:\n",
    "        try:\n",
    "            db.update({\"password\":new_password_input},key=user_name_input)\n",
    "            retorno =  True\n",
    "        except Exception as e:\n",
    "            print(e)\n",
    "            retorno =  False\n",
    "else:\n",
    "    retorno = False"
   ]
  },
  {
   "cell_type": "code",
   "execution_count": null,
   "metadata": {},
   "outputs": [],
   "source": [
    "retorno"
   ]
  },
  {
   "cell_type": "code",
   "execution_count": null,
   "metadata": {},
   "outputs": [],
   "source": [
    "x = db.update({\"password\":'efra123'},key='efra')"
   ]
  },
  {
   "cell_type": "code",
   "execution_count": null,
   "metadata": {},
   "outputs": [],
   "source": [
    "db.get('efra')"
   ]
  },
  {
   "cell_type": "code",
   "execution_count": null,
   "metadata": {},
   "outputs": [],
   "source": [
    "from db import change_password\n",
    "change_password('efra','efra124','eee')"
   ]
  },
  {
   "cell_type": "code",
   "execution_count": null,
   "metadata": {},
   "outputs": [],
   "source": [
    "x = pd.DataFrame(fetch_all_users())\n",
    "x = x[x['key'] == 'ivan']\n",
    "y = x.to_dict(orient='records')\n",
    "y"
   ]
  },
  {
   "cell_type": "code",
   "execution_count": null,
   "metadata": {},
   "outputs": [],
   "source": [
    "import random\n",
    "from datetime import datetime, timedelta\n",
    "aulas = ['aula 1','aula 2','aula 3','aula 4','aula 5']\n",
    "\n",
    "dict_dummy = []\n",
    "start_date = datetime.strptime('01/01/2023', '%d/%m/%Y')\n",
    "for i in aulas:\n",
    "    for dia in range(1,50):\n",
    "        dict_ = {\n",
    "            'aula':i,\n",
    "            'medicion': random.randint(500,1000),\n",
    "            'datetime': start_date + timedelta(dia),\n",
    "            'sensor' : f'{i}_sensor'\n",
    "        }\n",
    "        dict_dummy.append(dict_)\n",
    "\n",
    "start_date = datetime.strptime('01/01/2023', '%d/%m/%Y')\n",
    "end_date = datetime.strptime('20/02/2023', '%d/%m/%Y')\n",
    "end_date - start_date"
   ]
  },
  {
   "cell_type": "code",
   "execution_count": null,
   "metadata": {},
   "outputs": [],
   "source": [
    "df = pd.DataFrame(dict_dummy)"
   ]
  },
  {
   "cell_type": "code",
   "execution_count": null,
   "metadata": {},
   "outputs": [],
   "source": [
    "import plotly.express as px\n",
    "from plotly.subplots import make_subplots\n",
    "\n",
    "fig = make_subplots(rows=2, cols=1,\n",
    "                    shared_xaxes=True,\n",
    "                    vertical_spacing=0.02)\n",
    "aula = 'aula 1'\n",
    "df = df[df['aula'] == f'{aula}']\n",
    "fig = px.line(df, x=\"datetime\", y=\"medicion\",  color='aula')\n",
    "\n",
    "fig.update_layout(title_text=f'Line Plot CO2 Levels \\n Aula: {aula}', title_x=0.5,xaxis_title =  'Date',yaxis_title = 'Nivel de CO2',legend_title = 'Aula')\n",
    "fig.add_hline(y=800,line=dict(color=\"#EB4747\"))\n",
    "\n",
    "fig.show()\n"
   ]
  },
  {
   "cell_type": "code",
   "execution_count": null,
   "metadata": {},
   "outputs": [],
   "source": [
    "df_temp = df[df['aula'] == 'aula 4']\n",
    "df_temp['medicion'].mean()"
   ]
  },
  {
   "cell_type": "code",
   "execution_count": null,
   "metadata": {},
   "outputs": [],
   "source": []
  },
  {
   "cell_type": "code",
   "execution_count": null,
   "metadata": {},
   "outputs": [],
   "source": [
    "df_temp = df[df['aula'] == 'aula 1']\n",
    "df_temp.sort_values(by = ['datetime'], ascending = False, inplace =True)\n",
    "df_temp.head()"
   ]
  },
  {
   "cell_type": "code",
   "execution_count": null,
   "metadata": {},
   "outputs": [],
   "source": [
    "fig = px.histogram(df_temp, x=\"medicion\", nbins=20)\n",
    "fig.update_layout(title_text=f'Histogram Plot CO2 Levels \\n Aula: {aula}', title_x=0.5,xaxis_title =  'Date',yaxis_title = 'Nivel de CO2',legend_title = 'Aula')\n",
    "fig.show()"
   ]
  },
  {
   "cell_type": "code",
   "execution_count": null,
   "metadata": {},
   "outputs": [],
   "source": [
    "fig = px.bar(df_temp, x='datetime', y='medicion')\n",
    "fig.update_traces(marker_color='green')\n",
    "fig.show()"
   ]
  },
  {
   "cell_type": "code",
   "execution_count": null,
   "metadata": {},
   "outputs": [],
   "source": [
    "pd.DataFrame(fetch_all_users())"
   ]
  },
  {
   "cell_type": "code",
   "execution_count": null,
   "metadata": {},
   "outputs": [],
   "source": [
    "aulas = ['aula 1','aula 2','aula 3','aula 4','aula 5','aula 6','aula 7','aula 8','aula 9']\n",
    "edificios = ['CAMILO TORRES', 'CAPRUIS Y FAVUIS','CENTIC','DANIEL CASAS','CENIVAM']\n",
    "from datetime import datetime, timedelta\n",
    "import random\n",
    "dict_dummy = []\n",
    "start_date = datetime.strptime('31/12/2022', '%d/%m/%Y')\n",
    "for i in aulas:\n",
    "    piso = 0\n",
    "    n_aula = int(i.split(' ')[1] ) \n",
    "    if n_aula <=3:\n",
    "        piso = 1\n",
    "    elif n_aula >3 and n_aula <=6:\n",
    "        piso = 2\n",
    "    elif n_aula > 6 :\n",
    "        piso = 3\n",
    "    \n",
    "    for dia in range(1,51):\n",
    "        edificio = random.choice(edificios)\n",
    "        dict_ = {\n",
    "            'aula':i,\n",
    "            'medicion': random.randint(400,1000),\n",
    "            'datetime': start_date + timedelta(dia),\n",
    "            'sensor' : f'{i}_sensor',\n",
    "            'edificio' : edificio,\n",
    "            'piso' : piso,\n",
    "        }\n",
    "        dict_dummy.append(dict_)\n",
    "    df = pd.DataFrame(dict_dummy)"
   ]
  },
  {
   "cell_type": "code",
   "execution_count": null,
   "metadata": {},
   "outputs": [],
   "source": [
    "df.groupby(['edificio'], as_index = False)['aula'].max()"
   ]
  },
  {
   "cell_type": "code",
   "execution_count": null,
   "metadata": {},
   "outputs": [],
   "source": [
    "x = df[(df['edificio'] == 'CENTIC') & (df['piso'] == 1)]\n",
    "df_temp_dict = x.to_dict(orient = 'records')\n",
    "for i in df_temp_dict:\n",
    "    print(i['aula'])"
   ]
  },
  {
   "cell_type": "code",
   "execution_count": null,
   "metadata": {},
   "outputs": [],
   "source": [
    "import requests"
   ]
  },
  {
   "cell_type": "code",
   "execution_count": null,
   "metadata": {},
   "outputs": [],
   "source": [
    "r = requests.get('\"localhost:8091/device/?uuid=1')"
   ]
  },
  {
   "cell_type": "code",
   "execution_count": null,
   "metadata": {},
   "outputs": [],
   "source": []
  },
  {
   "cell_type": "code",
   "execution_count": null,
   "metadata": {},
   "outputs": [],
   "source": [
    "from pymongo import MongoClient\n",
    "import requests\n",
    "\n",
    "payload = {\n",
    "    'deviceUUID' : '1',\n",
    "    'topic' : 'piso',\n",
    "    'timeStamp' : '25-03-2023 12:42:57',\n",
    "    'data' : '5',\n",
    "}\n",
    "# payload = {\n",
    "#     'deviceUUID' : '1',\n",
    "#     'aula': 'aula 1',\n",
    "#     'medicion': 756,\n",
    "#     'datetime': '22-03-2023 12:42:57',\n",
    "#     'sensor': 'aula 1_sensor',\n",
    "#     'edificio': 'CENTIC',\n",
    "#     'piso': 1}\n",
    "\n",
    "\n",
    "connect_url = \"mongodb://192.34.56.224:27017/\" \n",
    "client = MongoClient(connect_url)\n",
    "db = client.get_database('iot')\n",
    "collection = db.get_collection('messages')\n",
    "x = collection.insert_one(payload)"
   ]
  },
  {
   "cell_type": "code",
   "execution_count": null,
   "metadata": {},
   "outputs": [],
   "source": [
    "\n",
    "## DELETE DOCUMENT \n",
    "myquery = { \"deviceUUID\": \"5\" } # delete_one according to de deviceUUID (delete_one)\n",
    "myquery = { \"deviceUUID\": {\"$regex\": \"^1\"} } # delete all the documents that deviceUUID starst with 1 (delete_many)\n",
    "\n",
    "collection.delete_many(myquery)"
   ]
  },
  {
   "cell_type": "code",
   "execution_count": null,
   "metadata": {},
   "outputs": [],
   "source": [
    "# insert bulk\n",
    "collection.insert_many(df.to_dict('records'))"
   ]
  },
  {
   "cell_type": "code",
   "execution_count": null,
   "metadata": {},
   "outputs": [],
   "source": [
    "import pandas as pd\n",
    "\n",
    "r = requests.get('http://192.34.56.224:8091/device/?uuid=1')\n",
    "df = pd.DataFrame(r.json())"
   ]
  },
  {
   "cell_type": "code",
   "execution_count": null,
   "metadata": {},
   "outputs": [],
   "source": [
    "final_dict = {}\n",
    "for i in r.json():\n",
    "    dict_temp = {\n",
    "        'deviceUUID' : i['deviceUUID'],\n",
    "       'data' : {}\n",
    "    }\n",
    "    final_dict.append(dict_temp)"
   ]
  },
  {
   "cell_type": "code",
   "execution_count": null,
   "metadata": {},
   "outputs": [],
   "source": [
    "x = [{\n",
    "    'deviceUUID' : '1',\n",
    "    'data' : {'temp':'1', 'co2': '2'}\n",
    "},{\n",
    "    'deviceUUID' : '2',\n",
    "    'data' : {'temp':'6', 'co2': '20'}\n",
    "}]\n",
    "\n",
    "y = pd.DataFrame(x)\n",
    "y"
   ]
  },
  {
   "cell_type": "code",
   "execution_count": null,
   "metadata": {},
   "outputs": [],
   "source": [
    "def create_dummy_date():\n",
    "    from datetime import datetime,timedelta\n",
    "    import random\n",
    "    aulas = ['aula 1','aula 2','aula 3','aula 4','aula 5','aula 6','aula 7','aula 8','aula 9']\n",
    "    edificios = ['CAMILO TORRES', 'CAPRUIS Y FAVUIS','CENTIC','DANIEL CASAS','CENIVAM']\n",
    "\n",
    "\n",
    "    dict_dummy = []\n",
    "    start_date = datetime.strptime('30/06/2022', '%d/%m/%Y')\n",
    "    for i in aulas:\n",
    "        piso = 0\n",
    "        n_aula = int(i.split(' ')[1] ) \n",
    "        if n_aula <=3:\n",
    "            piso = 1\n",
    "        elif n_aula >3 and n_aula <=6:\n",
    "            piso = 2\n",
    "        elif n_aula > 6 :\n",
    "            piso = 3\n",
    "        \n",
    "        for dia in range(1,300):\n",
    "            edificio = random.choice(edificios)\n",
    "            dict_ = {\n",
    "                'aula':i,\n",
    "                'nivel_co2': random.randint(400,1200),\n",
    "                'datetime': (start_date + timedelta(dia)).strftime('%d/%m/%Y %H:%M:%S'),\n",
    "                'sensor' : f'{i}_sensor',\n",
    "                'edificio' : edificio,\n",
    "                'piso' : piso,\n",
    "            }\n",
    "            dict_dummy.append(dict_)\n",
    "        df = pd.DataFrame(dict_dummy)\n",
    "    return df\n",
    "\n",
    "df = create_dummy_date()"
   ]
  },
  {
   "cell_type": "code",
   "execution_count": null,
   "metadata": {},
   "outputs": [],
   "source": [
    "df"
   ]
  },
  {
   "cell_type": "code",
   "execution_count": null,
   "metadata": {},
   "outputs": [],
   "source": [
    "dict_final = []\n",
    "df_dict = df.to_dict(orient='records')\n",
    "\n",
    "for i in df_dict:\n",
    "\n",
    "    deviceUUID = f\"{i['edificio'].lower()}_piso_{i['piso']}_{i['aula']}\"\n",
    "    keys = i.keys()\n",
    "    for j in keys:\n",
    "        dict_temp = {\n",
    "            'deviceUUID' : deviceUUID,\n",
    "            'topic' : j,\n",
    "            'data' : i[j]\n",
    "        }\n",
    "        dict_final.append(dict_temp)"
   ]
  },
  {
   "cell_type": "code",
   "execution_count": null,
   "metadata": {},
   "outputs": [],
   "source": [
    "dict_final[0:10]"
   ]
  },
  {
   "cell_type": "code",
   "execution_count": null,
   "metadata": {},
   "outputs": [],
   "source": [
    "x = pd.DataFrame(dict_final)"
   ]
  },
  {
   "cell_type": "code",
   "execution_count": null,
   "metadata": {},
   "outputs": [],
   "source": [
    "Problemas con el schema en la base de datos.\n",
    "estaremos recibiendo mediciones de los diferentes edificios, pisos y aulas, personalmente no recomiendo el uso de base de datos NoSQL para la herramienta.\n",
    "sin embargo, si queremos mantener el mismo tipo de base de datos no relacional, sugiero el siguiente schema:\n",
    "{\n",
    "    'deviceUUID' : '1', # indicador unico para cada sensor\n",
    "    'aula': 'aula 1', # Aula de la medicion\n",
    "    'nivel_co2': 756, # valor de la medicion de CO2\n",
    "    'datetime': '22-03-2023 12:42:57', # %d-%M-%Y %H:%M:%S datetime del momento de la medicion\n",
    "    'edificio': 'CENTIC', # edificio de la medicion\n",
    "    'piso': 1 # piso de la medicion\n",
    "}\n",
    "por que? se pretende tener varias mediciones para diferentes dias, la llave no podra ser siempre el deviceUUID, ya que tendremos muchas mediciones para ese deviceUUID\n",
    "lo que genera un desorden al tener que agregar 1 documento para cada atributo de nuestra medicion, ya que solo tenemos 1 key \"topico\" que es el que almacenara la informacion de cada medicion, no solo el nivel de co2, sino tmb informacion relacionada a la ubicacion del sensor\n",
    "\n",
    "el API REST debera recibir mas parametros para la consulta, no solo el deviceUUID, podria recibir criterios opcionales tales como el aula, el edificio y el piso.\n",
    "los criterios como el edificio, piso y aula se pueden obtener desde el deviceUUID, pero eso nos condiciona a tener un diccionario de cada deviceUUID con su informacion\n",
    "de la ubicacion de cada salon, y asu vez, obtener edificio, piso y # de aula.\n"
   ]
  },
  {
   "cell_type": "code",
   "execution_count": null,
   "metadata": {},
   "outputs": [],
   "source": [
    "payload = {\n",
    "    'deviceUUID' : '1',\n",
    "    'topic' : 'nivel_co2',\n",
    "    'timeStamp' : '22-03-2023 12:42:57',\n",
    "    'data' : '14',\n",
    "}\n",
    "payload = {\n",
    "    'deviceUUID' : '1',\n",
    "    'aula': 'aula 1',\n",
    "    'medicion': 756,\n",
    "    'datetime': '22-03-2023 12:42:57',\n",
    "    'sensor': 'aula 1_sensor',\n",
    "    'edificio': 'CENTIC',\n",
    "    'piso': 1}"
   ]
  }
 ],
 "metadata": {
  "kernelspec": {
   "display_name": "Python 3",
   "language": "python",
   "name": "python3"
  },
  "language_info": {
   "codemirror_mode": {
    "name": "ipython",
    "version": 3
   },
   "file_extension": ".py",
   "mimetype": "text/x-python",
   "name": "python",
   "nbconvert_exporter": "python",
   "pygments_lexer": "ipython3",
   "version": "3.8.9"
  },
  "orig_nbformat": 4,
  "vscode": {
   "interpreter": {
    "hash": "31f2aee4e71d21fbe5cf8b01ff0e069b9275f58929596ceb00d14d90e3e16cd6"
   }
  }
 },
 "nbformat": 4,
 "nbformat_minor": 2
}
