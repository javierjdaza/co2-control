{
 "cells": [
  {
   "cell_type": "code",
   "execution_count": 1,
   "metadata": {},
   "outputs": [],
   "source": [
    "import pandas as pd\n"
   ]
  },
  {
   "cell_type": "code",
   "execution_count": 3,
   "metadata": {},
   "outputs": [],
   "source": [
    "lista = [{\n",
    "    \"user\":\"ivan\",\n",
    "    \"password\":\"ivan123\"\n",
    "},\n",
    "{\n",
    "    \"user\":\"javier\",\n",
    "    \"password\":\"javier123\"\n",
    "}\n",
    "]\n",
    "\n",
    "df = pd.DataFrame(lista)"
   ]
  },
  {
   "cell_type": "code",
   "execution_count": 9,
   "metadata": {},
   "outputs": [],
   "source": [
    "with open('auth.json', 'w') as f:\n",
    "    f.write(df.to_json( orient='records', lines = True))\n"
   ]
  },
  {
   "cell_type": "code",
   "execution_count": 6,
   "metadata": {},
   "outputs": [],
   "source": [
    "from datetime import datetime\n",
    "user_nickname = 'carlos'\n",
    "user_name = 'carlos jose'\n",
    "user_last_name = 'maestre muza'\n",
    "user_password = 'carlos123'\n",
    "user_date_registration = datetime.now().strftime('%d/%m/%Y')\n",
    "user_role = 'Administrator'\n",
    "\n",
    "def new_user(user,password,name,last_name,role,date_login):\n",
    "    new_user_data = {\n",
    "        'user' : user,\n",
    "        'password' : password,\n",
    "        'name' : name,\n",
    "        'last_name' : last_name,\n",
    "        'role' : role,\n",
    "        'date_login' : date_login,\n",
    "    }\n",
    "\n",
    "    df_temp = pd.DataFrame([new_user_data])\n",
    "    df = pd.read_json('auth.json', lines=True)\n",
    "    df = pd.concat([df,df_temp])\n",
    "\n",
    "    with open('auth.json', 'w') as f:\n",
    "        f.write(df.to_json( orient='records', lines = True))"
   ]
  },
  {
   "cell_type": "code",
   "execution_count": 10,
   "metadata": {},
   "outputs": [],
   "source": [
    "from db import create_new_user\n",
    "x = [{'user': 'ivan',\n",
    "  'password': 'ivan123',\n",
    "  'name': 'Ivan Daniel',\n",
    "  'last_name': 'Maestre Muza',\n",
    "  'role': 'administrator'},\n",
    " {'user': 'javier',\n",
    "  'password': 'javier123',\n",
    "  'name': 'Javier Javier',\n",
    "  'last_name': 'Daza Olivella',\n",
    "  'role': 'administrator'},\n",
    " {'user': 'eladio',\n",
    "  'password': 'eladio123',\n",
    "  'name': 'Eladio',\n",
    "  'last_name': 'Carrión Morales',\n",
    "  'role': 'viewer'}]\n",
    "\n",
    "for i in x:\n",
    "    user_name = i['user']\n",
    "    password = i['password']\n",
    "    name = i['name']\n",
    "    last_name = i['last_name']\n",
    "    role = i['role']\n",
    "    create_new_user(user_name,password,name,last_name,role)"
   ]
  },
  {
   "cell_type": "code",
   "execution_count": 18,
   "metadata": {},
   "outputs": [],
   "source": [
    "\n",
    "\n",
    "def authentication(user:str, password:str):\n",
    "    response = False\n",
    "    df = pd.read_json('auth.json', lines=True)\n",
    "    df_dict = df.to_dict(orient='records')\n",
    "\n",
    "    for dictionary in df_dict:\n",
    "\n",
    "        if dictionary['user'] == user and dictionary['password'] == password:\n",
    "            response = True\n",
    "\n",
    "    return response\n",
    "            \n"
   ]
  },
  {
   "cell_type": "code",
   "execution_count": 21,
   "metadata": {},
   "outputs": [
    {
     "data": {
      "text/plain": [
       "True"
      ]
     },
     "execution_count": 21,
     "metadata": {},
     "output_type": "execute_result"
    }
   ],
   "source": [
    "user = 'javier'\n",
    "password = 'javier123'\n",
    "\n",
    "authentication(user=user,password=password)"
   ]
  },
  {
   "cell_type": "code",
   "execution_count": 3,
   "metadata": {},
   "outputs": [
    {
     "data": {
      "text/plain": [
       "[{'user': 'ivan',\n",
       "  'password': 'ivan123',\n",
       "  'name': 'Ivan Daniel',\n",
       "  'last_name': 'Maestre Muza',\n",
       "  'role': 'administrator'},\n",
       " {'user': 'javier',\n",
       "  'password': 'javier123',\n",
       "  'name': 'Javier Javier',\n",
       "  'last_name': 'Daza Olivella',\n",
       "  'role': 'administrator'},\n",
       " {'user': 'eladio',\n",
       "  'password': 'eladio123',\n",
       "  'name': 'Eladio',\n",
       "  'last_name': 'Carrión Morales',\n",
       "  'role': 'viewer'}]"
      ]
     },
     "execution_count": 3,
     "metadata": {},
     "output_type": "execute_result"
    }
   ],
   "source": [
    "df = pd.read_json('auth.json', lines=True)\n",
    "df_dict = df.to_dict(orient='records')\n",
    "df_dict"
   ]
  },
  {
   "cell_type": "code",
   "execution_count": 1,
   "metadata": {},
   "outputs": [],
   "source": [
    "from deta import Deta\n",
    "from datetime import datetime\n",
    "DETA_KEY = 'e0jeqtjtszl_L996atb2Q4i8HKS36bU6drgU6tt1HYSq' \n",
    "\n",
    "# Initialize with a project key\n",
    "\n",
    "deta = Deta(DETA_KEY)\n",
    "\n",
    "\n",
    "# This is how to create/connect a database\n",
    "db = deta.Base(\"users\")\n",
    "\n",
    "def create_new_user(user_name,password,name,last_name,role):\n",
    "    # create new user\n",
    "    date_login = datetime.now().strftime('%d-%m-%Y')\n",
    "    return db.put({\"key\":user_name, \"password\":password, \"name\":name.title().strip(), \"last_name\": last_name.title().strip(),\"role\": role.title().strip(),\"date_login\":date_login})\n",
    "\n",
    "\n",
    "def update_user(user_name,password,name,last_name,role):\n",
    "    return db.update({\"password\":password, \"name\":name.title().strip(), \"last_name\": last_name.title().strip(),\"role\": role.title().strip()}, key = user_name)\n",
    "\n",
    "def fetch_all_users():\n",
    "    \"\"\"Returns a dict of all users\"\"\"\n",
    "    res = db.fetch()\n",
    "    return res.items\n",
    "\n",
    "\n",
    "def get_user(user_name:str):\n",
    "    return db.get(user_name)\n",
    "\n",
    "\n",
    "def authentication(user_name_input:str, password_input):\n",
    "    user_fetched = get_user(user_name_input)\n",
    "    if user_fetched != None:\n",
    "        password_fetched = user_fetched['password']\n",
    "        if password_input == password_fetched:\n",
    "            password = user_fetched['password']\n",
    "            name = user_fetched['name']\n",
    "            last_name = user_fetched['last_name']\n",
    "            role = user_fetched['role']\n",
    "            auth_flag = True\n",
    "            return auth_flag,password,name,last_name,role\n",
    "        else:\n",
    "            password = ''\n",
    "            name = ''\n",
    "            last_name = ''\n",
    "            role = ''\n",
    "            auth_flag = False\n",
    "            return auth_flag,password,name,last_name,role\n",
    "\n",
    "\n"
   ]
  },
  {
   "cell_type": "code",
   "execution_count": 36,
   "metadata": {},
   "outputs": [
    {
     "data": {
      "text/plain": [
       "{'date_login': '18-02-2023',\n",
       " 'key': 'ivan',\n",
       " 'last_name': 'Maestre Muza',\n",
       " 'name': 'Ivan Daniel',\n",
       " 'password': 'ivan123',\n",
       " 'role': 'Administrator'}"
      ]
     },
     "execution_count": 36,
     "metadata": {},
     "output_type": "execute_result"
    }
   ],
   "source": [
    "key = \"ivan\"\n",
    "password = \"ivan123\"\n",
    "name = \"Ivan daniel\"\n",
    "last_name = \"maestre muza\"\n",
    "role = \"administrator\"\n",
    "\n",
    "\n",
    "# if get_user(key) != None:\n",
    "#     auth_flag,password,name,last_name,role = authentication(user_name_input= key, password_input = password)\n",
    "# else:\n",
    "#     print('The user dont exists')\n",
    "create_new_user(key,password,name,last_name,role)"
   ]
  },
  {
   "cell_type": "code",
   "execution_count": null,
   "metadata": {},
   "outputs": [],
   "source": [
    "def change_password(user_name_input,password_input,new_password_input:str):\n",
    "    user_fetched = get_user(user_name_input)\n",
    "    if user_fetched != None:\n",
    "        try:\n",
    "            db.update({\"password\":password_input},key=user_name_input)\n",
    "            return True\n",
    "        except Exception as e:\n",
    "            print(e)\n",
    "            return False"
   ]
  },
  {
   "cell_type": "code",
   "execution_count": 4,
   "metadata": {},
   "outputs": [],
   "source": [
    "user_name_input = 'efra'\n",
    "password_input = 'efra123'\n",
    "new_password_input = 'efra124'\n",
    "\n",
    "\n",
    "user_fetched = get_user(user_name_input)\n",
    "if user_fetched != None:\n",
    "    user_dict = db.get(user_name_input)\n",
    "    if user_dict['password'] == password_input:\n",
    "        try:\n",
    "            db.update({\"password\":new_password_input},key=user_name_input)\n",
    "            retorno =  True\n",
    "        except Exception as e:\n",
    "            print(e)\n",
    "            retorno =  False\n",
    "else:\n",
    "    retorno = False"
   ]
  },
  {
   "cell_type": "code",
   "execution_count": 5,
   "metadata": {},
   "outputs": [
    {
     "data": {
      "text/plain": [
       "True"
      ]
     },
     "execution_count": 5,
     "metadata": {},
     "output_type": "execute_result"
    }
   ],
   "source": [
    "retorno"
   ]
  },
  {
   "cell_type": "code",
   "execution_count": 43,
   "metadata": {},
   "outputs": [],
   "source": [
    "x = db.update({\"password\":'efra123'},key='efra')"
   ]
  },
  {
   "cell_type": "code",
   "execution_count": 3,
   "metadata": {},
   "outputs": [
    {
     "data": {
      "text/plain": [
       "{'date_login': '18-02-2023',\n",
       " 'key': 'efra',\n",
       " 'last_name': 'Aponte Restrepo',\n",
       " 'name': 'Efra',\n",
       " 'password': 'efra123',\n",
       " 'role': 'Viewer'}"
      ]
     },
     "execution_count": 3,
     "metadata": {},
     "output_type": "execute_result"
    }
   ],
   "source": [
    "db.get('efra')"
   ]
  },
  {
   "cell_type": "code",
   "execution_count": 7,
   "metadata": {},
   "outputs": [
    {
     "data": {
      "text/plain": [
       "True"
      ]
     },
     "execution_count": 7,
     "metadata": {},
     "output_type": "execute_result"
    }
   ],
   "source": [
    "from db import change_password\n",
    "change_password('efra','efra124','eee')"
   ]
  },
  {
   "cell_type": "code",
   "execution_count": 14,
   "metadata": {},
   "outputs": [
    {
     "data": {
      "text/plain": [
       "[{'date_login': '20-02-2023',\n",
       "  'key': 'ivan',\n",
       "  'last_name': 'Maestre Muza',\n",
       "  'name': 'Ivan Daniel',\n",
       "  'password': 'ivan123',\n",
       "  'role': 'Administrator'}]"
      ]
     },
     "execution_count": 14,
     "metadata": {},
     "output_type": "execute_result"
    }
   ],
   "source": [
    "x = pd.DataFrame(fetch_all_users())\n",
    "x = x[x['key'] == 'ivan']\n",
    "y = x.to_dict(orient='records')\n",
    "y"
   ]
  },
  {
   "cell_type": "code",
   "execution_count": 47,
   "metadata": {},
   "outputs": [
    {
     "data": {
      "text/plain": [
       "datetime.timedelta(days=50)"
      ]
     },
     "execution_count": 47,
     "metadata": {},
     "output_type": "execute_result"
    }
   ],
   "source": [
    "import random\n",
    "from datetime import datetime, timedelta\n",
    "aulas = ['aula 1','aula 2','aula 3','aula 4','aula 5']\n",
    "\n",
    "dict_dummy = []\n",
    "start_date = datetime.strptime('01/01/2023', '%d/%m/%Y')\n",
    "for i in aulas:\n",
    "    for dia in range(1,50):\n",
    "        dict_ = {\n",
    "            'aula':i,\n",
    "            'medicion': random.randint(500,650),\n",
    "            'datetime': start_date + timedelta(dia),\n",
    "            'sensor' : f'{i}_sensor'\n",
    "        }\n",
    "        dict_dummy.append(dict_)\n",
    "\n",
    "start_date = datetime.strptime('01/01/2023', '%d/%m/%Y')\n",
    "end_date = datetime.strptime('20/02/2023', '%d/%m/%Y')\n",
    "end_date - start_date"
   ]
  },
  {
   "cell_type": "code",
   "execution_count": 48,
   "metadata": {},
   "outputs": [],
   "source": [
    "df = pd.DataFrame(dict_dummy)"
   ]
  },
  {
   "cell_type": "code",
   "execution_count": 68,
   "metadata": {},
   "outputs": [
    {
     "data": {
      "application/vnd.plotly.v1+json": {
       "config": {
        "plotlyServerURL": "https://plot.ly"
       },
       "data": [
        {
         "hovertemplate": "aula=aula 1<br>datetime=%{x}<br>medicion=%{y}<extra></extra>",
         "legendgroup": "aula 1",
         "line": {
          "color": "#636efa",
          "dash": "solid"
         },
         "marker": {
          "symbol": "circle"
         },
         "mode": "lines",
         "name": "aula 1",
         "orientation": "v",
         "showlegend": true,
         "type": "scatter",
         "x": [
          "2023-01-02T00:00:00",
          "2023-01-03T00:00:00",
          "2023-01-04T00:00:00",
          "2023-01-05T00:00:00",
          "2023-01-06T00:00:00",
          "2023-01-07T00:00:00",
          "2023-01-08T00:00:00",
          "2023-01-09T00:00:00",
          "2023-01-10T00:00:00",
          "2023-01-11T00:00:00",
          "2023-01-12T00:00:00",
          "2023-01-13T00:00:00",
          "2023-01-14T00:00:00",
          "2023-01-15T00:00:00",
          "2023-01-16T00:00:00",
          "2023-01-17T00:00:00",
          "2023-01-18T00:00:00",
          "2023-01-19T00:00:00",
          "2023-01-20T00:00:00",
          "2023-01-21T00:00:00",
          "2023-01-22T00:00:00",
          "2023-01-23T00:00:00",
          "2023-01-24T00:00:00",
          "2023-01-25T00:00:00",
          "2023-01-26T00:00:00",
          "2023-01-27T00:00:00",
          "2023-01-28T00:00:00",
          "2023-01-29T00:00:00",
          "2023-01-30T00:00:00",
          "2023-01-31T00:00:00",
          "2023-02-01T00:00:00",
          "2023-02-02T00:00:00",
          "2023-02-03T00:00:00",
          "2023-02-04T00:00:00",
          "2023-02-05T00:00:00",
          "2023-02-06T00:00:00",
          "2023-02-07T00:00:00",
          "2023-02-08T00:00:00",
          "2023-02-09T00:00:00",
          "2023-02-10T00:00:00",
          "2023-02-11T00:00:00",
          "2023-02-12T00:00:00",
          "2023-02-13T00:00:00",
          "2023-02-14T00:00:00",
          "2023-02-15T00:00:00",
          "2023-02-16T00:00:00",
          "2023-02-17T00:00:00",
          "2023-02-18T00:00:00",
          "2023-02-19T00:00:00"
         ],
         "xaxis": "x",
         "y": [
          534,
          578,
          535,
          542,
          538,
          520,
          542,
          620,
          567,
          558,
          574,
          645,
          547,
          612,
          541,
          593,
          538,
          542,
          574,
          542,
          609,
          508,
          515,
          554,
          566,
          534,
          620,
          588,
          639,
          648,
          614,
          534,
          598,
          513,
          581,
          552,
          647,
          500,
          515,
          523,
          644,
          619,
          612,
          506,
          589,
          536,
          506,
          567,
          603
         ],
         "yaxis": "y"
        }
       ],
       "layout": {
        "legend": {
         "title": {
          "text": "Aula"
         },
         "tracegroupgap": 0
        },
        "margin": {
         "t": 60
        },
        "shapes": [
         {
          "type": "line",
          "x0": 0,
          "x1": 1,
          "xref": "x domain",
          "y0": 566.9795918367347,
          "y1": 566.9795918367347,
          "yref": "y"
         }
        ],
        "template": {
         "data": {
          "bar": [
           {
            "error_x": {
             "color": "#2a3f5f"
            },
            "error_y": {
             "color": "#2a3f5f"
            },
            "marker": {
             "line": {
              "color": "#E5ECF6",
              "width": 0.5
             },
             "pattern": {
              "fillmode": "overlay",
              "size": 10,
              "solidity": 0.2
             }
            },
            "type": "bar"
           }
          ],
          "barpolar": [
           {
            "marker": {
             "line": {
              "color": "#E5ECF6",
              "width": 0.5
             },
             "pattern": {
              "fillmode": "overlay",
              "size": 10,
              "solidity": 0.2
             }
            },
            "type": "barpolar"
           }
          ],
          "carpet": [
           {
            "aaxis": {
             "endlinecolor": "#2a3f5f",
             "gridcolor": "white",
             "linecolor": "white",
             "minorgridcolor": "white",
             "startlinecolor": "#2a3f5f"
            },
            "baxis": {
             "endlinecolor": "#2a3f5f",
             "gridcolor": "white",
             "linecolor": "white",
             "minorgridcolor": "white",
             "startlinecolor": "#2a3f5f"
            },
            "type": "carpet"
           }
          ],
          "choropleth": [
           {
            "colorbar": {
             "outlinewidth": 0,
             "ticks": ""
            },
            "type": "choropleth"
           }
          ],
          "contour": [
           {
            "colorbar": {
             "outlinewidth": 0,
             "ticks": ""
            },
            "colorscale": [
             [
              0,
              "#0d0887"
             ],
             [
              0.1111111111111111,
              "#46039f"
             ],
             [
              0.2222222222222222,
              "#7201a8"
             ],
             [
              0.3333333333333333,
              "#9c179e"
             ],
             [
              0.4444444444444444,
              "#bd3786"
             ],
             [
              0.5555555555555556,
              "#d8576b"
             ],
             [
              0.6666666666666666,
              "#ed7953"
             ],
             [
              0.7777777777777778,
              "#fb9f3a"
             ],
             [
              0.8888888888888888,
              "#fdca26"
             ],
             [
              1,
              "#f0f921"
             ]
            ],
            "type": "contour"
           }
          ],
          "contourcarpet": [
           {
            "colorbar": {
             "outlinewidth": 0,
             "ticks": ""
            },
            "type": "contourcarpet"
           }
          ],
          "heatmap": [
           {
            "colorbar": {
             "outlinewidth": 0,
             "ticks": ""
            },
            "colorscale": [
             [
              0,
              "#0d0887"
             ],
             [
              0.1111111111111111,
              "#46039f"
             ],
             [
              0.2222222222222222,
              "#7201a8"
             ],
             [
              0.3333333333333333,
              "#9c179e"
             ],
             [
              0.4444444444444444,
              "#bd3786"
             ],
             [
              0.5555555555555556,
              "#d8576b"
             ],
             [
              0.6666666666666666,
              "#ed7953"
             ],
             [
              0.7777777777777778,
              "#fb9f3a"
             ],
             [
              0.8888888888888888,
              "#fdca26"
             ],
             [
              1,
              "#f0f921"
             ]
            ],
            "type": "heatmap"
           }
          ],
          "heatmapgl": [
           {
            "colorbar": {
             "outlinewidth": 0,
             "ticks": ""
            },
            "colorscale": [
             [
              0,
              "#0d0887"
             ],
             [
              0.1111111111111111,
              "#46039f"
             ],
             [
              0.2222222222222222,
              "#7201a8"
             ],
             [
              0.3333333333333333,
              "#9c179e"
             ],
             [
              0.4444444444444444,
              "#bd3786"
             ],
             [
              0.5555555555555556,
              "#d8576b"
             ],
             [
              0.6666666666666666,
              "#ed7953"
             ],
             [
              0.7777777777777778,
              "#fb9f3a"
             ],
             [
              0.8888888888888888,
              "#fdca26"
             ],
             [
              1,
              "#f0f921"
             ]
            ],
            "type": "heatmapgl"
           }
          ],
          "histogram": [
           {
            "marker": {
             "pattern": {
              "fillmode": "overlay",
              "size": 10,
              "solidity": 0.2
             }
            },
            "type": "histogram"
           }
          ],
          "histogram2d": [
           {
            "colorbar": {
             "outlinewidth": 0,
             "ticks": ""
            },
            "colorscale": [
             [
              0,
              "#0d0887"
             ],
             [
              0.1111111111111111,
              "#46039f"
             ],
             [
              0.2222222222222222,
              "#7201a8"
             ],
             [
              0.3333333333333333,
              "#9c179e"
             ],
             [
              0.4444444444444444,
              "#bd3786"
             ],
             [
              0.5555555555555556,
              "#d8576b"
             ],
             [
              0.6666666666666666,
              "#ed7953"
             ],
             [
              0.7777777777777778,
              "#fb9f3a"
             ],
             [
              0.8888888888888888,
              "#fdca26"
             ],
             [
              1,
              "#f0f921"
             ]
            ],
            "type": "histogram2d"
           }
          ],
          "histogram2dcontour": [
           {
            "colorbar": {
             "outlinewidth": 0,
             "ticks": ""
            },
            "colorscale": [
             [
              0,
              "#0d0887"
             ],
             [
              0.1111111111111111,
              "#46039f"
             ],
             [
              0.2222222222222222,
              "#7201a8"
             ],
             [
              0.3333333333333333,
              "#9c179e"
             ],
             [
              0.4444444444444444,
              "#bd3786"
             ],
             [
              0.5555555555555556,
              "#d8576b"
             ],
             [
              0.6666666666666666,
              "#ed7953"
             ],
             [
              0.7777777777777778,
              "#fb9f3a"
             ],
             [
              0.8888888888888888,
              "#fdca26"
             ],
             [
              1,
              "#f0f921"
             ]
            ],
            "type": "histogram2dcontour"
           }
          ],
          "mesh3d": [
           {
            "colorbar": {
             "outlinewidth": 0,
             "ticks": ""
            },
            "type": "mesh3d"
           }
          ],
          "parcoords": [
           {
            "line": {
             "colorbar": {
              "outlinewidth": 0,
              "ticks": ""
             }
            },
            "type": "parcoords"
           }
          ],
          "pie": [
           {
            "automargin": true,
            "type": "pie"
           }
          ],
          "scatter": [
           {
            "fillpattern": {
             "fillmode": "overlay",
             "size": 10,
             "solidity": 0.2
            },
            "type": "scatter"
           }
          ],
          "scatter3d": [
           {
            "line": {
             "colorbar": {
              "outlinewidth": 0,
              "ticks": ""
             }
            },
            "marker": {
             "colorbar": {
              "outlinewidth": 0,
              "ticks": ""
             }
            },
            "type": "scatter3d"
           }
          ],
          "scattercarpet": [
           {
            "marker": {
             "colorbar": {
              "outlinewidth": 0,
              "ticks": ""
             }
            },
            "type": "scattercarpet"
           }
          ],
          "scattergeo": [
           {
            "marker": {
             "colorbar": {
              "outlinewidth": 0,
              "ticks": ""
             }
            },
            "type": "scattergeo"
           }
          ],
          "scattergl": [
           {
            "marker": {
             "colorbar": {
              "outlinewidth": 0,
              "ticks": ""
             }
            },
            "type": "scattergl"
           }
          ],
          "scattermapbox": [
           {
            "marker": {
             "colorbar": {
              "outlinewidth": 0,
              "ticks": ""
             }
            },
            "type": "scattermapbox"
           }
          ],
          "scatterpolar": [
           {
            "marker": {
             "colorbar": {
              "outlinewidth": 0,
              "ticks": ""
             }
            },
            "type": "scatterpolar"
           }
          ],
          "scatterpolargl": [
           {
            "marker": {
             "colorbar": {
              "outlinewidth": 0,
              "ticks": ""
             }
            },
            "type": "scatterpolargl"
           }
          ],
          "scatterternary": [
           {
            "marker": {
             "colorbar": {
              "outlinewidth": 0,
              "ticks": ""
             }
            },
            "type": "scatterternary"
           }
          ],
          "surface": [
           {
            "colorbar": {
             "outlinewidth": 0,
             "ticks": ""
            },
            "colorscale": [
             [
              0,
              "#0d0887"
             ],
             [
              0.1111111111111111,
              "#46039f"
             ],
             [
              0.2222222222222222,
              "#7201a8"
             ],
             [
              0.3333333333333333,
              "#9c179e"
             ],
             [
              0.4444444444444444,
              "#bd3786"
             ],
             [
              0.5555555555555556,
              "#d8576b"
             ],
             [
              0.6666666666666666,
              "#ed7953"
             ],
             [
              0.7777777777777778,
              "#fb9f3a"
             ],
             [
              0.8888888888888888,
              "#fdca26"
             ],
             [
              1,
              "#f0f921"
             ]
            ],
            "type": "surface"
           }
          ],
          "table": [
           {
            "cells": {
             "fill": {
              "color": "#EBF0F8"
             },
             "line": {
              "color": "white"
             }
            },
            "header": {
             "fill": {
              "color": "#C8D4E3"
             },
             "line": {
              "color": "white"
             }
            },
            "type": "table"
           }
          ]
         },
         "layout": {
          "annotationdefaults": {
           "arrowcolor": "#2a3f5f",
           "arrowhead": 0,
           "arrowwidth": 1
          },
          "autotypenumbers": "strict",
          "coloraxis": {
           "colorbar": {
            "outlinewidth": 0,
            "ticks": ""
           }
          },
          "colorscale": {
           "diverging": [
            [
             0,
             "#8e0152"
            ],
            [
             0.1,
             "#c51b7d"
            ],
            [
             0.2,
             "#de77ae"
            ],
            [
             0.3,
             "#f1b6da"
            ],
            [
             0.4,
             "#fde0ef"
            ],
            [
             0.5,
             "#f7f7f7"
            ],
            [
             0.6,
             "#e6f5d0"
            ],
            [
             0.7,
             "#b8e186"
            ],
            [
             0.8,
             "#7fbc41"
            ],
            [
             0.9,
             "#4d9221"
            ],
            [
             1,
             "#276419"
            ]
           ],
           "sequential": [
            [
             0,
             "#0d0887"
            ],
            [
             0.1111111111111111,
             "#46039f"
            ],
            [
             0.2222222222222222,
             "#7201a8"
            ],
            [
             0.3333333333333333,
             "#9c179e"
            ],
            [
             0.4444444444444444,
             "#bd3786"
            ],
            [
             0.5555555555555556,
             "#d8576b"
            ],
            [
             0.6666666666666666,
             "#ed7953"
            ],
            [
             0.7777777777777778,
             "#fb9f3a"
            ],
            [
             0.8888888888888888,
             "#fdca26"
            ],
            [
             1,
             "#f0f921"
            ]
           ],
           "sequentialminus": [
            [
             0,
             "#0d0887"
            ],
            [
             0.1111111111111111,
             "#46039f"
            ],
            [
             0.2222222222222222,
             "#7201a8"
            ],
            [
             0.3333333333333333,
             "#9c179e"
            ],
            [
             0.4444444444444444,
             "#bd3786"
            ],
            [
             0.5555555555555556,
             "#d8576b"
            ],
            [
             0.6666666666666666,
             "#ed7953"
            ],
            [
             0.7777777777777778,
             "#fb9f3a"
            ],
            [
             0.8888888888888888,
             "#fdca26"
            ],
            [
             1,
             "#f0f921"
            ]
           ]
          },
          "colorway": [
           "#636efa",
           "#EF553B",
           "#00cc96",
           "#ab63fa",
           "#FFA15A",
           "#19d3f3",
           "#FF6692",
           "#B6E880",
           "#FF97FF",
           "#FECB52"
          ],
          "font": {
           "color": "#2a3f5f"
          },
          "geo": {
           "bgcolor": "white",
           "lakecolor": "white",
           "landcolor": "#E5ECF6",
           "showlakes": true,
           "showland": true,
           "subunitcolor": "white"
          },
          "hoverlabel": {
           "align": "left"
          },
          "hovermode": "closest",
          "mapbox": {
           "style": "light"
          },
          "paper_bgcolor": "white",
          "plot_bgcolor": "#E5ECF6",
          "polar": {
           "angularaxis": {
            "gridcolor": "white",
            "linecolor": "white",
            "ticks": ""
           },
           "bgcolor": "#E5ECF6",
           "radialaxis": {
            "gridcolor": "white",
            "linecolor": "white",
            "ticks": ""
           }
          },
          "scene": {
           "xaxis": {
            "backgroundcolor": "#E5ECF6",
            "gridcolor": "white",
            "gridwidth": 2,
            "linecolor": "white",
            "showbackground": true,
            "ticks": "",
            "zerolinecolor": "white"
           },
           "yaxis": {
            "backgroundcolor": "#E5ECF6",
            "gridcolor": "white",
            "gridwidth": 2,
            "linecolor": "white",
            "showbackground": true,
            "ticks": "",
            "zerolinecolor": "white"
           },
           "zaxis": {
            "backgroundcolor": "#E5ECF6",
            "gridcolor": "white",
            "gridwidth": 2,
            "linecolor": "white",
            "showbackground": true,
            "ticks": "",
            "zerolinecolor": "white"
           }
          },
          "shapedefaults": {
           "line": {
            "color": "#2a3f5f"
           }
          },
          "ternary": {
           "aaxis": {
            "gridcolor": "white",
            "linecolor": "white",
            "ticks": ""
           },
           "baxis": {
            "gridcolor": "white",
            "linecolor": "white",
            "ticks": ""
           },
           "bgcolor": "#E5ECF6",
           "caxis": {
            "gridcolor": "white",
            "linecolor": "white",
            "ticks": ""
           }
          },
          "title": {
           "x": 0.05
          },
          "xaxis": {
           "automargin": true,
           "gridcolor": "white",
           "linecolor": "white",
           "ticks": "",
           "title": {
            "standoff": 15
           },
           "zerolinecolor": "white",
           "zerolinewidth": 2
          },
          "yaxis": {
           "automargin": true,
           "gridcolor": "white",
           "linecolor": "white",
           "ticks": "",
           "title": {
            "standoff": 15
           },
           "zerolinecolor": "white",
           "zerolinewidth": 2
          }
         }
        },
        "title": {
         "text": "Line Plot CO2 Levels \n Aula: aula 1",
         "x": 0.5
        },
        "xaxis": {
         "anchor": "y",
         "domain": [
          0,
          1
         ],
         "title": {
          "text": "Date"
         }
        },
        "yaxis": {
         "anchor": "x",
         "domain": [
          0,
          1
         ],
         "title": {
          "text": "Nivel de CO2"
         }
        }
       }
      }
     },
     "metadata": {},
     "output_type": "display_data"
    }
   ],
   "source": [
    "import plotly.express as px\n",
    "from plotly.subplots import make_subplots\n",
    "\n",
    "fig = make_subplots(rows=2, cols=1,\n",
    "                    shared_xaxes=True,\n",
    "                    vertical_spacing=0.02)\n",
    "aula = 'aula 1'\n",
    "df = df[df['aula'] == f'{aula}']\n",
    "fig = px.line(df, x=\"datetime\", y=\"medicion\",  color='aula')\n",
    "\n",
    "fig.update_layout(title_text=f'Line Plot CO2 Levels \\n Aula: {aula}', title_x=0.5,xaxis_title =  'Date',yaxis_title = 'Nivel de CO2',legend_title = 'Aula')\n",
    "fig.add_hline(y=df['medicion'].mean())\n",
    "\n",
    "fig.show()\n"
   ]
  },
  {
   "cell_type": "code",
   "execution_count": 66,
   "metadata": {},
   "outputs": [
    {
     "data": {
      "text/plain": [
       "398.0"
      ]
     },
     "execution_count": 66,
     "metadata": {},
     "output_type": "execute_result"
    }
   ],
   "source": []
  },
  {
   "cell_type": "code",
   "execution_count": 45,
   "metadata": {},
   "outputs": [
    {
     "data": {
      "text/html": [
       "<div>\n",
       "<style scoped>\n",
       "    .dataframe tbody tr th:only-of-type {\n",
       "        vertical-align: middle;\n",
       "    }\n",
       "\n",
       "    .dataframe tbody tr th {\n",
       "        vertical-align: top;\n",
       "    }\n",
       "\n",
       "    .dataframe thead th {\n",
       "        text-align: right;\n",
       "    }\n",
       "</style>\n",
       "<table border=\"1\" class=\"dataframe\">\n",
       "  <thead>\n",
       "    <tr style=\"text-align: right;\">\n",
       "      <th></th>\n",
       "      <th>aula</th>\n",
       "      <th>medicion</th>\n",
       "      <th>datetime</th>\n",
       "      <th>sensor</th>\n",
       "    </tr>\n",
       "  </thead>\n",
       "  <tbody>\n",
       "    <tr>\n",
       "      <th>262</th>\n",
       "      <td>aula 1</td>\n",
       "      <td>514</td>\n",
       "      <td>2023-02-19</td>\n",
       "      <td>aula 1_sensor</td>\n",
       "    </tr>\n",
       "    <tr>\n",
       "      <th>261</th>\n",
       "      <td>aula 1</td>\n",
       "      <td>585</td>\n",
       "      <td>2023-02-18</td>\n",
       "      <td>aula 1_sensor</td>\n",
       "    </tr>\n",
       "    <tr>\n",
       "      <th>260</th>\n",
       "      <td>aula 1</td>\n",
       "      <td>576</td>\n",
       "      <td>2023-02-17</td>\n",
       "      <td>aula 1_sensor</td>\n",
       "    </tr>\n",
       "    <tr>\n",
       "      <th>259</th>\n",
       "      <td>aula 1</td>\n",
       "      <td>517</td>\n",
       "      <td>2023-02-16</td>\n",
       "      <td>aula 1_sensor</td>\n",
       "    </tr>\n",
       "    <tr>\n",
       "      <th>258</th>\n",
       "      <td>aula 1</td>\n",
       "      <td>561</td>\n",
       "      <td>2023-02-15</td>\n",
       "      <td>aula 1_sensor</td>\n",
       "    </tr>\n",
       "    <tr>\n",
       "      <th>...</th>\n",
       "      <td>...</td>\n",
       "      <td>...</td>\n",
       "      <td>...</td>\n",
       "      <td>...</td>\n",
       "    </tr>\n",
       "    <tr>\n",
       "      <th>4</th>\n",
       "      <td>aula 1</td>\n",
       "      <td>551</td>\n",
       "      <td>2022-06-06</td>\n",
       "      <td>aula 1_sensor</td>\n",
       "    </tr>\n",
       "    <tr>\n",
       "      <th>3</th>\n",
       "      <td>aula 1</td>\n",
       "      <td>596</td>\n",
       "      <td>2022-06-05</td>\n",
       "      <td>aula 1_sensor</td>\n",
       "    </tr>\n",
       "    <tr>\n",
       "      <th>2</th>\n",
       "      <td>aula 1</td>\n",
       "      <td>584</td>\n",
       "      <td>2022-06-04</td>\n",
       "      <td>aula 1_sensor</td>\n",
       "    </tr>\n",
       "    <tr>\n",
       "      <th>1</th>\n",
       "      <td>aula 1</td>\n",
       "      <td>538</td>\n",
       "      <td>2022-06-03</td>\n",
       "      <td>aula 1_sensor</td>\n",
       "    </tr>\n",
       "    <tr>\n",
       "      <th>0</th>\n",
       "      <td>aula 1</td>\n",
       "      <td>562</td>\n",
       "      <td>2022-06-02</td>\n",
       "      <td>aula 1_sensor</td>\n",
       "    </tr>\n",
       "  </tbody>\n",
       "</table>\n",
       "<p>263 rows × 4 columns</p>\n",
       "</div>"
      ],
      "text/plain": [
       "       aula  medicion   datetime         sensor\n",
       "262  aula 1       514 2023-02-19  aula 1_sensor\n",
       "261  aula 1       585 2023-02-18  aula 1_sensor\n",
       "260  aula 1       576 2023-02-17  aula 1_sensor\n",
       "259  aula 1       517 2023-02-16  aula 1_sensor\n",
       "258  aula 1       561 2023-02-15  aula 1_sensor\n",
       "..      ...       ...        ...            ...\n",
       "4    aula 1       551 2022-06-06  aula 1_sensor\n",
       "3    aula 1       596 2022-06-05  aula 1_sensor\n",
       "2    aula 1       584 2022-06-04  aula 1_sensor\n",
       "1    aula 1       538 2022-06-03  aula 1_sensor\n",
       "0    aula 1       562 2022-06-02  aula 1_sensor\n",
       "\n",
       "[263 rows x 4 columns]"
      ]
     },
     "execution_count": 45,
     "metadata": {},
     "output_type": "execute_result"
    }
   ],
   "source": [
    "df_temp = df[df['aula'] == 'aula 1']\n",
    "df_temp.sort_values(by = ['datetime'], ascending = False, inplace =True)\n",
    "df_temp"
   ]
  },
  {
   "cell_type": "code",
   "execution_count": null,
   "metadata": {},
   "outputs": [],
   "source": []
  }
 ],
 "metadata": {
  "kernelspec": {
   "display_name": "env",
   "language": "python",
   "name": "python3"
  },
  "language_info": {
   "codemirror_mode": {
    "name": "ipython",
    "version": 3
   },
   "file_extension": ".py",
   "mimetype": "text/x-python",
   "name": "python",
   "nbconvert_exporter": "python",
   "pygments_lexer": "ipython3",
   "version": "3.8.9"
  },
  "orig_nbformat": 4,
  "vscode": {
   "interpreter": {
    "hash": "bd601f75a47a12c98fe207706534a56962060cac904617878fdec1d29619b601"
   }
  }
 },
 "nbformat": 4,
 "nbformat_minor": 2
}
