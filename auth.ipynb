{
 "cells": [
  {
   "cell_type": "code",
   "execution_count": null,
   "metadata": {},
   "outputs": [],
   "source": [
    "import pandas as pd\n"
   ]
  },
  {
   "cell_type": "code",
   "execution_count": null,
   "metadata": {},
   "outputs": [],
   "source": [
    "lista = [{\n",
    "    \"user\":\"ivan\",\n",
    "    \"password\":\"ivan123\"\n",
    "},\n",
    "{\n",
    "    \"user\":\"javier\",\n",
    "    \"password\":\"javier123\"\n",
    "}\n",
    "]\n",
    "\n",
    "df = pd.DataFrame(lista)"
   ]
  },
  {
   "cell_type": "code",
   "execution_count": null,
   "metadata": {},
   "outputs": [],
   "source": [
    "with open('auth.json', 'w') as f:\n",
    "    f.write(df.to_json( orient='records', lines = True))\n"
   ]
  },
  {
   "cell_type": "code",
   "execution_count": null,
   "metadata": {},
   "outputs": [],
   "source": [
    "from datetime import datetime\n",
    "user_nickname = 'carlos'\n",
    "user_name = 'carlos jose'\n",
    "user_last_name = 'maestre muza'\n",
    "user_password = 'carlos123'\n",
    "user_date_registration = datetime.now().strftime('%d/%m/%Y')\n",
    "user_role = 'Administrator'\n",
    "\n",
    "def new_user(user,password,name,last_name,role,date_login):\n",
    "    new_user_data = {\n",
    "        'user' : user,\n",
    "        'password' : password,\n",
    "        'name' : name,\n",
    "        'last_name' : last_name,\n",
    "        'role' : role,\n",
    "        'date_login' : date_login,\n",
    "    }\n",
    "\n",
    "    df_temp = pd.DataFrame([new_user_data])\n",
    "    df = pd.read_json('auth.json', lines=True)\n",
    "    df = pd.concat([df,df_temp])\n",
    "\n",
    "    with open('auth.json', 'w') as f:\n",
    "        f.write(df.to_json( orient='records', lines = True))"
   ]
  },
  {
   "cell_type": "code",
   "execution_count": null,
   "metadata": {},
   "outputs": [],
   "source": [
    "from db import create_new_user\n",
    "x = [{'user': 'ivan',\n",
    "  'password': 'ivan123',\n",
    "  'name': 'Ivan Daniel',\n",
    "  'last_name': 'Maestre Muza',\n",
    "  'role': 'administrator'},\n",
    " {'user': 'javier',\n",
    "  'password': 'javier123',\n",
    "  'name': 'Javier Javier',\n",
    "  'last_name': 'Daza Olivella',\n",
    "  'role': 'administrator'},\n",
    " {'user': 'eladio',\n",
    "  'password': 'eladio123',\n",
    "  'name': 'Eladio',\n",
    "  'last_name': 'Carrión Morales',\n",
    "  'role': 'viewer'}]\n",
    "\n",
    "for i in x:\n",
    "    user_name = i['user']\n",
    "    password = i['password']\n",
    "    name = i['name']\n",
    "    last_name = i['last_name']\n",
    "    role = i['role']\n",
    "    create_new_user(user_name,password,name,last_name,role)"
   ]
  },
  {
   "cell_type": "code",
   "execution_count": null,
   "metadata": {},
   "outputs": [],
   "source": [
    "\n",
    "\n",
    "def authentication(user:str, password:str):\n",
    "    response = False\n",
    "    df = pd.read_json('auth.json', lines=True)\n",
    "    df_dict = df.to_dict(orient='records')\n",
    "\n",
    "    for dictionary in df_dict:\n",
    "\n",
    "        if dictionary['user'] == user and dictionary['password'] == password:\n",
    "            response = True\n",
    "\n",
    "    return response\n",
    "            \n",
    "def fetch_all_users():\n",
    "    \"\"\"Returns a dict of all users\"\"\"\n",
    "    res = db.fetch()\n",
    "    return res.items\n"
   ]
  },
  {
   "cell_type": "code",
   "execution_count": null,
   "metadata": {},
   "outputs": [],
   "source": [
    "user = 'javier'\n",
    "password = 'javier123'\n",
    "\n",
    "authentication(user=user,password=password)"
   ]
  },
  {
   "cell_type": "code",
   "execution_count": null,
   "metadata": {},
   "outputs": [],
   "source": [
    "df = pd.read_json('auth.json', lines=True)\n",
    "df_dict = df.to_dict(orient='records')\n",
    "df_dict"
   ]
  },
  {
   "cell_type": "code",
   "execution_count": null,
   "metadata": {},
   "outputs": [],
   "source": [
    "from deta import Deta\n",
    "from datetime import datetime\n",
    "DETA_KEY = 'e0jeqtjtszl_L996atb2Q4i8HKS36bU6drgU6tt1HYSq' \n",
    "\n",
    "# Initialize with a project key\n",
    "\n",
    "deta = Deta(DETA_KEY)\n",
    "\n",
    "\n",
    "# This is how to create/connect a database\n",
    "db = deta.Base(\"users\")\n",
    "\n",
    "def create_new_user(user_name,password,name,last_name,role):\n",
    "    # create new user\n",
    "    date_login = datetime.now().strftime('%d-%m-%Y')\n",
    "    return db.put({\"key\":user_name, \"password\":password, \"name\":name.title().strip(), \"last_name\": last_name.title().strip(),\"role\": role.title().strip(),\"date_login\":date_login})\n",
    "\n",
    "\n",
    "def update_user(user_name,password,name,last_name,role):\n",
    "    return db.update({\"password\":password, \"name\":name.title().strip(), \"last_name\": last_name.title().strip(),\"role\": role.title().strip()}, key = user_name)\n",
    "\n",
    "def fetch_all_users():\n",
    "    \"\"\"Returns a dict of all users\"\"\"\n",
    "    res = db.fetch()\n",
    "    return res.items\n",
    "\n",
    "\n",
    "def get_user(user_name:str):\n",
    "    return db.get(user_name)\n",
    "\n",
    "\n",
    "def authentication(user_name_input:str, password_input):\n",
    "    user_fetched = get_user(user_name_input)\n",
    "    if user_fetched != None:\n",
    "        password_fetched = user_fetched['password']\n",
    "        if password_input == password_fetched:\n",
    "            password = user_fetched['password']\n",
    "            name = user_fetched['name']\n",
    "            last_name = user_fetched['last_name']\n",
    "            role = user_fetched['role']\n",
    "            auth_flag = True\n",
    "            return auth_flag,password,name,last_name,role\n",
    "        else:\n",
    "            password = ''\n",
    "            name = ''\n",
    "            last_name = ''\n",
    "            role = ''\n",
    "            auth_flag = False\n",
    "            return auth_flag,password,name,last_name,role\n",
    "\n",
    "\n"
   ]
  },
  {
   "cell_type": "code",
   "execution_count": null,
   "metadata": {},
   "outputs": [],
   "source": [
    "key = \"ivan\"\n",
    "password = \"ivan123\"\n",
    "name = \"Ivan daniel\"\n",
    "last_name = \"maestre muza\"\n",
    "role = \"administrator\"\n",
    "\n",
    "\n",
    "# if get_user(key) != None:\n",
    "#     auth_flag,password,name,last_name,role = authentication(user_name_input= key, password_input = password)\n",
    "# else:\n",
    "#     print('The user dont exists')\n",
    "create_new_user(key,password,name,last_name,role)"
   ]
  },
  {
   "cell_type": "code",
   "execution_count": null,
   "metadata": {},
   "outputs": [],
   "source": [
    "def change_password(user_name_input,password_input,new_password_input:str):\n",
    "    user_fetched = get_user(user_name_input)\n",
    "    if user_fetched != None:\n",
    "        try:\n",
    "            db.update({\"password\":password_input},key=user_name_input)\n",
    "            return True\n",
    "        except Exception as e:\n",
    "            print(e)\n",
    "            return False"
   ]
  },
  {
   "cell_type": "code",
   "execution_count": null,
   "metadata": {},
   "outputs": [],
   "source": [
    "user_name_input = 'efra'\n",
    "password_input = 'efra123'\n",
    "new_password_input = 'efra124'\n",
    "\n",
    "\n",
    "user_fetched = get_user(user_name_input)\n",
    "if user_fetched != None:\n",
    "    user_dict = db.get(user_name_input)\n",
    "    if user_dict['password'] == password_input:\n",
    "        try:\n",
    "            db.update({\"password\":new_password_input},key=user_name_input)\n",
    "            retorno =  True\n",
    "        except Exception as e:\n",
    "            print(e)\n",
    "            retorno =  False\n",
    "else:\n",
    "    retorno = False"
   ]
  },
  {
   "cell_type": "code",
   "execution_count": null,
   "metadata": {},
   "outputs": [],
   "source": [
    "retorno"
   ]
  },
  {
   "cell_type": "code",
   "execution_count": null,
   "metadata": {},
   "outputs": [],
   "source": [
    "x = db.update({\"password\":'efra123'},key='efra')"
   ]
  },
  {
   "cell_type": "code",
   "execution_count": null,
   "metadata": {},
   "outputs": [],
   "source": [
    "db.get('efra')"
   ]
  },
  {
   "cell_type": "code",
   "execution_count": null,
   "metadata": {},
   "outputs": [],
   "source": [
    "from db import change_password\n",
    "change_password('efra','efra124','eee')"
   ]
  },
  {
   "cell_type": "code",
   "execution_count": null,
   "metadata": {},
   "outputs": [],
   "source": [
    "x = pd.DataFrame(fetch_all_users())\n",
    "x = x[x['key'] == 'ivan']\n",
    "y = x.to_dict(orient='records')\n",
    "y"
   ]
  },
  {
   "cell_type": "code",
   "execution_count": null,
   "metadata": {},
   "outputs": [],
   "source": [
    "import random\n",
    "from datetime import datetime, timedelta\n",
    "aulas = ['aula 1','aula 2','aula 3','aula 4','aula 5']\n",
    "\n",
    "dict_dummy = []\n",
    "start_date = datetime.strptime('01/01/2023', '%d/%m/%Y')\n",
    "for i in aulas:\n",
    "    for dia in range(1,50):\n",
    "        dict_ = {\n",
    "            'aula':i,\n",
    "            'medicion': random.randint(500,1000),\n",
    "            'datetime': start_date + timedelta(dia),\n",
    "            'sensor' : f'{i}_sensor'\n",
    "        }\n",
    "        dict_dummy.append(dict_)\n",
    "\n",
    "start_date = datetime.strptime('01/01/2023', '%d/%m/%Y')\n",
    "end_date = datetime.strptime('20/02/2023', '%d/%m/%Y')\n",
    "end_date - start_date"
   ]
  },
  {
   "cell_type": "code",
   "execution_count": null,
   "metadata": {},
   "outputs": [],
   "source": [
    "df = pd.DataFrame(dict_dummy)"
   ]
  },
  {
   "cell_type": "code",
   "execution_count": null,
   "metadata": {},
   "outputs": [],
   "source": [
    "import plotly.express as px\n",
    "from plotly.subplots import make_subplots\n",
    "\n",
    "fig = make_subplots(rows=2, cols=1,\n",
    "                    shared_xaxes=True,\n",
    "                    vertical_spacing=0.02)\n",
    "aula = 'aula 1'\n",
    "df = df[df['aula'] == f'{aula}']\n",
    "fig = px.line(df, x=\"datetime\", y=\"medicion\",  color='aula')\n",
    "\n",
    "fig.update_layout(title_text=f'Line Plot CO2 Levels \\n Aula: {aula}', title_x=0.5,xaxis_title =  'Date',yaxis_title = 'Nivel de CO2',legend_title = 'Aula')\n",
    "fig.add_hline(y=800,line=dict(color=\"#EB4747\"))\n",
    "\n",
    "fig.show()\n"
   ]
  },
  {
   "cell_type": "code",
   "execution_count": null,
   "metadata": {},
   "outputs": [],
   "source": [
    "df_temp = df[df['aula'] == 'aula 4']\n",
    "df_temp['medicion'].mean()"
   ]
  },
  {
   "cell_type": "code",
   "execution_count": null,
   "metadata": {},
   "outputs": [],
   "source": []
  },
  {
   "cell_type": "code",
   "execution_count": null,
   "metadata": {},
   "outputs": [],
   "source": [
    "df_temp = df[df['aula'] == 'aula 1']\n",
    "df_temp.sort_values(by = ['datetime'], ascending = False, inplace =True)\n",
    "df_temp.head()"
   ]
  },
  {
   "cell_type": "code",
   "execution_count": null,
   "metadata": {},
   "outputs": [],
   "source": [
    "fig = px.histogram(df_temp, x=\"medicion\", nbins=20)\n",
    "fig.update_layout(title_text=f'Histogram Plot CO2 Levels \\n Aula: {aula}', title_x=0.5,xaxis_title =  'Date',yaxis_title = 'Nivel de CO2',legend_title = 'Aula')\n",
    "fig.show()"
   ]
  },
  {
   "cell_type": "code",
   "execution_count": null,
   "metadata": {},
   "outputs": [],
   "source": [
    "fig = px.bar(df_temp, x='datetime', y='medicion')\n",
    "fig.update_traces(marker_color='green')\n",
    "fig.show()"
   ]
  },
  {
   "cell_type": "code",
   "execution_count": null,
   "metadata": {},
   "outputs": [],
   "source": [
    "pd.DataFrame(fetch_all_users())"
   ]
  },
  {
   "cell_type": "code",
   "execution_count": null,
   "metadata": {},
   "outputs": [],
   "source": [
    "aulas = ['aula 1','aula 2','aula 3','aula 4','aula 5','aula 6','aula 7','aula 8','aula 9']\n",
    "edificios = ['CAMILO TORRES', 'CAPRUIS Y FAVUIS','CENTIC','DANIEL CASAS','CENIVAM']\n",
    "from datetime import datetime, timedelta\n",
    "import random\n",
    "dict_dummy = []\n",
    "start_date = datetime.strptime('31/12/2022', '%d/%m/%Y')\n",
    "for i in aulas:\n",
    "    piso = 0\n",
    "    n_aula = int(i.split(' ')[1] ) \n",
    "    if n_aula <=3:\n",
    "        piso = 1\n",
    "    elif n_aula >3 and n_aula <=6:\n",
    "        piso = 2\n",
    "    elif n_aula > 6 :\n",
    "        piso = 3\n",
    "    \n",
    "    for dia in range(1,51):\n",
    "        edificio = random.choice(edificios)\n",
    "        dict_ = {\n",
    "            'aula':i,\n",
    "            'medicion': random.randint(400,1000),\n",
    "            'datetime': start_date + timedelta(dia),\n",
    "            'sensor' : f'{i}_sensor',\n",
    "            'edificio' : edificio,\n",
    "            'piso' : piso,\n",
    "        }\n",
    "        dict_dummy.append(dict_)\n",
    "    df = pd.DataFrame(dict_dummy)"
   ]
  },
  {
   "cell_type": "code",
   "execution_count": null,
   "metadata": {},
   "outputs": [],
   "source": [
    "df.groupby(['edificio'], as_index = False)['aula'].max()"
   ]
  },
  {
   "cell_type": "code",
   "execution_count": null,
   "metadata": {},
   "outputs": [],
   "source": [
    "x = df[(df['edificio'] == 'CENTIC') & (df['piso'] == 1)]\n",
    "df_temp_dict = x.to_dict(orient = 'records')\n",
    "for i in df_temp_dict:\n",
    "    print(i['aula'])"
   ]
  },
  {
   "cell_type": "code",
   "execution_count": 1,
   "metadata": {},
   "outputs": [],
   "source": [
    "import requests"
   ]
  },
  {
   "cell_type": "code",
   "execution_count": 5,
   "metadata": {},
   "outputs": [
    {
     "ename": "InvalidSchema",
     "evalue": "No connection adapters were found for '\"localhost:8091/device/?uuid=1'",
     "output_type": "error",
     "traceback": [
      "\u001b[0;31m---------------------------------------------------------------------------\u001b[0m",
      "\u001b[0;31mInvalidSchema\u001b[0m                             Traceback (most recent call last)",
      "Cell \u001b[0;32mIn[5], line 1\u001b[0m\n\u001b[0;32m----> 1\u001b[0m r \u001b[39m=\u001b[39m requests\u001b[39m.\u001b[39;49mget(\u001b[39m'\u001b[39;49m\u001b[39m\"\u001b[39;49m\u001b[39mlocalhost:8091/device/?uuid=1\u001b[39;49m\u001b[39m'\u001b[39;49m)\n",
      "File \u001b[0;32m/opt/homebrew/Caskroom/miniforge/base/envs/pyc/lib/python3.8/site-packages/requests/api.py:73\u001b[0m, in \u001b[0;36mget\u001b[0;34m(url, params, **kwargs)\u001b[0m\n\u001b[1;32m     62\u001b[0m \u001b[39mdef\u001b[39;00m \u001b[39mget\u001b[39m(url, params\u001b[39m=\u001b[39m\u001b[39mNone\u001b[39;00m, \u001b[39m*\u001b[39m\u001b[39m*\u001b[39mkwargs):\n\u001b[1;32m     63\u001b[0m \u001b[39m    \u001b[39m\u001b[39mr\u001b[39m\u001b[39m\"\"\"Sends a GET request.\u001b[39;00m\n\u001b[1;32m     64\u001b[0m \n\u001b[1;32m     65\u001b[0m \u001b[39m    :param url: URL for the new :class:`Request` object.\u001b[39;00m\n\u001b[0;32m   (...)\u001b[0m\n\u001b[1;32m     70\u001b[0m \u001b[39m    :rtype: requests.Response\u001b[39;00m\n\u001b[1;32m     71\u001b[0m \u001b[39m    \"\"\"\u001b[39;00m\n\u001b[0;32m---> 73\u001b[0m     \u001b[39mreturn\u001b[39;00m request(\u001b[39m\"\u001b[39;49m\u001b[39mget\u001b[39;49m\u001b[39m\"\u001b[39;49m, url, params\u001b[39m=\u001b[39;49mparams, \u001b[39m*\u001b[39;49m\u001b[39m*\u001b[39;49mkwargs)\n",
      "File \u001b[0;32m/opt/homebrew/Caskroom/miniforge/base/envs/pyc/lib/python3.8/site-packages/requests/api.py:59\u001b[0m, in \u001b[0;36mrequest\u001b[0;34m(method, url, **kwargs)\u001b[0m\n\u001b[1;32m     55\u001b[0m \u001b[39m# By using the 'with' statement we are sure the session is closed, thus we\u001b[39;00m\n\u001b[1;32m     56\u001b[0m \u001b[39m# avoid leaving sockets open which can trigger a ResourceWarning in some\u001b[39;00m\n\u001b[1;32m     57\u001b[0m \u001b[39m# cases, and look like a memory leak in others.\u001b[39;00m\n\u001b[1;32m     58\u001b[0m \u001b[39mwith\u001b[39;00m sessions\u001b[39m.\u001b[39mSession() \u001b[39mas\u001b[39;00m session:\n\u001b[0;32m---> 59\u001b[0m     \u001b[39mreturn\u001b[39;00m session\u001b[39m.\u001b[39;49mrequest(method\u001b[39m=\u001b[39;49mmethod, url\u001b[39m=\u001b[39;49murl, \u001b[39m*\u001b[39;49m\u001b[39m*\u001b[39;49mkwargs)\n",
      "File \u001b[0;32m/opt/homebrew/Caskroom/miniforge/base/envs/pyc/lib/python3.8/site-packages/requests/sessions.py:587\u001b[0m, in \u001b[0;36mSession.request\u001b[0;34m(self, method, url, params, data, headers, cookies, files, auth, timeout, allow_redirects, proxies, hooks, stream, verify, cert, json)\u001b[0m\n\u001b[1;32m    582\u001b[0m send_kwargs \u001b[39m=\u001b[39m {\n\u001b[1;32m    583\u001b[0m     \u001b[39m\"\u001b[39m\u001b[39mtimeout\u001b[39m\u001b[39m\"\u001b[39m: timeout,\n\u001b[1;32m    584\u001b[0m     \u001b[39m\"\u001b[39m\u001b[39mallow_redirects\u001b[39m\u001b[39m\"\u001b[39m: allow_redirects,\n\u001b[1;32m    585\u001b[0m }\n\u001b[1;32m    586\u001b[0m send_kwargs\u001b[39m.\u001b[39mupdate(settings)\n\u001b[0;32m--> 587\u001b[0m resp \u001b[39m=\u001b[39m \u001b[39mself\u001b[39;49m\u001b[39m.\u001b[39;49msend(prep, \u001b[39m*\u001b[39;49m\u001b[39m*\u001b[39;49msend_kwargs)\n\u001b[1;32m    589\u001b[0m \u001b[39mreturn\u001b[39;00m resp\n",
      "File \u001b[0;32m/opt/homebrew/Caskroom/miniforge/base/envs/pyc/lib/python3.8/site-packages/requests/sessions.py:695\u001b[0m, in \u001b[0;36mSession.send\u001b[0;34m(self, request, **kwargs)\u001b[0m\n\u001b[1;32m    692\u001b[0m hooks \u001b[39m=\u001b[39m request\u001b[39m.\u001b[39mhooks\n\u001b[1;32m    694\u001b[0m \u001b[39m# Get the appropriate adapter to use\u001b[39;00m\n\u001b[0;32m--> 695\u001b[0m adapter \u001b[39m=\u001b[39m \u001b[39mself\u001b[39;49m\u001b[39m.\u001b[39;49mget_adapter(url\u001b[39m=\u001b[39;49mrequest\u001b[39m.\u001b[39;49murl)\n\u001b[1;32m    697\u001b[0m \u001b[39m# Start time (approximately) of the request\u001b[39;00m\n\u001b[1;32m    698\u001b[0m start \u001b[39m=\u001b[39m preferred_clock()\n",
      "File \u001b[0;32m/opt/homebrew/Caskroom/miniforge/base/envs/pyc/lib/python3.8/site-packages/requests/sessions.py:792\u001b[0m, in \u001b[0;36mSession.get_adapter\u001b[0;34m(self, url)\u001b[0m\n\u001b[1;32m    789\u001b[0m         \u001b[39mreturn\u001b[39;00m adapter\n\u001b[1;32m    791\u001b[0m \u001b[39m# Nothing matches :-/\u001b[39;00m\n\u001b[0;32m--> 792\u001b[0m \u001b[39mraise\u001b[39;00m InvalidSchema(\u001b[39mf\u001b[39m\u001b[39m\"\u001b[39m\u001b[39mNo connection adapters were found for \u001b[39m\u001b[39m{\u001b[39;00murl\u001b[39m!r}\u001b[39;00m\u001b[39m\"\u001b[39m)\n",
      "\u001b[0;31mInvalidSchema\u001b[0m: No connection adapters were found for '\"localhost:8091/device/?uuid=1'"
     ]
    }
   ],
   "source": [
    "r = requests.get('\"localhost:8091/device/?uuid=1')"
   ]
  },
  {
   "cell_type": "code",
   "execution_count": null,
   "metadata": {},
   "outputs": [],
   "source": []
  }
 ],
 "metadata": {
  "kernelspec": {
   "display_name": "pyc",
   "language": "python",
   "name": "python3"
  },
  "language_info": {
   "codemirror_mode": {
    "name": "ipython",
    "version": 3
   },
   "file_extension": ".py",
   "mimetype": "text/x-python",
   "name": "python",
   "nbconvert_exporter": "python",
   "pygments_lexer": "ipython3",
   "version": "3.8.8"
  },
  "orig_nbformat": 4,
  "vscode": {
   "interpreter": {
    "hash": "9c26e7921ecc5554266a38c533ace0b5c3fd7c0f69f2505508f339b9ceb6dd97"
   }
  }
 },
 "nbformat": 4,
 "nbformat_minor": 2
}
