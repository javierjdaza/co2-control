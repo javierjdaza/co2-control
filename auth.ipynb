{
 "cells": [
  {
   "cell_type": "code",
   "execution_count": 2,
   "metadata": {},
   "outputs": [],
   "source": [
    "import pandas as pd\n",
    "from deta import Deta\n",
    "import time\n",
    "import random\n",
    "from datetime import datetime, timedelta"
   ]
  },
  {
   "cell_type": "code",
   "execution_count": 98,
   "metadata": {},
   "outputs": [],
   "source": [
    "DETA_KEY = 'e0jeqtjtszl_L996atb2Q4i8HKS36bU6drgU6tt1HYSq' \n",
    "\n",
    "# Initialize with a project key\n",
    "deta = Deta(DETA_KEY)\n",
    "\n",
    "\n",
    "# This is how to create/connect a database\n",
    "db = deta.Base(\"data_co2\")\n",
    "# db = deta.Base(\"users\")"
   ]
  },
  {
   "cell_type": "code",
   "execution_count": 99,
   "metadata": {},
   "outputs": [],
   "source": [
    "def fetch_all_co2_data():\n",
    "    db = deta.Base(\"data_co2\")\n",
    "    res = db.fetch()\n",
    "    all_items = res.items\n",
    "\n",
    "    while res.last:\n",
    "        res = db.fetch(last=res.last)\n",
    "        all_items += res.items\n",
    "    return all_items\n",
    "\n",
    "df = pd.DataFrame(fetch_all_co2_data())\n"
   ]
  },
  {
   "cell_type": "code",
   "execution_count": 12,
   "metadata": {},
   "outputs": [],
   "source": [
    "data_co2['datetime'] = pd.to_datetime(data_co2['datetime'])"
   ]
  },
  {
   "cell_type": "code",
   "execution_count": null,
   "metadata": {},
   "outputs": [],
   "source": [
    "data = fetch_all_co2_data()\n",
    "df_data_co2 = pd.DataFrame(data_co2)\n",
    "df_data_co2"
   ]
  },
  {
   "cell_type": "code",
   "execution_count": 19,
   "metadata": {},
   "outputs": [],
   "source": [
    "def create_dummy_date():\n",
    "\n",
    "    aulas = ['aula 1','aula 2','aula 3','aula 4','aula 5','aula 6','aula 7','aula 8','aula 9']\n",
    "    edificios = ['CAMILO TORRES', 'CAPRUIS Y FAVUIS','CENTIC','DANIEL CASAS','CENIVAM']\n",
    "\n",
    "\n",
    "    dict_dummy = []\n",
    "    start_date = datetime.strptime('01/06/2022', '%d/%m/%Y')\n",
    "    for i in aulas:\n",
    "        piso = 0\n",
    "        n_aula = int(i.split(' ')[1] ) \n",
    "        if n_aula <=3:\n",
    "            piso = 1\n",
    "        elif n_aula >3 and n_aula <=6:\n",
    "            piso = 2\n",
    "        elif n_aula > 6 :\n",
    "            piso = 3\n",
    "        \n",
    "        for dia in range(1,300):\n",
    "            edificio = random.choice(edificios)\n",
    "            dict_ = {\n",
    "                'aula':i,\n",
    "                'medicion': random.randint(400,1200),\n",
    "                'datetime': start_date + timedelta(dia),\n",
    "                'sensor' : f'{i}_sensor',\n",
    "                'edificio' : edificio,\n",
    "                'piso' : piso,\n",
    "            }\n",
    "            dict_dummy.append(dict_)\n",
    "        df = pd.DataFrame(dict_dummy)\n",
    "    return df"
   ]
  },
  {
   "cell_type": "code",
   "execution_count": 21,
   "metadata": {},
   "outputs": [
    {
     "data": {
      "text/plain": [
       "2691"
      ]
     },
     "execution_count": 21,
     "metadata": {},
     "output_type": "execute_result"
    }
   ],
   "source": [
    "df = create_dummy_date()\n",
    "df.datetime.max()\n",
    "len(df)"
   ]
  },
  {
   "cell_type": "code",
   "execution_count": 25,
   "metadata": {},
   "outputs": [
    {
     "name": "stdout",
     "output_type": "stream",
     "text": [
      "2690\r"
     ]
    }
   ],
   "source": [
    "contador = 0\n",
    "for i in df.to_dict(orient = 'records'):\n",
    "    dict_temp = {\n",
    "        'key' : str(contador),\n",
    "        'medicion' : int(i['medicion']),\n",
    "        'aula' : str(i['aula']),\n",
    "        'datetime' :i['datetime'].strftime('%d-%m-%Y'),\n",
    "        'sensor' : i['sensor'],\n",
    "        'edificio' :i['edificio'].lower(),\n",
    "        'piso' : int(i['piso']),\n",
    "    }\n",
    "    db.put(dict_temp)\n",
    "    print(contador, end = '\\r')\n",
    "    contador +=1"
   ]
  },
  {
   "cell_type": "code",
   "execution_count": null,
   "metadata": {},
   "outputs": [],
   "source": [
    "lista = [{\n",
    "    \"user\":\"ivan\",\n",
    "    \"password\":\"ivan123\"\n",
    "},\n",
    "{\n",
    "    \"user\":\"javier\",\n",
    "    \"password\":\"javier123\"\n",
    "}\n",
    "]\n",
    "\n",
    "df = pd.DataFrame(lista)"
   ]
  },
  {
   "cell_type": "code",
   "execution_count": null,
   "metadata": {},
   "outputs": [],
   "source": [
    "with open('auth.json', 'w') as f:\n",
    "    f.write(df.to_json( orient='records', lines = True))\n"
   ]
  },
  {
   "cell_type": "code",
   "execution_count": null,
   "metadata": {},
   "outputs": [],
   "source": [
    "from datetime import datetime\n",
    "user_nickname = 'carlos'\n",
    "user_name = 'carlos jose'\n",
    "user_last_name = 'maestre muza'\n",
    "user_password = 'carlos123'\n",
    "user_date_registration = datetime.now().strftime('%d/%m/%Y')\n",
    "user_role = 'Administrator'\n",
    "\n",
    "def new_user(user,password,name,last_name,role,date_login):\n",
    "    new_user_data = {\n",
    "        'user' : user,\n",
    "        'password' : password,\n",
    "        'name' : name,\n",
    "        'last_name' : last_name,\n",
    "        'role' : role,\n",
    "        'date_login' : date_login,\n",
    "    }\n",
    "\n",
    "    df_temp = pd.DataFrame([new_user_data])\n",
    "    df = pd.read_json('auth.json', lines=True)\n",
    "    df = pd.concat([df,df_temp])\n",
    "\n",
    "    with open('auth.json', 'w') as f:\n",
    "        f.write(df.to_json( orient='records', lines = True))"
   ]
  },
  {
   "cell_type": "code",
   "execution_count": null,
   "metadata": {},
   "outputs": [],
   "source": [
    "from db import create_new_user\n",
    "x = [{'user': 'ivan',\n",
    "  'password': 'ivan123',\n",
    "  'name': 'Ivan Daniel',\n",
    "  'last_name': 'Maestre Muza',\n",
    "  'role': 'administrator'},\n",
    " {'user': 'javier',\n",
    "  'password': 'javier123',\n",
    "  'name': 'Javier Javier',\n",
    "  'last_name': 'Daza Olivella',\n",
    "  'role': 'administrator'},\n",
    " {'user': 'eladio',\n",
    "  'password': 'eladio123',\n",
    "  'name': 'Eladio',\n",
    "  'last_name': 'Carrión Morales',\n",
    "  'role': 'viewer'}]\n",
    "\n",
    "for i in x:\n",
    "    user_name = i['user']\n",
    "    password = i['password']\n",
    "    name = i['name']\n",
    "    last_name = i['last_name']\n",
    "    role = i['role']\n",
    "    create_new_user(user_name,password,name,last_name,role)"
   ]
  },
  {
   "cell_type": "code",
   "execution_count": null,
   "metadata": {},
   "outputs": [],
   "source": [
    "\n",
    "\n",
    "def authentication(user:str, password:str):\n",
    "    response = False\n",
    "    df = pd.read_json('auth.json', lines=True)\n",
    "    df_dict = df.to_dict(orient='records')\n",
    "\n",
    "    for dictionary in df_dict:\n",
    "\n",
    "        if dictionary['user'] == user and dictionary['password'] == password:\n",
    "            response = True\n",
    "\n",
    "    return response\n",
    "            \n",
    "def fetch_all_users():\n",
    "    \"\"\"Returns a dict of all users\"\"\"\n",
    "    res = db.fetch()\n",
    "    return res.items\n"
   ]
  },
  {
   "cell_type": "code",
   "execution_count": null,
   "metadata": {},
   "outputs": [],
   "source": [
    "user = 'javier'\n",
    "password = 'javier123'\n",
    "\n",
    "authentication(user=user,password=password)"
   ]
  },
  {
   "cell_type": "code",
   "execution_count": null,
   "metadata": {},
   "outputs": [],
   "source": [
    "df = pd.read_json('auth.json', lines=True)\n",
    "df_dict = df.to_dict(orient='records')\n",
    "df_dict"
   ]
  },
  {
   "cell_type": "code",
   "execution_count": null,
   "metadata": {},
   "outputs": [],
   "source": [
    "from deta import Deta\n",
    "from datetime import datetime\n",
    "DETA_KEY = 'e0jeqtjtszl_L996atb2Q4i8HKS36bU6drgU6tt1HYSq' \n",
    "\n",
    "# Initialize with a project key\n",
    "\n",
    "deta = Deta(DETA_KEY)\n",
    "\n",
    "\n",
    "# This is how to create/connect a database\n",
    "db = deta.Base(\"users\")\n",
    "\n",
    "def create_new_user(user_name,password,name,last_name,role):\n",
    "    # create new user\n",
    "    date_login = datetime.now().strftime('%d-%m-%Y')\n",
    "    return db.put({\"key\":user_name, \"password\":password, \"name\":name.title().strip(), \"last_name\": last_name.title().strip(),\"role\": role.title().strip(),\"date_login\":date_login})\n",
    "\n",
    "\n",
    "def update_user(user_name,password,name,last_name,role):\n",
    "    return db.update({\"password\":password, \"name\":name.title().strip(), \"last_name\": last_name.title().strip(),\"role\": role.title().strip()}, key = user_name)\n",
    "\n",
    "def fetch_all_users():\n",
    "    \"\"\"Returns a dict of all users\"\"\"\n",
    "    res = db.fetch()\n",
    "    return res.items\n",
    "\n",
    "\n",
    "def get_user(user_name:str):\n",
    "    return db.get(user_name)\n",
    "\n",
    "\n",
    "def authentication(user_name_input:str, password_input):\n",
    "    user_fetched = get_user(user_name_input)\n",
    "    if user_fetched != None:\n",
    "        password_fetched = user_fetched['password']\n",
    "        if password_input == password_fetched:\n",
    "            password = user_fetched['password']\n",
    "            name = user_fetched['name']\n",
    "            last_name = user_fetched['last_name']\n",
    "            role = user_fetched['role']\n",
    "            auth_flag = True\n",
    "            return auth_flag,password,name,last_name,role\n",
    "        else:\n",
    "            password = ''\n",
    "            name = ''\n",
    "            last_name = ''\n",
    "            role = ''\n",
    "            auth_flag = False\n",
    "            return auth_flag,password,name,last_name,role\n",
    "\n",
    "\n"
   ]
  },
  {
   "cell_type": "code",
   "execution_count": null,
   "metadata": {},
   "outputs": [],
   "source": [
    "key = \"ivan\"\n",
    "password = \"ivan123\"\n",
    "name = \"Ivan daniel\"\n",
    "last_name = \"maestre muza\"\n",
    "role = \"administrator\"\n",
    "\n",
    "\n",
    "# if get_user(key) != None:\n",
    "#     auth_flag,password,name,last_name,role = authentication(user_name_input= key, password_input = password)\n",
    "# else:\n",
    "#     print('The user dont exists')\n",
    "create_new_user(key,password,name,last_name,role)"
   ]
  },
  {
   "cell_type": "code",
   "execution_count": null,
   "metadata": {},
   "outputs": [],
   "source": [
    "def change_password(user_name_input,password_input,new_password_input:str):\n",
    "    user_fetched = get_user(user_name_input)\n",
    "    if user_fetched != None:\n",
    "        try:\n",
    "            db.update({\"password\":password_input},key=user_name_input)\n",
    "            return True\n",
    "        except Exception as e:\n",
    "            print(e)\n",
    "            return False"
   ]
  },
  {
   "cell_type": "code",
   "execution_count": null,
   "metadata": {},
   "outputs": [],
   "source": [
    "user_name_input = 'efra'\n",
    "password_input = 'efra123'\n",
    "new_password_input = 'efra124'\n",
    "\n",
    "\n",
    "user_fetched = get_user(user_name_input)\n",
    "if user_fetched != None:\n",
    "    user_dict = db.get(user_name_input)\n",
    "    if user_dict['password'] == password_input:\n",
    "        try:\n",
    "            db.update({\"password\":new_password_input},key=user_name_input)\n",
    "            retorno =  True\n",
    "        except Exception as e:\n",
    "            print(e)\n",
    "            retorno =  False\n",
    "else:\n",
    "    retorno = False"
   ]
  },
  {
   "cell_type": "code",
   "execution_count": null,
   "metadata": {},
   "outputs": [],
   "source": [
    "retorno"
   ]
  },
  {
   "cell_type": "code",
   "execution_count": null,
   "metadata": {},
   "outputs": [],
   "source": [
    "x = db.update({\"password\":'efra123'},key='efra')"
   ]
  },
  {
   "cell_type": "code",
   "execution_count": null,
   "metadata": {},
   "outputs": [],
   "source": [
    "db.get('efra')"
   ]
  },
  {
   "cell_type": "code",
   "execution_count": null,
   "metadata": {},
   "outputs": [],
   "source": [
    "from db import change_password\n",
    "change_password('efra','efra124','eee')"
   ]
  },
  {
   "cell_type": "code",
   "execution_count": null,
   "metadata": {},
   "outputs": [],
   "source": [
    "x = pd.DataFrame(fetch_all_users())\n",
    "x = x[x['key'] == 'ivan']\n",
    "y = x.to_dict(orient='records')\n",
    "y"
   ]
  },
  {
   "cell_type": "code",
   "execution_count": null,
   "metadata": {},
   "outputs": [],
   "source": [
    "import random\n",
    "from datetime import datetime, timedelta\n",
    "aulas = ['aula 1','aula 2','aula 3','aula 4','aula 5']\n",
    "\n",
    "dict_dummy = []\n",
    "start_date = datetime.strptime('01/01/2023', '%d/%m/%Y')\n",
    "for i in aulas:\n",
    "    for dia in range(1,50):\n",
    "        dict_ = {\n",
    "            'aula':i,\n",
    "            'medicion': random.randint(500,1000),\n",
    "            'datetime': start_date + timedelta(dia),\n",
    "            'sensor' : f'{i}_sensor'\n",
    "        }\n",
    "        dict_dummy.append(dict_)\n",
    "\n",
    "start_date = datetime.strptime('01/01/2023', '%d/%m/%Y')\n",
    "end_date = datetime.strptime('20/02/2023', '%d/%m/%Y')\n",
    "end_date - start_date"
   ]
  },
  {
   "cell_type": "code",
   "execution_count": null,
   "metadata": {},
   "outputs": [],
   "source": [
    "df = pd.DataFrame(dict_dummy)"
   ]
  },
  {
   "cell_type": "code",
   "execution_count": null,
   "metadata": {},
   "outputs": [],
   "source": [
    "import plotly.express as px\n",
    "from plotly.subplots import make_subplots\n",
    "\n",
    "fig = make_subplots(rows=2, cols=1,\n",
    "                    shared_xaxes=True,\n",
    "                    vertical_spacing=0.02)\n",
    "aula = 'aula 1'\n",
    "df = df[df['aula'] == f'{aula}']\n",
    "fig = px.line(df, x=\"datetime\", y=\"medicion\",  color='aula')\n",
    "\n",
    "fig.update_layout(title_text=f'Line Plot CO2 Levels \\n Aula: {aula}', title_x=0.5,xaxis_title =  'Date',yaxis_title = 'Nivel de CO2',legend_title = 'Aula')\n",
    "fig.add_hline(y=800,line=dict(color=\"#EB4747\"))\n",
    "\n",
    "fig.show()\n"
   ]
  },
  {
   "cell_type": "code",
   "execution_count": null,
   "metadata": {},
   "outputs": [],
   "source": [
    "df_temp = df[df['aula'] == 'aula 4']\n",
    "df_temp['medicion'].mean()"
   ]
  },
  {
   "cell_type": "code",
   "execution_count": null,
   "metadata": {},
   "outputs": [],
   "source": []
  },
  {
   "cell_type": "code",
   "execution_count": null,
   "metadata": {},
   "outputs": [],
   "source": [
    "df_temp = df[df['aula'] == 'aula 1']\n",
    "df_temp.sort_values(by = ['datetime'], ascending = False, inplace =True)\n",
    "df_temp.head()"
   ]
  },
  {
   "cell_type": "code",
   "execution_count": null,
   "metadata": {},
   "outputs": [],
   "source": [
    "fig = px.histogram(df_temp, x=\"medicion\", nbins=20)\n",
    "fig.update_layout(title_text=f'Histogram Plot CO2 Levels \\n Aula: {aula}', title_x=0.5,xaxis_title =  'Date',yaxis_title = 'Nivel de CO2',legend_title = 'Aula')\n",
    "fig.show()"
   ]
  },
  {
   "cell_type": "code",
   "execution_count": null,
   "metadata": {},
   "outputs": [],
   "source": [
    "fig = px.bar(df_temp, x='datetime', y='medicion')\n",
    "fig.update_traces(marker_color='green')\n",
    "fig.show()"
   ]
  },
  {
   "cell_type": "code",
   "execution_count": null,
   "metadata": {},
   "outputs": [],
   "source": [
    "pd.DataFrame(fetch_all_users())"
   ]
  },
  {
   "cell_type": "code",
   "execution_count": null,
   "metadata": {},
   "outputs": [],
   "source": [
    "aulas = ['aula 1','aula 2','aula 3','aula 4','aula 5','aula 6','aula 7','aula 8','aula 9']\n",
    "edificios = ['CAMILO TORRES', 'CAPRUIS Y FAVUIS','CENTIC','DANIEL CASAS','CENIVAM']\n",
    "from datetime import datetime, timedelta\n",
    "import random\n",
    "dict_dummy = []\n",
    "start_date = datetime.strptime('31/12/2022', '%d/%m/%Y')\n",
    "for i in aulas:\n",
    "    piso = 0\n",
    "    n_aula = int(i.split(' ')[1] ) \n",
    "    if n_aula <=3:\n",
    "        piso = 1\n",
    "    elif n_aula >3 and n_aula <=6:\n",
    "        piso = 2\n",
    "    elif n_aula > 6 :\n",
    "        piso = 3\n",
    "    \n",
    "    for dia in range(1,51):\n",
    "        edificio = random.choice(edificios)\n",
    "        dict_ = {\n",
    "            'aula':i,\n",
    "            'medicion': random.randint(400,1000),\n",
    "            'datetime': start_date + timedelta(dia),\n",
    "            'sensor' : f'{i}_sensor',\n",
    "            'edificio' : edificio,\n",
    "            'piso' : piso,\n",
    "        }\n",
    "        dict_dummy.append(dict_)\n",
    "    df = pd.DataFrame(dict_dummy)"
   ]
  },
  {
   "cell_type": "code",
   "execution_count": null,
   "metadata": {},
   "outputs": [],
   "source": [
    "df.groupby(['edificio'], as_index = False)['aula'].max()"
   ]
  },
  {
   "cell_type": "code",
   "execution_count": null,
   "metadata": {},
   "outputs": [],
   "source": [
    "x = df[(df['edificio'] == 'CENTIC') & (df['piso'] == 1)]\n",
    "df_temp_dict = x.to_dict(orient = 'records')\n",
    "for i in df_temp_dict:\n",
    "    print(i['aula'])"
   ]
  },
  {
   "cell_type": "code",
   "execution_count": null,
   "metadata": {},
   "outputs": [],
   "source": [
    "import requests"
   ]
  },
  {
   "cell_type": "code",
   "execution_count": null,
   "metadata": {},
   "outputs": [],
   "source": [
    "r = requests.get('\"localhost:8091/device/?uuid=1')"
   ]
  },
  {
   "cell_type": "code",
   "execution_count": null,
   "metadata": {},
   "outputs": [],
   "source": []
  },
  {
   "cell_type": "code",
   "execution_count": null,
   "metadata": {},
   "outputs": [],
   "source": [
    "from pymongo import MongoClient\n",
    "import requests\n",
    "\n",
    "payload = {\n",
    "    'deviceUUID' : '1',\n",
    "    'topic' : 'piso',\n",
    "    'timeStamp' : '25-03-2023 12:42:57',\n",
    "    'data' : '5',\n",
    "}\n",
    "# payload = {\n",
    "#     'deviceUUID' : '1',\n",
    "#     'aula': 'aula 1',\n",
    "#     'medicion': 756,\n",
    "#     'datetime': '22-03-2023 12:42:57',\n",
    "#     'sensor': 'aula 1_sensor',\n",
    "#     'edificio': 'CENTIC',\n",
    "#     'piso': 1}\n",
    "\n",
    "\n",
    "connect_url = \"mongodb://192.34.56.224:27017/\" \n",
    "client = MongoClient(connect_url)\n",
    "db = client.get_database('iot')\n",
    "collection = db.get_collection('messages')\n",
    "x = collection.insert_one(payload)"
   ]
  },
  {
   "cell_type": "code",
   "execution_count": null,
   "metadata": {},
   "outputs": [],
   "source": [
    "\n",
    "## DELETE DOCUMENT \n",
    "myquery = { \"deviceUUID\": \"5\" } # delete_one according to de deviceUUID (delete_one)\n",
    "myquery = { \"deviceUUID\": {\"$regex\": \"^1\"} } # delete all the documents that deviceUUID starst with 1 (delete_many)\n",
    "\n",
    "collection.delete_many(myquery)"
   ]
  },
  {
   "cell_type": "code",
   "execution_count": null,
   "metadata": {},
   "outputs": [],
   "source": [
    "# insert bulk\n",
    "collection.insert_many(df.to_dict('records'))"
   ]
  },
  {
   "cell_type": "code",
   "execution_count": null,
   "metadata": {},
   "outputs": [],
   "source": [
    "import pandas as pd\n",
    "\n",
    "r = requests.get('http://192.34.56.224:8091/device/?uuid=1')\n",
    "df = pd.DataFrame(r.json())"
   ]
  },
  {
   "cell_type": "code",
   "execution_count": null,
   "metadata": {},
   "outputs": [],
   "source": [
    "final_dict = {}\n",
    "for i in r.json():\n",
    "    dict_temp = {\n",
    "        'deviceUUID' : i['deviceUUID'],\n",
    "       'data' : {}\n",
    "    }\n",
    "    final_dict.append(dict_temp)"
   ]
  },
  {
   "cell_type": "code",
   "execution_count": null,
   "metadata": {},
   "outputs": [],
   "source": [
    "x = [{\n",
    "    'deviceUUID' : '1',\n",
    "    'data' : {'temp':'1', 'co2': '2'}\n",
    "},{\n",
    "    'deviceUUID' : '2',\n",
    "    'data' : {'temp':'6', 'co2': '20'}\n",
    "}]\n",
    "\n",
    "y = pd.DataFrame(x)\n",
    "y"
   ]
  },
  {
   "cell_type": "code",
   "execution_count": null,
   "metadata": {},
   "outputs": [],
   "source": [
    "def create_dummy_date():\n",
    "    from datetime import datetime,timedelta\n",
    "    import random\n",
    "    aulas = ['aula 1','aula 2','aula 3','aula 4','aula 5','aula 6','aula 7','aula 8','aula 9']\n",
    "    edificios = ['CAMILO TORRES', 'CAPRUIS Y FAVUIS','CENTIC','DANIEL CASAS','CENIVAM']\n",
    "\n",
    "\n",
    "    dict_dummy = []\n",
    "    start_date = datetime.strptime('30/06/2022', '%d/%m/%Y')\n",
    "    for i in aulas:\n",
    "        piso = 0\n",
    "        n_aula = int(i.split(' ')[1] ) \n",
    "        if n_aula <=3:\n",
    "            piso = 1\n",
    "        elif n_aula >3 and n_aula <=6:\n",
    "            piso = 2\n",
    "        elif n_aula > 6 :\n",
    "            piso = 3\n",
    "        \n",
    "        for dia in range(1,300):\n",
    "            edificio = random.choice(edificios)\n",
    "            dict_ = {\n",
    "                'aula':i,\n",
    "                'nivel_co2': random.randint(400,1200),\n",
    "                'datetime': (start_date + timedelta(dia)).strftime('%d/%m/%Y %H:%M:%S'),\n",
    "                'sensor' : f'{i}_sensor',\n",
    "                'edificio' : edificio,\n",
    "                'piso' : piso,\n",
    "            }\n",
    "            dict_dummy.append(dict_)\n",
    "        df = pd.DataFrame(dict_dummy)\n",
    "    return df\n",
    "\n",
    "df = create_dummy_date()"
   ]
  },
  {
   "cell_type": "code",
   "execution_count": null,
   "metadata": {},
   "outputs": [],
   "source": [
    "dict_final = []\n",
    "df_dict = df.to_dict(orient='records')\n",
    "\n",
    "for i in df_dict:\n",
    "\n",
    "    deviceUUID = f\"{i['edificio'].lower()}_piso_{i['piso']}_{i['aula']}\"\n",
    "    keys = i.keys()\n",
    "    for j in keys:\n",
    "        dict_temp = {\n",
    "            'deviceUUID' : deviceUUID,\n",
    "            'topic' : j,\n",
    "            'data' : i[j]\n",
    "        }\n",
    "        dict_final.append(dict_temp)"
   ]
  },
  {
   "cell_type": "code",
   "execution_count": null,
   "metadata": {},
   "outputs": [],
   "source": [
    "dict_final[0:10]"
   ]
  },
  {
   "cell_type": "code",
   "execution_count": null,
   "metadata": {},
   "outputs": [],
   "source": [
    "x = pd.DataFrame(dict_final)"
   ]
  },
  {
   "cell_type": "code",
   "execution_count": null,
   "metadata": {},
   "outputs": [],
   "source": [
    "Problemas con el schema en la base de datos.\n",
    "estaremos recibiendo mediciones de los diferentes edificios, pisos y aulas, personalmente no recomiendo el uso de base de datos NoSQL para la herramienta.\n",
    "sin embargo, si queremos mantener el mismo tipo de base de datos no relacional, sugiero el siguiente schema:\n",
    "{\n",
    "    'deviceUUID' : '1', # indicador unico para cada sensor\n",
    "    'aula': 'aula 1', # Aula de la medicion\n",
    "    'nivel_co2': 756, # valor de la medicion de CO2\n",
    "    'datetime': '22-03-2023 12:42:57', # %d-%M-%Y %H:%M:%S datetime del momento de la medicion\n",
    "    'edificio': 'CENTIC', # edificio de la medicion\n",
    "    'piso': 1 # piso de la medicion\n",
    "}\n",
    "por que? se pretende tener varias mediciones para diferentes dias, la llave no podra ser siempre el deviceUUID, ya que tendremos muchas mediciones para ese deviceUUID\n",
    "lo que genera un desorden al tener que agregar 1 documento para cada atributo de nuestra medicion, ya que solo tenemos 1 key \"topico\" que es el que almacenara la informacion de cada medicion, no solo el nivel de co2, sino tmb informacion relacionada a la ubicacion del sensor\n",
    "\n",
    "el API REST debera recibir mas parametros para la consulta, no solo el deviceUUID, podria recibir criterios opcionales tales como el aula, el edificio y el piso.\n",
    "los criterios como el edificio, piso y aula se pueden obtener desde el deviceUUID, pero eso nos condiciona a tener un diccionario de cada deviceUUID con su informacion\n",
    "de la ubicacion de cada salon, y asu vez, obtener edificio, piso y # de aula.\n"
   ]
  },
  {
   "cell_type": "code",
   "execution_count": null,
   "metadata": {},
   "outputs": [],
   "source": [
    "payload = {\n",
    "    'deviceUUID' : '1',\n",
    "    'topic' : 'nivel_co2',\n",
    "    'timeStamp' : '22-03-2023 12:42:57',\n",
    "    'data' : '14',\n",
    "}\n",
    "payload = {\n",
    "    'deviceUUID' : '1',\n",
    "    'aula': 'aula 1',\n",
    "    'medicion': 756,\n",
    "    'datetime': '22-03-2023 12:42:57',\n",
    "    'sensor': 'aula 1_sensor',\n",
    "    'edificio': 'CENTIC',\n",
    "    'piso': 1}"
   ]
  },
  {
   "cell_type": "code",
   "execution_count": 15,
   "metadata": {},
   "outputs": [],
   "source": [
    "from pycaret.regression import *"
   ]
  },
  {
   "cell_type": "code",
   "execution_count": 62,
   "metadata": {},
   "outputs": [],
   "source": [
    "df = pd.DataFrame(fetch_all_co2_data())\n",
    "df['datetime'] = pd.to_datetime(df['datetime'])\n"
   ]
  },
  {
   "cell_type": "code",
   "execution_count": 63,
   "metadata": {},
   "outputs": [
    {
     "data": {
      "text/html": [
       "<div>\n",
       "<style scoped>\n",
       "    .dataframe tbody tr th:only-of-type {\n",
       "        vertical-align: middle;\n",
       "    }\n",
       "\n",
       "    .dataframe tbody tr th {\n",
       "        vertical-align: top;\n",
       "    }\n",
       "\n",
       "    .dataframe thead th {\n",
       "        text-align: right;\n",
       "    }\n",
       "</style>\n",
       "<table border=\"1\" class=\"dataframe\">\n",
       "  <thead>\n",
       "    <tr style=\"text-align: right;\">\n",
       "      <th></th>\n",
       "      <th>datetime</th>\n",
       "      <th>medicion</th>\n",
       "    </tr>\n",
       "  </thead>\n",
       "  <tbody>\n",
       "    <tr>\n",
       "      <th>1903</th>\n",
       "      <td>2022-01-07</td>\n",
       "      <td>1193</td>\n",
       "    </tr>\n",
       "    <tr>\n",
       "      <th>1250</th>\n",
       "      <td>2022-01-07</td>\n",
       "      <td>948</td>\n",
       "    </tr>\n",
       "    <tr>\n",
       "      <th>1946</th>\n",
       "      <td>2022-01-07</td>\n",
       "      <td>1166</td>\n",
       "    </tr>\n",
       "    <tr>\n",
       "      <th>2610</th>\n",
       "      <td>2022-01-07</td>\n",
       "      <td>1046</td>\n",
       "    </tr>\n",
       "    <tr>\n",
       "      <th>585</th>\n",
       "      <td>2022-01-07</td>\n",
       "      <td>915</td>\n",
       "    </tr>\n",
       "  </tbody>\n",
       "</table>\n",
       "</div>"
      ],
      "text/plain": [
       "       datetime  medicion\n",
       "1903 2022-01-07      1193\n",
       "1250 2022-01-07       948\n",
       "1946 2022-01-07      1166\n",
       "2610 2022-01-07      1046\n",
       "585  2022-01-07       915"
      ]
     },
     "execution_count": 63,
     "metadata": {},
     "output_type": "execute_result"
    }
   ],
   "source": [
    "# df.set_index('datetime', inplace=True)\n",
    "df = df[['datetime','medicion']]\n",
    "df.sort_values(by = ['datetime'], inplace = True)\n",
    "# df['series'] = range(1, 1+len(df))\n",
    "df.head()"
   ]
  },
  {
   "cell_type": "code",
   "execution_count": 64,
   "metadata": {},
   "outputs": [
    {
     "ename": "KeyError",
     "evalue": "'series'",
     "output_type": "error",
     "traceback": [
      "\u001b[0;31m---------------------------------------------------------------------------\u001b[0m",
      "\u001b[0;31mKeyError\u001b[0m                                  Traceback (most recent call last)",
      "File \u001b[0;32m/opt/homebrew/Caskroom/miniforge/base/lib/python3.8/site-packages/pandas/core/indexes/base.py:3629\u001b[0m, in \u001b[0;36mIndex.get_loc\u001b[0;34m(self, key, method, tolerance)\u001b[0m\n\u001b[1;32m   3628\u001b[0m \u001b[39mtry\u001b[39;00m:\n\u001b[0;32m-> 3629\u001b[0m     \u001b[39mreturn\u001b[39;00m \u001b[39mself\u001b[39;49m\u001b[39m.\u001b[39;49m_engine\u001b[39m.\u001b[39;49mget_loc(casted_key)\n\u001b[1;32m   3630\u001b[0m \u001b[39mexcept\u001b[39;00m \u001b[39mKeyError\u001b[39;00m \u001b[39mas\u001b[39;00m err:\n",
      "File \u001b[0;32m/opt/homebrew/Caskroom/miniforge/base/lib/python3.8/site-packages/pandas/_libs/index.pyx:136\u001b[0m, in \u001b[0;36mpandas._libs.index.IndexEngine.get_loc\u001b[0;34m()\u001b[0m\n",
      "File \u001b[0;32m/opt/homebrew/Caskroom/miniforge/base/lib/python3.8/site-packages/pandas/_libs/index.pyx:163\u001b[0m, in \u001b[0;36mpandas._libs.index.IndexEngine.get_loc\u001b[0;34m()\u001b[0m\n",
      "File \u001b[0;32mpandas/_libs/hashtable_class_helper.pxi:5198\u001b[0m, in \u001b[0;36mpandas._libs.hashtable.PyObjectHashTable.get_item\u001b[0;34m()\u001b[0m\n",
      "File \u001b[0;32mpandas/_libs/hashtable_class_helper.pxi:5206\u001b[0m, in \u001b[0;36mpandas._libs.hashtable.PyObjectHashTable.get_item\u001b[0;34m()\u001b[0m\n",
      "\u001b[0;31mKeyError\u001b[0m: 'series'",
      "\nThe above exception was the direct cause of the following exception:\n",
      "\u001b[0;31mKeyError\u001b[0m                                  Traceback (most recent call last)",
      "Cell \u001b[0;32mIn[64], line 1\u001b[0m\n\u001b[0;32m----> 1\u001b[0m train \u001b[39m=\u001b[39m df[df[\u001b[39m'\u001b[39;49m\u001b[39mseries\u001b[39;49m\u001b[39m'\u001b[39;49m] \u001b[39m<\u001b[39m \u001b[39m2000\u001b[39m]\n\u001b[1;32m      2\u001b[0m test \u001b[39m=\u001b[39m df[df[\u001b[39m'\u001b[39m\u001b[39mseries\u001b[39m\u001b[39m'\u001b[39m] \u001b[39m>\u001b[39m\u001b[39m691\u001b[39m]\n",
      "File \u001b[0;32m/opt/homebrew/Caskroom/miniforge/base/lib/python3.8/site-packages/pandas/core/frame.py:3505\u001b[0m, in \u001b[0;36mDataFrame.__getitem__\u001b[0;34m(self, key)\u001b[0m\n\u001b[1;32m   3503\u001b[0m \u001b[39mif\u001b[39;00m \u001b[39mself\u001b[39m\u001b[39m.\u001b[39mcolumns\u001b[39m.\u001b[39mnlevels \u001b[39m>\u001b[39m \u001b[39m1\u001b[39m:\n\u001b[1;32m   3504\u001b[0m     \u001b[39mreturn\u001b[39;00m \u001b[39mself\u001b[39m\u001b[39m.\u001b[39m_getitem_multilevel(key)\n\u001b[0;32m-> 3505\u001b[0m indexer \u001b[39m=\u001b[39m \u001b[39mself\u001b[39;49m\u001b[39m.\u001b[39;49mcolumns\u001b[39m.\u001b[39;49mget_loc(key)\n\u001b[1;32m   3506\u001b[0m \u001b[39mif\u001b[39;00m is_integer(indexer):\n\u001b[1;32m   3507\u001b[0m     indexer \u001b[39m=\u001b[39m [indexer]\n",
      "File \u001b[0;32m/opt/homebrew/Caskroom/miniforge/base/lib/python3.8/site-packages/pandas/core/indexes/base.py:3631\u001b[0m, in \u001b[0;36mIndex.get_loc\u001b[0;34m(self, key, method, tolerance)\u001b[0m\n\u001b[1;32m   3629\u001b[0m     \u001b[39mreturn\u001b[39;00m \u001b[39mself\u001b[39m\u001b[39m.\u001b[39m_engine\u001b[39m.\u001b[39mget_loc(casted_key)\n\u001b[1;32m   3630\u001b[0m \u001b[39mexcept\u001b[39;00m \u001b[39mKeyError\u001b[39;00m \u001b[39mas\u001b[39;00m err:\n\u001b[0;32m-> 3631\u001b[0m     \u001b[39mraise\u001b[39;00m \u001b[39mKeyError\u001b[39;00m(key) \u001b[39mfrom\u001b[39;00m \u001b[39merr\u001b[39;00m\n\u001b[1;32m   3632\u001b[0m \u001b[39mexcept\u001b[39;00m \u001b[39mTypeError\u001b[39;00m:\n\u001b[1;32m   3633\u001b[0m     \u001b[39m# If we have a listlike key, _check_indexing_error will raise\u001b[39;00m\n\u001b[1;32m   3634\u001b[0m     \u001b[39m#  InvalidIndexError. Otherwise we fall through and re-raise\u001b[39;00m\n\u001b[1;32m   3635\u001b[0m     \u001b[39m#  the TypeError.\u001b[39;00m\n\u001b[1;32m   3636\u001b[0m     \u001b[39mself\u001b[39m\u001b[39m.\u001b[39m_check_indexing_error(key)\n",
      "\u001b[0;31mKeyError\u001b[0m: 'series'"
     ]
    }
   ],
   "source": [
    "train = df[df['series'] < 2000]\n",
    "test = df[df['series'] >691]"
   ]
  },
  {
   "cell_type": "code",
   "execution_count": 65,
   "metadata": {},
   "outputs": [
    {
     "data": {
      "text/html": [
       "<style type=\"text/css\">\n",
       "#T_77a2c_row8_col1 {\n",
       "  background-color: lightgreen;\n",
       "}\n",
       "</style>\n",
       "<table id=\"T_77a2c\">\n",
       "  <thead>\n",
       "    <tr>\n",
       "      <th class=\"blank level0\" >&nbsp;</th>\n",
       "      <th id=\"T_77a2c_level0_col0\" class=\"col_heading level0 col0\" >Description</th>\n",
       "      <th id=\"T_77a2c_level0_col1\" class=\"col_heading level0 col1\" >Value</th>\n",
       "    </tr>\n",
       "  </thead>\n",
       "  <tbody>\n",
       "    <tr>\n",
       "      <th id=\"T_77a2c_level0_row0\" class=\"row_heading level0 row0\" >0</th>\n",
       "      <td id=\"T_77a2c_row0_col0\" class=\"data row0 col0\" >Session id</td>\n",
       "      <td id=\"T_77a2c_row0_col1\" class=\"data row0 col1\" >123</td>\n",
       "    </tr>\n",
       "    <tr>\n",
       "      <th id=\"T_77a2c_level0_row1\" class=\"row_heading level0 row1\" >1</th>\n",
       "      <td id=\"T_77a2c_row1_col0\" class=\"data row1 col0\" >Target</td>\n",
       "      <td id=\"T_77a2c_row1_col1\" class=\"data row1 col1\" >medicion</td>\n",
       "    </tr>\n",
       "    <tr>\n",
       "      <th id=\"T_77a2c_level0_row2\" class=\"row_heading level0 row2\" >2</th>\n",
       "      <td id=\"T_77a2c_row2_col0\" class=\"data row2 col0\" >Target type</td>\n",
       "      <td id=\"T_77a2c_row2_col1\" class=\"data row2 col1\" >regression</td>\n",
       "    </tr>\n",
       "    <tr>\n",
       "      <th id=\"T_77a2c_level0_row3\" class=\"row_heading level0 row3\" >3</th>\n",
       "      <td id=\"T_77a2c_row3_col0\" class=\"data row3 col0\" >Data shape</td>\n",
       "      <td id=\"T_77a2c_row3_col1\" class=\"data row3 col1\" >(3999, 3)</td>\n",
       "    </tr>\n",
       "    <tr>\n",
       "      <th id=\"T_77a2c_level0_row4\" class=\"row_heading level0 row4\" >4</th>\n",
       "      <td id=\"T_77a2c_row4_col0\" class=\"data row4 col0\" >Train data shape</td>\n",
       "      <td id=\"T_77a2c_row4_col1\" class=\"data row4 col1\" >(3999, 3)</td>\n",
       "    </tr>\n",
       "    <tr>\n",
       "      <th id=\"T_77a2c_level0_row5\" class=\"row_heading level0 row5\" >5</th>\n",
       "      <td id=\"T_77a2c_row5_col0\" class=\"data row5 col0\" >Test data shape</td>\n",
       "      <td id=\"T_77a2c_row5_col1\" class=\"data row5 col1\" >(2000, 3)</td>\n",
       "    </tr>\n",
       "    <tr>\n",
       "      <th id=\"T_77a2c_level0_row6\" class=\"row_heading level0 row6\" >6</th>\n",
       "      <td id=\"T_77a2c_row6_col0\" class=\"data row6 col0\" >Numeric features</td>\n",
       "      <td id=\"T_77a2c_row6_col1\" class=\"data row6 col1\" >1</td>\n",
       "    </tr>\n",
       "    <tr>\n",
       "      <th id=\"T_77a2c_level0_row7\" class=\"row_heading level0 row7\" >7</th>\n",
       "      <td id=\"T_77a2c_row7_col0\" class=\"data row7 col0\" >Date features</td>\n",
       "      <td id=\"T_77a2c_row7_col1\" class=\"data row7 col1\" >1</td>\n",
       "    </tr>\n",
       "    <tr>\n",
       "      <th id=\"T_77a2c_level0_row8\" class=\"row_heading level0 row8\" >8</th>\n",
       "      <td id=\"T_77a2c_row8_col0\" class=\"data row8 col0\" >Preprocess</td>\n",
       "      <td id=\"T_77a2c_row8_col1\" class=\"data row8 col1\" >True</td>\n",
       "    </tr>\n",
       "    <tr>\n",
       "      <th id=\"T_77a2c_level0_row9\" class=\"row_heading level0 row9\" >9</th>\n",
       "      <td id=\"T_77a2c_row9_col0\" class=\"data row9 col0\" >Imputation type</td>\n",
       "      <td id=\"T_77a2c_row9_col1\" class=\"data row9 col1\" >simple</td>\n",
       "    </tr>\n",
       "    <tr>\n",
       "      <th id=\"T_77a2c_level0_row10\" class=\"row_heading level0 row10\" >10</th>\n",
       "      <td id=\"T_77a2c_row10_col0\" class=\"data row10 col0\" >Numeric imputation</td>\n",
       "      <td id=\"T_77a2c_row10_col1\" class=\"data row10 col1\" >mean</td>\n",
       "    </tr>\n",
       "    <tr>\n",
       "      <th id=\"T_77a2c_level0_row11\" class=\"row_heading level0 row11\" >11</th>\n",
       "      <td id=\"T_77a2c_row11_col0\" class=\"data row11 col0\" >Categorical imputation</td>\n",
       "      <td id=\"T_77a2c_row11_col1\" class=\"data row11 col1\" >constant</td>\n",
       "    </tr>\n",
       "    <tr>\n",
       "      <th id=\"T_77a2c_level0_row12\" class=\"row_heading level0 row12\" >12</th>\n",
       "      <td id=\"T_77a2c_row12_col0\" class=\"data row12 col0\" >Fold Generator</td>\n",
       "      <td id=\"T_77a2c_row12_col1\" class=\"data row12 col1\" >TimeSeriesSplit</td>\n",
       "    </tr>\n",
       "    <tr>\n",
       "      <th id=\"T_77a2c_level0_row13\" class=\"row_heading level0 row13\" >13</th>\n",
       "      <td id=\"T_77a2c_row13_col0\" class=\"data row13 col0\" >Fold Number</td>\n",
       "      <td id=\"T_77a2c_row13_col1\" class=\"data row13 col1\" >3</td>\n",
       "    </tr>\n",
       "    <tr>\n",
       "      <th id=\"T_77a2c_level0_row14\" class=\"row_heading level0 row14\" >14</th>\n",
       "      <td id=\"T_77a2c_row14_col0\" class=\"data row14 col0\" >CPU Jobs</td>\n",
       "      <td id=\"T_77a2c_row14_col1\" class=\"data row14 col1\" >-1</td>\n",
       "    </tr>\n",
       "    <tr>\n",
       "      <th id=\"T_77a2c_level0_row15\" class=\"row_heading level0 row15\" >15</th>\n",
       "      <td id=\"T_77a2c_row15_col0\" class=\"data row15 col0\" >Log Experiment</td>\n",
       "      <td id=\"T_77a2c_row15_col1\" class=\"data row15 col1\" >False</td>\n",
       "    </tr>\n",
       "    <tr>\n",
       "      <th id=\"T_77a2c_level0_row16\" class=\"row_heading level0 row16\" >16</th>\n",
       "      <td id=\"T_77a2c_row16_col0\" class=\"data row16 col0\" >Experiment Name</td>\n",
       "      <td id=\"T_77a2c_row16_col1\" class=\"data row16 col1\" >reg-default-name</td>\n",
       "    </tr>\n",
       "    <tr>\n",
       "      <th id=\"T_77a2c_level0_row17\" class=\"row_heading level0 row17\" >17</th>\n",
       "      <td id=\"T_77a2c_row17_col0\" class=\"data row17 col0\" >USI</td>\n",
       "      <td id=\"T_77a2c_row17_col1\" class=\"data row17 col1\" >d5ff</td>\n",
       "    </tr>\n",
       "  </tbody>\n",
       "</table>\n"
      ],
      "text/plain": [
       "<pandas.io.formats.style.Styler at 0x7f92b448b580>"
      ]
     },
     "metadata": {},
     "output_type": "display_data"
    }
   ],
   "source": [
    "s = setup(data = train, test_data = test, target = 'medicion', fold_strategy = 'timeseries',  fold = 3, session_id = 123)"
   ]
  },
  {
   "cell_type": "code",
   "execution_count": 66,
   "metadata": {},
   "outputs": [
    {
     "data": {
      "text/html": [
       "<style type=\"text/css\">\n",
       "#T_9ab9b th {\n",
       "  text-align: left;\n",
       "}\n",
       "#T_9ab9b_row0_col0, #T_9ab9b_row0_col1, #T_9ab9b_row0_col3, #T_9ab9b_row0_col5, #T_9ab9b_row0_col6, #T_9ab9b_row1_col0, #T_9ab9b_row1_col2, #T_9ab9b_row1_col4, #T_9ab9b_row2_col0, #T_9ab9b_row2_col1, #T_9ab9b_row2_col2, #T_9ab9b_row2_col3, #T_9ab9b_row2_col4, #T_9ab9b_row2_col5, #T_9ab9b_row2_col6, #T_9ab9b_row3_col0, #T_9ab9b_row3_col1, #T_9ab9b_row3_col2, #T_9ab9b_row3_col3, #T_9ab9b_row3_col4, #T_9ab9b_row3_col5, #T_9ab9b_row3_col6, #T_9ab9b_row4_col0, #T_9ab9b_row4_col1, #T_9ab9b_row4_col2, #T_9ab9b_row4_col3, #T_9ab9b_row4_col4, #T_9ab9b_row4_col5, #T_9ab9b_row4_col6, #T_9ab9b_row5_col0, #T_9ab9b_row5_col1, #T_9ab9b_row5_col2, #T_9ab9b_row5_col3, #T_9ab9b_row5_col4, #T_9ab9b_row5_col5, #T_9ab9b_row5_col6, #T_9ab9b_row6_col0, #T_9ab9b_row6_col1, #T_9ab9b_row6_col2, #T_9ab9b_row6_col3, #T_9ab9b_row6_col4, #T_9ab9b_row6_col5, #T_9ab9b_row6_col6, #T_9ab9b_row7_col0, #T_9ab9b_row7_col1, #T_9ab9b_row7_col2, #T_9ab9b_row7_col3, #T_9ab9b_row7_col4, #T_9ab9b_row7_col5, #T_9ab9b_row7_col6, #T_9ab9b_row8_col0, #T_9ab9b_row8_col1, #T_9ab9b_row8_col2, #T_9ab9b_row8_col3, #T_9ab9b_row8_col4, #T_9ab9b_row8_col5, #T_9ab9b_row8_col6, #T_9ab9b_row9_col0, #T_9ab9b_row9_col1, #T_9ab9b_row9_col2, #T_9ab9b_row9_col3, #T_9ab9b_row9_col4, #T_9ab9b_row9_col5, #T_9ab9b_row9_col6, #T_9ab9b_row10_col0, #T_9ab9b_row10_col1, #T_9ab9b_row10_col2, #T_9ab9b_row10_col3, #T_9ab9b_row10_col4, #T_9ab9b_row10_col5, #T_9ab9b_row10_col6, #T_9ab9b_row11_col0, #T_9ab9b_row11_col1, #T_9ab9b_row11_col2, #T_9ab9b_row11_col3, #T_9ab9b_row11_col4, #T_9ab9b_row11_col5, #T_9ab9b_row11_col6, #T_9ab9b_row12_col0, #T_9ab9b_row12_col1, #T_9ab9b_row12_col2, #T_9ab9b_row12_col3, #T_9ab9b_row12_col4, #T_9ab9b_row12_col5, #T_9ab9b_row12_col6, #T_9ab9b_row13_col0, #T_9ab9b_row13_col1, #T_9ab9b_row13_col2, #T_9ab9b_row13_col3, #T_9ab9b_row13_col4, #T_9ab9b_row13_col5, #T_9ab9b_row13_col6, #T_9ab9b_row14_col0, #T_9ab9b_row14_col1, #T_9ab9b_row14_col2, #T_9ab9b_row14_col3, #T_9ab9b_row14_col4, #T_9ab9b_row14_col5, #T_9ab9b_row14_col6, #T_9ab9b_row15_col0, #T_9ab9b_row15_col1, #T_9ab9b_row15_col2, #T_9ab9b_row15_col3, #T_9ab9b_row15_col4, #T_9ab9b_row15_col5, #T_9ab9b_row15_col6, #T_9ab9b_row16_col0, #T_9ab9b_row16_col1, #T_9ab9b_row16_col2, #T_9ab9b_row16_col3, #T_9ab9b_row16_col4, #T_9ab9b_row16_col5, #T_9ab9b_row16_col6, #T_9ab9b_row17_col0, #T_9ab9b_row17_col1, #T_9ab9b_row17_col2, #T_9ab9b_row17_col3, #T_9ab9b_row17_col4, #T_9ab9b_row17_col5, #T_9ab9b_row17_col6, #T_9ab9b_row18_col0, #T_9ab9b_row18_col1, #T_9ab9b_row18_col2, #T_9ab9b_row18_col3, #T_9ab9b_row18_col4, #T_9ab9b_row18_col5, #T_9ab9b_row18_col6 {\n",
       "  text-align: left;\n",
       "}\n",
       "#T_9ab9b_row0_col2, #T_9ab9b_row0_col4, #T_9ab9b_row1_col1, #T_9ab9b_row1_col3, #T_9ab9b_row1_col5, #T_9ab9b_row1_col6 {\n",
       "  text-align: left;\n",
       "  background-color: yellow;\n",
       "}\n",
       "#T_9ab9b_row0_col7, #T_9ab9b_row1_col7, #T_9ab9b_row2_col7, #T_9ab9b_row3_col7, #T_9ab9b_row4_col7, #T_9ab9b_row5_col7, #T_9ab9b_row7_col7, #T_9ab9b_row8_col7, #T_9ab9b_row9_col7, #T_9ab9b_row10_col7, #T_9ab9b_row12_col7, #T_9ab9b_row13_col7, #T_9ab9b_row15_col7, #T_9ab9b_row16_col7, #T_9ab9b_row17_col7 {\n",
       "  text-align: left;\n",
       "  background-color: lightgrey;\n",
       "}\n",
       "#T_9ab9b_row6_col7, #T_9ab9b_row11_col7, #T_9ab9b_row14_col7, #T_9ab9b_row18_col7 {\n",
       "  text-align: left;\n",
       "  background-color: yellow;\n",
       "  background-color: lightgrey;\n",
       "}\n",
       "</style>\n",
       "<table id=\"T_9ab9b\">\n",
       "  <thead>\n",
       "    <tr>\n",
       "      <th class=\"blank level0\" >&nbsp;</th>\n",
       "      <th id=\"T_9ab9b_level0_col0\" class=\"col_heading level0 col0\" >Model</th>\n",
       "      <th id=\"T_9ab9b_level0_col1\" class=\"col_heading level0 col1\" >MAE</th>\n",
       "      <th id=\"T_9ab9b_level0_col2\" class=\"col_heading level0 col2\" >MSE</th>\n",
       "      <th id=\"T_9ab9b_level0_col3\" class=\"col_heading level0 col3\" >RMSE</th>\n",
       "      <th id=\"T_9ab9b_level0_col4\" class=\"col_heading level0 col4\" >R2</th>\n",
       "      <th id=\"T_9ab9b_level0_col5\" class=\"col_heading level0 col5\" >RMSLE</th>\n",
       "      <th id=\"T_9ab9b_level0_col6\" class=\"col_heading level0 col6\" >MAPE</th>\n",
       "      <th id=\"T_9ab9b_level0_col7\" class=\"col_heading level0 col7\" >TT (Sec)</th>\n",
       "    </tr>\n",
       "  </thead>\n",
       "  <tbody>\n",
       "    <tr>\n",
       "      <th id=\"T_9ab9b_level0_row0\" class=\"row_heading level0 row0\" >rf</th>\n",
       "      <td id=\"T_9ab9b_row0_col0\" class=\"data row0 col0\" >Random Forest Regressor</td>\n",
       "      <td id=\"T_9ab9b_row0_col1\" class=\"data row0 col1\" >162.3267</td>\n",
       "      <td id=\"T_9ab9b_row0_col2\" class=\"data row0 col2\" >44704.0595</td>\n",
       "      <td id=\"T_9ab9b_row0_col3\" class=\"data row0 col3\" >199.6494</td>\n",
       "      <td id=\"T_9ab9b_row0_col4\" class=\"data row0 col4\" >0.1563</td>\n",
       "      <td id=\"T_9ab9b_row0_col5\" class=\"data row0 col5\" >0.2659</td>\n",
       "      <td id=\"T_9ab9b_row0_col6\" class=\"data row0 col6\" >0.2248</td>\n",
       "      <td id=\"T_9ab9b_row0_col7\" class=\"data row0 col7\" >0.0800</td>\n",
       "    </tr>\n",
       "    <tr>\n",
       "      <th id=\"T_9ab9b_level0_row1\" class=\"row_heading level0 row1\" >et</th>\n",
       "      <td id=\"T_9ab9b_row1_col0\" class=\"data row1 col0\" >Extra Trees Regressor</td>\n",
       "      <td id=\"T_9ab9b_row1_col1\" class=\"data row1 col1\" >132.8757</td>\n",
       "      <td id=\"T_9ab9b_row1_col2\" class=\"data row1 col2\" >46134.9302</td>\n",
       "      <td id=\"T_9ab9b_row1_col3\" class=\"data row1 col3\" >174.9875</td>\n",
       "      <td id=\"T_9ab9b_row1_col4\" class=\"data row1 col4\" >0.1295</td>\n",
       "      <td id=\"T_9ab9b_row1_col5\" class=\"data row1 col5\" >0.2301</td>\n",
       "      <td id=\"T_9ab9b_row1_col6\" class=\"data row1 col6\" >0.1784</td>\n",
       "      <td id=\"T_9ab9b_row1_col7\" class=\"data row1 col7\" >0.0700</td>\n",
       "    </tr>\n",
       "    <tr>\n",
       "      <th id=\"T_9ab9b_level0_row2\" class=\"row_heading level0 row2\" >knn</th>\n",
       "      <td id=\"T_9ab9b_row2_col0\" class=\"data row2 col0\" >K Neighbors Regressor</td>\n",
       "      <td id=\"T_9ab9b_row2_col1\" class=\"data row2 col1\" >191.4414</td>\n",
       "      <td id=\"T_9ab9b_row2_col2\" class=\"data row2 col2\" >50277.1403</td>\n",
       "      <td id=\"T_9ab9b_row2_col3\" class=\"data row2 col3\" >224.0665</td>\n",
       "      <td id=\"T_9ab9b_row2_col4\" class=\"data row2 col4\" >0.0506</td>\n",
       "      <td id=\"T_9ab9b_row2_col5\" class=\"data row2 col5\" >0.3049</td>\n",
       "      <td id=\"T_9ab9b_row2_col6\" class=\"data row2 col6\" >0.2817</td>\n",
       "      <td id=\"T_9ab9b_row2_col7\" class=\"data row2 col7\" >0.0133</td>\n",
       "    </tr>\n",
       "    <tr>\n",
       "      <th id=\"T_9ab9b_level0_row3\" class=\"row_heading level0 row3\" >lightgbm</th>\n",
       "      <td id=\"T_9ab9b_row3_col0\" class=\"data row3 col0\" >Light Gradient Boosting Machine</td>\n",
       "      <td id=\"T_9ab9b_row3_col1\" class=\"data row3 col1\" >195.5972</td>\n",
       "      <td id=\"T_9ab9b_row3_col2\" class=\"data row3 col2\" >52059.9562</td>\n",
       "      <td id=\"T_9ab9b_row3_col3\" class=\"data row3 col3\" >228.0127</td>\n",
       "      <td id=\"T_9ab9b_row3_col4\" class=\"data row3 col4\" >0.0168</td>\n",
       "      <td id=\"T_9ab9b_row3_col5\" class=\"data row3 col5\" >0.3096</td>\n",
       "      <td id=\"T_9ab9b_row3_col6\" class=\"data row3 col6\" >0.2871</td>\n",
       "      <td id=\"T_9ab9b_row3_col7\" class=\"data row3 col7\" >0.0333</td>\n",
       "    </tr>\n",
       "    <tr>\n",
       "      <th id=\"T_9ab9b_level0_row4\" class=\"row_heading level0 row4\" >ada</th>\n",
       "      <td id=\"T_9ab9b_row4_col0\" class=\"data row4 col0\" >AdaBoost Regressor</td>\n",
       "      <td id=\"T_9ab9b_row4_col1\" class=\"data row4 col1\" >198.5996</td>\n",
       "      <td id=\"T_9ab9b_row4_col2\" class=\"data row4 col2\" >52959.3654</td>\n",
       "      <td id=\"T_9ab9b_row4_col3\" class=\"data row4 col3\" >230.1266</td>\n",
       "      <td id=\"T_9ab9b_row4_col4\" class=\"data row4 col4\" >0.0001</td>\n",
       "      <td id=\"T_9ab9b_row4_col5\" class=\"data row4 col5\" >0.3088</td>\n",
       "      <td id=\"T_9ab9b_row4_col6\" class=\"data row4 col6\" >0.2835</td>\n",
       "      <td id=\"T_9ab9b_row4_col7\" class=\"data row4 col7\" >0.0200</td>\n",
       "    </tr>\n",
       "    <tr>\n",
       "      <th id=\"T_9ab9b_level0_row5\" class=\"row_heading level0 row5\" >lasso</th>\n",
       "      <td id=\"T_9ab9b_row5_col0\" class=\"data row5 col0\" >Lasso Regression</td>\n",
       "      <td id=\"T_9ab9b_row5_col1\" class=\"data row5 col1\" >198.8610</td>\n",
       "      <td id=\"T_9ab9b_row5_col2\" class=\"data row5 col2\" >52999.4086</td>\n",
       "      <td id=\"T_9ab9b_row5_col3\" class=\"data row5 col3\" >230.2140</td>\n",
       "      <td id=\"T_9ab9b_row5_col4\" class=\"data row5 col4\" >-0.0007</td>\n",
       "      <td id=\"T_9ab9b_row5_col5\" class=\"data row5 col5\" >0.3099</td>\n",
       "      <td id=\"T_9ab9b_row5_col6\" class=\"data row5 col6\" >0.2857</td>\n",
       "      <td id=\"T_9ab9b_row5_col7\" class=\"data row5 col7\" >0.0167</td>\n",
       "    </tr>\n",
       "    <tr>\n",
       "      <th id=\"T_9ab9b_level0_row6\" class=\"row_heading level0 row6\" >en</th>\n",
       "      <td id=\"T_9ab9b_row6_col0\" class=\"data row6 col0\" >Elastic Net</td>\n",
       "      <td id=\"T_9ab9b_row6_col1\" class=\"data row6 col1\" >198.8404</td>\n",
       "      <td id=\"T_9ab9b_row6_col2\" class=\"data row6 col2\" >53009.5626</td>\n",
       "      <td id=\"T_9ab9b_row6_col3\" class=\"data row6 col3\" >230.2360</td>\n",
       "      <td id=\"T_9ab9b_row6_col4\" class=\"data row6 col4\" >-0.0009</td>\n",
       "      <td id=\"T_9ab9b_row6_col5\" class=\"data row6 col5\" >0.3098</td>\n",
       "      <td id=\"T_9ab9b_row6_col6\" class=\"data row6 col6\" >0.2854</td>\n",
       "      <td id=\"T_9ab9b_row6_col7\" class=\"data row6 col7\" >0.0100</td>\n",
       "    </tr>\n",
       "    <tr>\n",
       "      <th id=\"T_9ab9b_level0_row7\" class=\"row_heading level0 row7\" >omp</th>\n",
       "      <td id=\"T_9ab9b_row7_col0\" class=\"data row7 col0\" >Orthogonal Matching Pursuit</td>\n",
       "      <td id=\"T_9ab9b_row7_col1\" class=\"data row7 col1\" >198.9876</td>\n",
       "      <td id=\"T_9ab9b_row7_col2\" class=\"data row7 col2\" >53018.5539</td>\n",
       "      <td id=\"T_9ab9b_row7_col3\" class=\"data row7 col3\" >230.2559</td>\n",
       "      <td id=\"T_9ab9b_row7_col4\" class=\"data row7 col4\" >-0.0011</td>\n",
       "      <td id=\"T_9ab9b_row7_col5\" class=\"data row7 col5\" >0.3102</td>\n",
       "      <td id=\"T_9ab9b_row7_col6\" class=\"data row7 col6\" >0.2863</td>\n",
       "      <td id=\"T_9ab9b_row7_col7\" class=\"data row7 col7\" >0.0300</td>\n",
       "    </tr>\n",
       "    <tr>\n",
       "      <th id=\"T_9ab9b_level0_row8\" class=\"row_heading level0 row8\" >lr</th>\n",
       "      <td id=\"T_9ab9b_row8_col0\" class=\"data row8 col0\" >Linear Regression</td>\n",
       "      <td id=\"T_9ab9b_row8_col1\" class=\"data row8 col1\" >198.8607</td>\n",
       "      <td id=\"T_9ab9b_row8_col2\" class=\"data row8 col2\" >53075.7005</td>\n",
       "      <td id=\"T_9ab9b_row8_col3\" class=\"data row8 col3\" >230.3788</td>\n",
       "      <td id=\"T_9ab9b_row8_col4\" class=\"data row8 col4\" >-0.0021</td>\n",
       "      <td id=\"T_9ab9b_row8_col5\" class=\"data row8 col5\" >0.3097</td>\n",
       "      <td id=\"T_9ab9b_row8_col6\" class=\"data row8 col6\" >0.2848</td>\n",
       "      <td id=\"T_9ab9b_row8_col7\" class=\"data row8 col7\" >0.0367</td>\n",
       "    </tr>\n",
       "    <tr>\n",
       "      <th id=\"T_9ab9b_level0_row9\" class=\"row_heading level0 row9\" >ridge</th>\n",
       "      <td id=\"T_9ab9b_row9_col0\" class=\"data row9 col0\" >Ridge Regression</td>\n",
       "      <td id=\"T_9ab9b_row9_col1\" class=\"data row9 col1\" >198.8595</td>\n",
       "      <td id=\"T_9ab9b_row9_col2\" class=\"data row9 col2\" >53075.1441</td>\n",
       "      <td id=\"T_9ab9b_row9_col3\" class=\"data row9 col3\" >230.3776</td>\n",
       "      <td id=\"T_9ab9b_row9_col4\" class=\"data row9 col4\" >-0.0021</td>\n",
       "      <td id=\"T_9ab9b_row9_col5\" class=\"data row9 col5\" >0.3097</td>\n",
       "      <td id=\"T_9ab9b_row9_col6\" class=\"data row9 col6\" >0.2848</td>\n",
       "      <td id=\"T_9ab9b_row9_col7\" class=\"data row9 col7\" >0.0167</td>\n",
       "    </tr>\n",
       "    <tr>\n",
       "      <th id=\"T_9ab9b_level0_row10\" class=\"row_heading level0 row10\" >lar</th>\n",
       "      <td id=\"T_9ab9b_row10_col0\" class=\"data row10 col0\" >Least Angle Regression</td>\n",
       "      <td id=\"T_9ab9b_row10_col1\" class=\"data row10 col1\" >198.8607</td>\n",
       "      <td id=\"T_9ab9b_row10_col2\" class=\"data row10 col2\" >53075.7005</td>\n",
       "      <td id=\"T_9ab9b_row10_col3\" class=\"data row10 col3\" >230.3788</td>\n",
       "      <td id=\"T_9ab9b_row10_col4\" class=\"data row10 col4\" >-0.0021</td>\n",
       "      <td id=\"T_9ab9b_row10_col5\" class=\"data row10 col5\" >0.3097</td>\n",
       "      <td id=\"T_9ab9b_row10_col6\" class=\"data row10 col6\" >0.2848</td>\n",
       "      <td id=\"T_9ab9b_row10_col7\" class=\"data row10 col7\" >0.0267</td>\n",
       "    </tr>\n",
       "    <tr>\n",
       "      <th id=\"T_9ab9b_level0_row11\" class=\"row_heading level0 row11\" >br</th>\n",
       "      <td id=\"T_9ab9b_row11_col0\" class=\"data row11 col0\" >Bayesian Ridge</td>\n",
       "      <td id=\"T_9ab9b_row11_col1\" class=\"data row11 col1\" >199.3859</td>\n",
       "      <td id=\"T_9ab9b_row11_col2\" class=\"data row11 col2\" >53088.5250</td>\n",
       "      <td id=\"T_9ab9b_row11_col3\" class=\"data row11 col3\" >230.4085</td>\n",
       "      <td id=\"T_9ab9b_row11_col4\" class=\"data row11 col4\" >-0.0024</td>\n",
       "      <td id=\"T_9ab9b_row11_col5\" class=\"data row11 col5\" >0.3116</td>\n",
       "      <td id=\"T_9ab9b_row11_col6\" class=\"data row11 col6\" >0.2893</td>\n",
       "      <td id=\"T_9ab9b_row11_col7\" class=\"data row11 col7\" >0.0100</td>\n",
       "    </tr>\n",
       "    <tr>\n",
       "      <th id=\"T_9ab9b_level0_row12\" class=\"row_heading level0 row12\" >huber</th>\n",
       "      <td id=\"T_9ab9b_row12_col0\" class=\"data row12 col0\" >Huber Regressor</td>\n",
       "      <td id=\"T_9ab9b_row12_col1\" class=\"data row12 col1\" >198.8935</td>\n",
       "      <td id=\"T_9ab9b_row12_col2\" class=\"data row12 col2\" >53132.7324</td>\n",
       "      <td id=\"T_9ab9b_row12_col3\" class=\"data row12 col3\" >230.5017</td>\n",
       "      <td id=\"T_9ab9b_row12_col4\" class=\"data row12 col4\" >-0.0032</td>\n",
       "      <td id=\"T_9ab9b_row12_col5\" class=\"data row12 col5\" >0.3096</td>\n",
       "      <td id=\"T_9ab9b_row12_col6\" class=\"data row12 col6\" >0.2844</td>\n",
       "      <td id=\"T_9ab9b_row12_col7\" class=\"data row12 col7\" >0.0167</td>\n",
       "    </tr>\n",
       "    <tr>\n",
       "      <th id=\"T_9ab9b_level0_row13\" class=\"row_heading level0 row13\" >llar</th>\n",
       "      <td id=\"T_9ab9b_row13_col0\" class=\"data row13 col0\" >Lasso Least Angle Regression</td>\n",
       "      <td id=\"T_9ab9b_row13_col1\" class=\"data row13 col1\" >199.5293</td>\n",
       "      <td id=\"T_9ab9b_row13_col2\" class=\"data row13 col2\" >53133.6343</td>\n",
       "      <td id=\"T_9ab9b_row13_col3\" class=\"data row13 col3\" >230.5066</td>\n",
       "      <td id=\"T_9ab9b_row13_col4\" class=\"data row13 col4\" >-0.0033</td>\n",
       "      <td id=\"T_9ab9b_row13_col5\" class=\"data row13 col5\" >0.3120</td>\n",
       "      <td id=\"T_9ab9b_row13_col6\" class=\"data row13 col6\" >0.2900</td>\n",
       "      <td id=\"T_9ab9b_row13_col7\" class=\"data row13 col7\" >0.0167</td>\n",
       "    </tr>\n",
       "    <tr>\n",
       "      <th id=\"T_9ab9b_level0_row14\" class=\"row_heading level0 row14\" >dummy</th>\n",
       "      <td id=\"T_9ab9b_row14_col0\" class=\"data row14 col0\" >Dummy Regressor</td>\n",
       "      <td id=\"T_9ab9b_row14_col1\" class=\"data row14 col1\" >199.5293</td>\n",
       "      <td id=\"T_9ab9b_row14_col2\" class=\"data row14 col2\" >53133.6343</td>\n",
       "      <td id=\"T_9ab9b_row14_col3\" class=\"data row14 col3\" >230.5066</td>\n",
       "      <td id=\"T_9ab9b_row14_col4\" class=\"data row14 col4\" >-0.0033</td>\n",
       "      <td id=\"T_9ab9b_row14_col5\" class=\"data row14 col5\" >0.3120</td>\n",
       "      <td id=\"T_9ab9b_row14_col6\" class=\"data row14 col6\" >0.2900</td>\n",
       "      <td id=\"T_9ab9b_row14_col7\" class=\"data row14 col7\" >0.0100</td>\n",
       "    </tr>\n",
       "    <tr>\n",
       "      <th id=\"T_9ab9b_level0_row15\" class=\"row_heading level0 row15\" >dt</th>\n",
       "      <td id=\"T_9ab9b_row15_col0\" class=\"data row15 col0\" >Decision Tree Regressor</td>\n",
       "      <td id=\"T_9ab9b_row15_col1\" class=\"data row15 col1\" >156.8976</td>\n",
       "      <td id=\"T_9ab9b_row15_col2\" class=\"data row15 col2\" >64792.6753</td>\n",
       "      <td id=\"T_9ab9b_row15_col3\" class=\"data row15 col3\" >206.7644</td>\n",
       "      <td id=\"T_9ab9b_row15_col4\" class=\"data row15 col4\" >-0.2225</td>\n",
       "      <td id=\"T_9ab9b_row15_col5\" class=\"data row15 col5\" >0.2744</td>\n",
       "      <td id=\"T_9ab9b_row15_col6\" class=\"data row15 col6\" >0.2058</td>\n",
       "      <td id=\"T_9ab9b_row15_col7\" class=\"data row15 col7\" >0.0133</td>\n",
       "    </tr>\n",
       "    <tr>\n",
       "      <th id=\"T_9ab9b_level0_row16\" class=\"row_heading level0 row16\" >gbr</th>\n",
       "      <td id=\"T_9ab9b_row16_col0\" class=\"data row16 col0\" >Gradient Boosting Regressor</td>\n",
       "      <td id=\"T_9ab9b_row16_col1\" class=\"data row16 col1\" >220.4261</td>\n",
       "      <td id=\"T_9ab9b_row16_col2\" class=\"data row16 col2\" >71237.5121</td>\n",
       "      <td id=\"T_9ab9b_row16_col3\" class=\"data row16 col3\" >262.4190</td>\n",
       "      <td id=\"T_9ab9b_row16_col4\" class=\"data row16 col4\" >-0.3420</td>\n",
       "      <td id=\"T_9ab9b_row16_col5\" class=\"data row16 col5\" >0.3511</td>\n",
       "      <td id=\"T_9ab9b_row16_col6\" class=\"data row16 col6\" >0.2905</td>\n",
       "      <td id=\"T_9ab9b_row16_col7\" class=\"data row16 col7\" >0.0433</td>\n",
       "    </tr>\n",
       "    <tr>\n",
       "      <th id=\"T_9ab9b_level0_row17\" class=\"row_heading level0 row17\" >xgboost</th>\n",
       "      <td id=\"T_9ab9b_row17_col0\" class=\"data row17 col0\" >Extreme Gradient Boosting</td>\n",
       "      <td id=\"T_9ab9b_row17_col1\" class=\"data row17 col1\" >220.0302</td>\n",
       "      <td id=\"T_9ab9b_row17_col2\" class=\"data row17 col2\" >78582.3905</td>\n",
       "      <td id=\"T_9ab9b_row17_col3\" class=\"data row17 col3\" >271.3582</td>\n",
       "      <td id=\"T_9ab9b_row17_col4\" class=\"data row17 col4\" >-0.4822</td>\n",
       "      <td id=\"T_9ab9b_row17_col5\" class=\"data row17 col5\" >0.3617</td>\n",
       "      <td id=\"T_9ab9b_row17_col6\" class=\"data row17 col6\" >0.2926</td>\n",
       "      <td id=\"T_9ab9b_row17_col7\" class=\"data row17 col7\" >0.0600</td>\n",
       "    </tr>\n",
       "    <tr>\n",
       "      <th id=\"T_9ab9b_level0_row18\" class=\"row_heading level0 row18\" >par</th>\n",
       "      <td id=\"T_9ab9b_row18_col0\" class=\"data row18 col0\" >Passive Aggressive Regressor</td>\n",
       "      <td id=\"T_9ab9b_row18_col1\" class=\"data row18 col1\" >409.1607</td>\n",
       "      <td id=\"T_9ab9b_row18_col2\" class=\"data row18 col2\" >227782.3738</td>\n",
       "      <td id=\"T_9ab9b_row18_col3\" class=\"data row18 col3\" >470.8466</td>\n",
       "      <td id=\"T_9ab9b_row18_col4\" class=\"data row18 col4\" >-3.2903</td>\n",
       "      <td id=\"T_9ab9b_row18_col5\" class=\"data row18 col5\" >0.5792</td>\n",
       "      <td id=\"T_9ab9b_row18_col6\" class=\"data row18 col6\" >0.5995</td>\n",
       "      <td id=\"T_9ab9b_row18_col7\" class=\"data row18 col7\" >0.0100</td>\n",
       "    </tr>\n",
       "  </tbody>\n",
       "</table>\n"
      ],
      "text/plain": [
       "<pandas.io.formats.style.Styler at 0x7f929039e9d0>"
      ]
     },
     "metadata": {},
     "output_type": "display_data"
    }
   ],
   "source": [
    "best = compare_models(errors=\"raise\")"
   ]
  },
  {
   "cell_type": "code",
   "execution_count": 67,
   "metadata": {},
   "outputs": [
    {
     "data": {
      "text/html": [
       "<style type=\"text/css\">\n",
       "</style>\n",
       "<table id=\"T_ccd04\">\n",
       "  <thead>\n",
       "    <tr>\n",
       "      <th class=\"blank level0\" >&nbsp;</th>\n",
       "      <th id=\"T_ccd04_level0_col0\" class=\"col_heading level0 col0\" >Model</th>\n",
       "      <th id=\"T_ccd04_level0_col1\" class=\"col_heading level0 col1\" >MAE</th>\n",
       "      <th id=\"T_ccd04_level0_col2\" class=\"col_heading level0 col2\" >MSE</th>\n",
       "      <th id=\"T_ccd04_level0_col3\" class=\"col_heading level0 col3\" >RMSE</th>\n",
       "      <th id=\"T_ccd04_level0_col4\" class=\"col_heading level0 col4\" >R2</th>\n",
       "      <th id=\"T_ccd04_level0_col5\" class=\"col_heading level0 col5\" >RMSLE</th>\n",
       "      <th id=\"T_ccd04_level0_col6\" class=\"col_heading level0 col6\" >MAPE</th>\n",
       "    </tr>\n",
       "  </thead>\n",
       "  <tbody>\n",
       "    <tr>\n",
       "      <th id=\"T_ccd04_level0_row0\" class=\"row_heading level0 row0\" >0</th>\n",
       "      <td id=\"T_ccd04_row0_col0\" class=\"data row0 col0\" >Random Forest Regressor</td>\n",
       "      <td id=\"T_ccd04_row0_col1\" class=\"data row0 col1\" >51.7447</td>\n",
       "      <td id=\"T_ccd04_row0_col2\" class=\"data row0 col2\" >5011.2368</td>\n",
       "      <td id=\"T_ccd04_row0_col3\" class=\"data row0 col3\" >70.7901</td>\n",
       "      <td id=\"T_ccd04_row0_col4\" class=\"data row0 col4\" >0.9052</td>\n",
       "      <td id=\"T_ccd04_row0_col5\" class=\"data row0 col5\" >0.1007</td>\n",
       "      <td id=\"T_ccd04_row0_col6\" class=\"data row0 col6\" >0.0735</td>\n",
       "    </tr>\n",
       "  </tbody>\n",
       "</table>\n"
      ],
      "text/plain": [
       "<pandas.io.formats.style.Styler at 0x7f92b3d37c10>"
      ]
     },
     "metadata": {},
     "output_type": "display_data"
    }
   ],
   "source": [
    "prediction_holdout = predict_model(best);"
   ]
  },
  {
   "cell_type": "code",
   "execution_count": 72,
   "metadata": {},
   "outputs": [
    {
     "name": "stdout",
     "output_type": "stream",
     "text": [
      "Transformation Pipeline and Model Successfully Saved\n"
     ]
    },
    {
     "data": {
      "text/plain": [
       "(Pipeline(memory=Memory(location=/var/folders/rc/v5cwk57s3zs4n7148tgl1zhd1lcnlk/T/joblib),\n",
       "          steps=[('date_feature_extractor',\n",
       "                  TransfomerWrapper(include=['datetime'], transformer=ExtractDateTimeFeatures())),\n",
       "                 ('numerical_imputer',\n",
       "                  TransfomerWrapper(include=['series'], transformer=SimpleImputer())),\n",
       "                 ('categorical_imputer',\n",
       "                  TransfomerWrapper(include=[], transformer=SimpleImputer(fill_value='constant', strategy='constant'))),\n",
       "                 ['trained_model',\n",
       "                  RandomForestRegressor(n_jobs=-1, random_state=123)]]),\n",
       " './model.pkl')"
      ]
     },
     "execution_count": 72,
     "metadata": {},
     "output_type": "execute_result"
    }
   ],
   "source": [
    "save_model(best,'./model')"
   ]
  },
  {
   "cell_type": "code",
   "execution_count": 78,
   "metadata": {},
   "outputs": [
    {
     "ename": "UnicodeDecodeError",
     "evalue": "'utf-8' codec can't decode byte 0x80 in position 0: invalid start byte",
     "output_type": "error",
     "traceback": [
      "\u001b[0;31m---------------------------------------------------------------------------\u001b[0m",
      "\u001b[0;31mUnicodeDecodeError\u001b[0m                        Traceback (most recent call last)",
      "Cell \u001b[0;32mIn[78], line 3\u001b[0m\n\u001b[1;32m      1\u001b[0m \u001b[39mimport\u001b[39;00m \u001b[39mpickle\u001b[39;00m\n\u001b[0;32m----> 3\u001b[0m model \u001b[39m=\u001b[39m pickle\u001b[39m.\u001b[39;49mload(\u001b[39mopen\u001b[39;49m(\u001b[39m'\u001b[39;49m\u001b[39m./model.pkl\u001b[39;49m\u001b[39m'\u001b[39;49m,\u001b[39m'\u001b[39;49m\u001b[39mr\u001b[39;49m\u001b[39m'\u001b[39;49m))\n",
      "File \u001b[0;32m/opt/homebrew/Caskroom/miniforge/base/lib/python3.8/codecs.py:322\u001b[0m, in \u001b[0;36mBufferedIncrementalDecoder.decode\u001b[0;34m(self, input, final)\u001b[0m\n\u001b[1;32m    319\u001b[0m \u001b[39mdef\u001b[39;00m \u001b[39mdecode\u001b[39m(\u001b[39mself\u001b[39m, \u001b[39minput\u001b[39m, final\u001b[39m=\u001b[39m\u001b[39mFalse\u001b[39;00m):\n\u001b[1;32m    320\u001b[0m     \u001b[39m# decode input (taking the buffer into account)\u001b[39;00m\n\u001b[1;32m    321\u001b[0m     data \u001b[39m=\u001b[39m \u001b[39mself\u001b[39m\u001b[39m.\u001b[39mbuffer \u001b[39m+\u001b[39m \u001b[39minput\u001b[39m\n\u001b[0;32m--> 322\u001b[0m     (result, consumed) \u001b[39m=\u001b[39m \u001b[39mself\u001b[39;49m\u001b[39m.\u001b[39;49m_buffer_decode(data, \u001b[39mself\u001b[39;49m\u001b[39m.\u001b[39;49merrors, final)\n\u001b[1;32m    323\u001b[0m     \u001b[39m# keep undecoded input until the next call\u001b[39;00m\n\u001b[1;32m    324\u001b[0m     \u001b[39mself\u001b[39m\u001b[39m.\u001b[39mbuffer \u001b[39m=\u001b[39m data[consumed:]\n",
      "\u001b[0;31mUnicodeDecodeError\u001b[0m: 'utf-8' codec can't decode byte 0x80 in position 0: invalid start byte"
     ]
    }
   ],
   "source": [
    "import pickle\n",
    "\n",
    "model = pickle.load(open('./model.pkl','r'))"
   ]
  },
  {
   "cell_type": "code",
   "execution_count": 79,
   "metadata": {},
   "outputs": [
    {
     "data": {
      "text/html": [
       "<div>\n",
       "<style scoped>\n",
       "    .dataframe tbody tr th:only-of-type {\n",
       "        vertical-align: middle;\n",
       "    }\n",
       "\n",
       "    .dataframe tbody tr th {\n",
       "        vertical-align: top;\n",
       "    }\n",
       "\n",
       "    .dataframe thead th {\n",
       "        text-align: right;\n",
       "    }\n",
       "</style>\n",
       "<table border=\"1\" class=\"dataframe\">\n",
       "  <thead>\n",
       "    <tr style=\"text-align: right;\">\n",
       "      <th></th>\n",
       "      <th>datetime</th>\n",
       "      <th>medicion</th>\n",
       "    </tr>\n",
       "  </thead>\n",
       "  <tbody>\n",
       "    <tr>\n",
       "      <th>1903</th>\n",
       "      <td>2022-01-07</td>\n",
       "      <td>1193</td>\n",
       "    </tr>\n",
       "    <tr>\n",
       "      <th>1250</th>\n",
       "      <td>2022-01-07</td>\n",
       "      <td>948</td>\n",
       "    </tr>\n",
       "    <tr>\n",
       "      <th>1946</th>\n",
       "      <td>2022-01-07</td>\n",
       "      <td>1166</td>\n",
       "    </tr>\n",
       "    <tr>\n",
       "      <th>2610</th>\n",
       "      <td>2022-01-07</td>\n",
       "      <td>1046</td>\n",
       "    </tr>\n",
       "    <tr>\n",
       "      <th>585</th>\n",
       "      <td>2022-01-07</td>\n",
       "      <td>915</td>\n",
       "    </tr>\n",
       "    <tr>\n",
       "      <th>...</th>\n",
       "      <td>...</td>\n",
       "      <td>...</td>\n",
       "    </tr>\n",
       "    <tr>\n",
       "      <th>1199</th>\n",
       "      <td>2023-12-03</td>\n",
       "      <td>883</td>\n",
       "    </tr>\n",
       "    <tr>\n",
       "      <th>1531</th>\n",
       "      <td>2023-12-03</td>\n",
       "      <td>1104</td>\n",
       "    </tr>\n",
       "    <tr>\n",
       "      <th>2560</th>\n",
       "      <td>2023-12-03</td>\n",
       "      <td>552</td>\n",
       "    </tr>\n",
       "    <tr>\n",
       "      <th>866</th>\n",
       "      <td>2023-12-03</td>\n",
       "      <td>1192</td>\n",
       "    </tr>\n",
       "    <tr>\n",
       "      <th>1863</th>\n",
       "      <td>2023-12-03</td>\n",
       "      <td>687</td>\n",
       "    </tr>\n",
       "  </tbody>\n",
       "</table>\n",
       "<p>2691 rows × 2 columns</p>\n",
       "</div>"
      ],
      "text/plain": [
       "       datetime  medicion\n",
       "1903 2022-01-07      1193\n",
       "1250 2022-01-07       948\n",
       "1946 2022-01-07      1166\n",
       "2610 2022-01-07      1046\n",
       "585  2022-01-07       915\n",
       "...         ...       ...\n",
       "1199 2023-12-03       883\n",
       "1531 2023-12-03      1104\n",
       "2560 2023-12-03       552\n",
       "866  2023-12-03      1192\n",
       "1863 2023-12-03       687\n",
       "\n",
       "[2691 rows x 2 columns]"
      ]
     },
     "execution_count": 79,
     "metadata": {},
     "output_type": "execute_result"
    }
   ],
   "source": [
    "df"
   ]
  },
  {
   "cell_type": "code",
   "execution_count": 82,
   "metadata": {},
   "outputs": [],
   "source": [
    "import pandas as pd\n",
    "from sklearn.pipeline import Pipeline\n",
    "\n",
    "from sklearn.ensemble import RandomForestRegressor\n",
    "from sklearn.model_selection import train_test_split\n",
    "\n",
    "X = df.drop(columns = {'medicion'}, axis = 1)\n",
    "y = df['medicion']\n",
    "X_train, X_test,y_train,y_test = train_test_split(X,y,test_size = 0.3, random_state = 0)\n",
    "\n",
    "\n",
    "model = RandomForestRegressor(n_estimators = 100, random_state = 0)\n",
    "model_name = model.__class__.__name__       \n",
    "\n",
    "\n",
    "# Build the pipeline\n",
    "pipe = Pipeline([\n",
    "                    ('Model', model)\n",
    "                ])\n",
    "\n",
    "pipe.fit(X_train, y_train);\n",
    "y_predict = pipe.predict(X_test)\n"
   ]
  },
  {
   "cell_type": "code",
   "execution_count": 87,
   "metadata": {},
   "outputs": [],
   "source": [
    "X_test['predict'] = y_predict\n",
    "X_test['real_value'] = y_test"
   ]
  },
  {
   "cell_type": "code",
   "execution_count": 93,
   "metadata": {},
   "outputs": [],
   "source": [
    "pickle.dump(pipe,open('./model.pkl','wb'))"
   ]
  },
  {
   "cell_type": "code",
   "execution_count": 95,
   "metadata": {},
   "outputs": [],
   "source": [
    "model = pickle.load(open('./model.pkl','rb'))"
   ]
  },
  {
   "cell_type": "code",
   "execution_count": 102,
   "metadata": {},
   "outputs": [],
   "source": [
    "import plotly.express as px\n"
   ]
  },
  {
   "cell_type": "code",
   "execution_count": 110,
   "metadata": {},
   "outputs": [],
   "source": [
    "df['datetime'] = pd.to_datetime(df['datetime'])\n",
    "df.sort_values(by = ['datetime'], ascending=True, inplace=True)"
   ]
  },
  {
   "cell_type": "code",
   "execution_count": 166,
   "metadata": {},
   "outputs": [],
   "source": [
    "df_2 = df[(df['edificio'] == 'camilo torres') & (df['piso'] == 1) & (df['aula'] == f'aula 1')]\n",
    "df_2['tipo_medicion'] = 'real'"
   ]
  },
  {
   "cell_type": "code",
   "execution_count": 167,
   "metadata": {},
   "outputs": [
    {
     "data": {
      "text/plain": [
       "Timestamp('2023-12-02 00:00:00')"
      ]
     },
     "execution_count": 167,
     "metadata": {},
     "output_type": "execute_result"
    }
   ],
   "source": [
    "new_date = df_2.datetime.max() + timedelta(1)\n",
    "new_date"
   ]
  },
  {
   "cell_type": "code",
   "execution_count": 168,
   "metadata": {},
   "outputs": [],
   "source": [
    "new_value = pd.DataFrame([{'datetime':new_date}])\n",
    "y_predict = int(model.predict(new_value)[0])\n",
    "df_predict = pd.DataFrame([{'datetime':new_date,'medicion':y_predict,'aula': 'aula 1','edificio': 'camilo torres','piso':1,'sensor':'aula 1_sensor','tipo_medicion':'predict'}])\n",
    "df_2 = df_2.append(df_predict)"
   ]
  },
  {
   "cell_type": "code",
   "execution_count": 171,
   "metadata": {},
   "outputs": [
    {
     "data": {
      "application/vnd.plotly.v1+json": {
       "config": {
        "plotlyServerURL": "https://plot.ly"
       },
       "data": [
        {
         "hovertemplate": "tipo_medicion=real<br>datetime=%{x}<br>medicion=%{text}<extra></extra>",
         "legendgroup": "real",
         "line": {
          "color": "#636efa",
          "dash": "solid"
         },
         "marker": {
          "symbol": "circle"
         },
         "mode": "lines+markers+text",
         "name": "real",
         "orientation": "v",
         "showlegend": true,
         "text": [
          483,
          968,
          813
         ],
         "textposition": "top right",
         "type": "scatter",
         "x": [
          "2023-09-03T00:00:00",
          "2023-11-02T00:00:00",
          "2023-12-01T00:00:00"
         ],
         "xaxis": "x",
         "y": [
          483,
          968,
          813
         ],
         "yaxis": "y"
        },
        {
         "hovertemplate": "tipo_medicion=predict<br>datetime=%{x}<br>medicion=%{text}<extra></extra>",
         "legendgroup": "predict",
         "line": {
          "color": "#EF553B",
          "dash": "solid"
         },
         "marker": {
          "symbol": "circle"
         },
         "mode": "lines+markers+text",
         "name": "predict",
         "orientation": "v",
         "showlegend": true,
         "text": [
          798
         ],
         "textposition": "top right",
         "type": "scatter",
         "x": [
          "2023-12-02T00:00:00"
         ],
         "xaxis": "x",
         "y": [
          798
         ],
         "yaxis": "y"
        }
       ],
       "layout": {
        "legend": {
         "title": {
          "text": "tipo_medicion"
         },
         "tracegroupgap": 0
        },
        "margin": {
         "t": 60
        },
        "template": {
         "data": {
          "bar": [
           {
            "error_x": {
             "color": "#2a3f5f"
            },
            "error_y": {
             "color": "#2a3f5f"
            },
            "marker": {
             "line": {
              "color": "#E5ECF6",
              "width": 0.5
             },
             "pattern": {
              "fillmode": "overlay",
              "size": 10,
              "solidity": 0.2
             }
            },
            "type": "bar"
           }
          ],
          "barpolar": [
           {
            "marker": {
             "line": {
              "color": "#E5ECF6",
              "width": 0.5
             },
             "pattern": {
              "fillmode": "overlay",
              "size": 10,
              "solidity": 0.2
             }
            },
            "type": "barpolar"
           }
          ],
          "carpet": [
           {
            "aaxis": {
             "endlinecolor": "#2a3f5f",
             "gridcolor": "white",
             "linecolor": "white",
             "minorgridcolor": "white",
             "startlinecolor": "#2a3f5f"
            },
            "baxis": {
             "endlinecolor": "#2a3f5f",
             "gridcolor": "white",
             "linecolor": "white",
             "minorgridcolor": "white",
             "startlinecolor": "#2a3f5f"
            },
            "type": "carpet"
           }
          ],
          "choropleth": [
           {
            "colorbar": {
             "outlinewidth": 0,
             "ticks": ""
            },
            "type": "choropleth"
           }
          ],
          "contour": [
           {
            "colorbar": {
             "outlinewidth": 0,
             "ticks": ""
            },
            "colorscale": [
             [
              0,
              "#0d0887"
             ],
             [
              0.1111111111111111,
              "#46039f"
             ],
             [
              0.2222222222222222,
              "#7201a8"
             ],
             [
              0.3333333333333333,
              "#9c179e"
             ],
             [
              0.4444444444444444,
              "#bd3786"
             ],
             [
              0.5555555555555556,
              "#d8576b"
             ],
             [
              0.6666666666666666,
              "#ed7953"
             ],
             [
              0.7777777777777778,
              "#fb9f3a"
             ],
             [
              0.8888888888888888,
              "#fdca26"
             ],
             [
              1,
              "#f0f921"
             ]
            ],
            "type": "contour"
           }
          ],
          "contourcarpet": [
           {
            "colorbar": {
             "outlinewidth": 0,
             "ticks": ""
            },
            "type": "contourcarpet"
           }
          ],
          "heatmap": [
           {
            "colorbar": {
             "outlinewidth": 0,
             "ticks": ""
            },
            "colorscale": [
             [
              0,
              "#0d0887"
             ],
             [
              0.1111111111111111,
              "#46039f"
             ],
             [
              0.2222222222222222,
              "#7201a8"
             ],
             [
              0.3333333333333333,
              "#9c179e"
             ],
             [
              0.4444444444444444,
              "#bd3786"
             ],
             [
              0.5555555555555556,
              "#d8576b"
             ],
             [
              0.6666666666666666,
              "#ed7953"
             ],
             [
              0.7777777777777778,
              "#fb9f3a"
             ],
             [
              0.8888888888888888,
              "#fdca26"
             ],
             [
              1,
              "#f0f921"
             ]
            ],
            "type": "heatmap"
           }
          ],
          "heatmapgl": [
           {
            "colorbar": {
             "outlinewidth": 0,
             "ticks": ""
            },
            "colorscale": [
             [
              0,
              "#0d0887"
             ],
             [
              0.1111111111111111,
              "#46039f"
             ],
             [
              0.2222222222222222,
              "#7201a8"
             ],
             [
              0.3333333333333333,
              "#9c179e"
             ],
             [
              0.4444444444444444,
              "#bd3786"
             ],
             [
              0.5555555555555556,
              "#d8576b"
             ],
             [
              0.6666666666666666,
              "#ed7953"
             ],
             [
              0.7777777777777778,
              "#fb9f3a"
             ],
             [
              0.8888888888888888,
              "#fdca26"
             ],
             [
              1,
              "#f0f921"
             ]
            ],
            "type": "heatmapgl"
           }
          ],
          "histogram": [
           {
            "marker": {
             "pattern": {
              "fillmode": "overlay",
              "size": 10,
              "solidity": 0.2
             }
            },
            "type": "histogram"
           }
          ],
          "histogram2d": [
           {
            "colorbar": {
             "outlinewidth": 0,
             "ticks": ""
            },
            "colorscale": [
             [
              0,
              "#0d0887"
             ],
             [
              0.1111111111111111,
              "#46039f"
             ],
             [
              0.2222222222222222,
              "#7201a8"
             ],
             [
              0.3333333333333333,
              "#9c179e"
             ],
             [
              0.4444444444444444,
              "#bd3786"
             ],
             [
              0.5555555555555556,
              "#d8576b"
             ],
             [
              0.6666666666666666,
              "#ed7953"
             ],
             [
              0.7777777777777778,
              "#fb9f3a"
             ],
             [
              0.8888888888888888,
              "#fdca26"
             ],
             [
              1,
              "#f0f921"
             ]
            ],
            "type": "histogram2d"
           }
          ],
          "histogram2dcontour": [
           {
            "colorbar": {
             "outlinewidth": 0,
             "ticks": ""
            },
            "colorscale": [
             [
              0,
              "#0d0887"
             ],
             [
              0.1111111111111111,
              "#46039f"
             ],
             [
              0.2222222222222222,
              "#7201a8"
             ],
             [
              0.3333333333333333,
              "#9c179e"
             ],
             [
              0.4444444444444444,
              "#bd3786"
             ],
             [
              0.5555555555555556,
              "#d8576b"
             ],
             [
              0.6666666666666666,
              "#ed7953"
             ],
             [
              0.7777777777777778,
              "#fb9f3a"
             ],
             [
              0.8888888888888888,
              "#fdca26"
             ],
             [
              1,
              "#f0f921"
             ]
            ],
            "type": "histogram2dcontour"
           }
          ],
          "mesh3d": [
           {
            "colorbar": {
             "outlinewidth": 0,
             "ticks": ""
            },
            "type": "mesh3d"
           }
          ],
          "parcoords": [
           {
            "line": {
             "colorbar": {
              "outlinewidth": 0,
              "ticks": ""
             }
            },
            "type": "parcoords"
           }
          ],
          "pie": [
           {
            "automargin": true,
            "type": "pie"
           }
          ],
          "scatter": [
           {
            "fillpattern": {
             "fillmode": "overlay",
             "size": 10,
             "solidity": 0.2
            },
            "type": "scatter"
           }
          ],
          "scatter3d": [
           {
            "line": {
             "colorbar": {
              "outlinewidth": 0,
              "ticks": ""
             }
            },
            "marker": {
             "colorbar": {
              "outlinewidth": 0,
              "ticks": ""
             }
            },
            "type": "scatter3d"
           }
          ],
          "scattercarpet": [
           {
            "marker": {
             "colorbar": {
              "outlinewidth": 0,
              "ticks": ""
             }
            },
            "type": "scattercarpet"
           }
          ],
          "scattergeo": [
           {
            "marker": {
             "colorbar": {
              "outlinewidth": 0,
              "ticks": ""
             }
            },
            "type": "scattergeo"
           }
          ],
          "scattergl": [
           {
            "marker": {
             "colorbar": {
              "outlinewidth": 0,
              "ticks": ""
             }
            },
            "type": "scattergl"
           }
          ],
          "scattermapbox": [
           {
            "marker": {
             "colorbar": {
              "outlinewidth": 0,
              "ticks": ""
             }
            },
            "type": "scattermapbox"
           }
          ],
          "scatterpolar": [
           {
            "marker": {
             "colorbar": {
              "outlinewidth": 0,
              "ticks": ""
             }
            },
            "type": "scatterpolar"
           }
          ],
          "scatterpolargl": [
           {
            "marker": {
             "colorbar": {
              "outlinewidth": 0,
              "ticks": ""
             }
            },
            "type": "scatterpolargl"
           }
          ],
          "scatterternary": [
           {
            "marker": {
             "colorbar": {
              "outlinewidth": 0,
              "ticks": ""
             }
            },
            "type": "scatterternary"
           }
          ],
          "surface": [
           {
            "colorbar": {
             "outlinewidth": 0,
             "ticks": ""
            },
            "colorscale": [
             [
              0,
              "#0d0887"
             ],
             [
              0.1111111111111111,
              "#46039f"
             ],
             [
              0.2222222222222222,
              "#7201a8"
             ],
             [
              0.3333333333333333,
              "#9c179e"
             ],
             [
              0.4444444444444444,
              "#bd3786"
             ],
             [
              0.5555555555555556,
              "#d8576b"
             ],
             [
              0.6666666666666666,
              "#ed7953"
             ],
             [
              0.7777777777777778,
              "#fb9f3a"
             ],
             [
              0.8888888888888888,
              "#fdca26"
             ],
             [
              1,
              "#f0f921"
             ]
            ],
            "type": "surface"
           }
          ],
          "table": [
           {
            "cells": {
             "fill": {
              "color": "#EBF0F8"
             },
             "line": {
              "color": "white"
             }
            },
            "header": {
             "fill": {
              "color": "#C8D4E3"
             },
             "line": {
              "color": "white"
             }
            },
            "type": "table"
           }
          ]
         },
         "layout": {
          "annotationdefaults": {
           "arrowcolor": "#2a3f5f",
           "arrowhead": 0,
           "arrowwidth": 1
          },
          "autotypenumbers": "strict",
          "coloraxis": {
           "colorbar": {
            "outlinewidth": 0,
            "ticks": ""
           }
          },
          "colorscale": {
           "diverging": [
            [
             0,
             "#8e0152"
            ],
            [
             0.1,
             "#c51b7d"
            ],
            [
             0.2,
             "#de77ae"
            ],
            [
             0.3,
             "#f1b6da"
            ],
            [
             0.4,
             "#fde0ef"
            ],
            [
             0.5,
             "#f7f7f7"
            ],
            [
             0.6,
             "#e6f5d0"
            ],
            [
             0.7,
             "#b8e186"
            ],
            [
             0.8,
             "#7fbc41"
            ],
            [
             0.9,
             "#4d9221"
            ],
            [
             1,
             "#276419"
            ]
           ],
           "sequential": [
            [
             0,
             "#0d0887"
            ],
            [
             0.1111111111111111,
             "#46039f"
            ],
            [
             0.2222222222222222,
             "#7201a8"
            ],
            [
             0.3333333333333333,
             "#9c179e"
            ],
            [
             0.4444444444444444,
             "#bd3786"
            ],
            [
             0.5555555555555556,
             "#d8576b"
            ],
            [
             0.6666666666666666,
             "#ed7953"
            ],
            [
             0.7777777777777778,
             "#fb9f3a"
            ],
            [
             0.8888888888888888,
             "#fdca26"
            ],
            [
             1,
             "#f0f921"
            ]
           ],
           "sequentialminus": [
            [
             0,
             "#0d0887"
            ],
            [
             0.1111111111111111,
             "#46039f"
            ],
            [
             0.2222222222222222,
             "#7201a8"
            ],
            [
             0.3333333333333333,
             "#9c179e"
            ],
            [
             0.4444444444444444,
             "#bd3786"
            ],
            [
             0.5555555555555556,
             "#d8576b"
            ],
            [
             0.6666666666666666,
             "#ed7953"
            ],
            [
             0.7777777777777778,
             "#fb9f3a"
            ],
            [
             0.8888888888888888,
             "#fdca26"
            ],
            [
             1,
             "#f0f921"
            ]
           ]
          },
          "colorway": [
           "#636efa",
           "#EF553B",
           "#00cc96",
           "#ab63fa",
           "#FFA15A",
           "#19d3f3",
           "#FF6692",
           "#B6E880",
           "#FF97FF",
           "#FECB52"
          ],
          "font": {
           "color": "#2a3f5f"
          },
          "geo": {
           "bgcolor": "white",
           "lakecolor": "white",
           "landcolor": "#E5ECF6",
           "showlakes": true,
           "showland": true,
           "subunitcolor": "white"
          },
          "hoverlabel": {
           "align": "left"
          },
          "hovermode": "closest",
          "mapbox": {
           "style": "light"
          },
          "paper_bgcolor": "white",
          "plot_bgcolor": "#E5ECF6",
          "polar": {
           "angularaxis": {
            "gridcolor": "white",
            "linecolor": "white",
            "ticks": ""
           },
           "bgcolor": "#E5ECF6",
           "radialaxis": {
            "gridcolor": "white",
            "linecolor": "white",
            "ticks": ""
           }
          },
          "scene": {
           "xaxis": {
            "backgroundcolor": "#E5ECF6",
            "gridcolor": "white",
            "gridwidth": 2,
            "linecolor": "white",
            "showbackground": true,
            "ticks": "",
            "zerolinecolor": "white"
           },
           "yaxis": {
            "backgroundcolor": "#E5ECF6",
            "gridcolor": "white",
            "gridwidth": 2,
            "linecolor": "white",
            "showbackground": true,
            "ticks": "",
            "zerolinecolor": "white"
           },
           "zaxis": {
            "backgroundcolor": "#E5ECF6",
            "gridcolor": "white",
            "gridwidth": 2,
            "linecolor": "white",
            "showbackground": true,
            "ticks": "",
            "zerolinecolor": "white"
           }
          },
          "shapedefaults": {
           "line": {
            "color": "#2a3f5f"
           }
          },
          "ternary": {
           "aaxis": {
            "gridcolor": "white",
            "linecolor": "white",
            "ticks": ""
           },
           "baxis": {
            "gridcolor": "white",
            "linecolor": "white",
            "ticks": ""
           },
           "bgcolor": "#E5ECF6",
           "caxis": {
            "gridcolor": "white",
            "linecolor": "white",
            "ticks": ""
           }
          },
          "title": {
           "x": 0.05
          },
          "xaxis": {
           "automargin": true,
           "gridcolor": "white",
           "linecolor": "white",
           "ticks": "",
           "title": {
            "standoff": 15
           },
           "zerolinecolor": "white",
           "zerolinewidth": 2
          },
          "yaxis": {
           "automargin": true,
           "gridcolor": "white",
           "linecolor": "white",
           "ticks": "",
           "title": {
            "standoff": 15
           },
           "zerolinecolor": "white",
           "zerolinewidth": 2
          }
         }
        },
        "xaxis": {
         "anchor": "y",
         "domain": [
          0,
          1
         ],
         "title": {
          "text": "datetime"
         }
        },
        "yaxis": {
         "anchor": "x",
         "domain": [
          0,
          1
         ],
         "title": {
          "text": "medicion"
         }
        }
       }
      }
     },
     "metadata": {},
     "output_type": "display_data"
    }
   ],
   "source": [
    "df_2 = df_2[df_2['datetime'] >= pd.to_datetime('2023-09-01')]\n",
    "df_2['datetime_str'] = df_2['datetime'].apply(lambda x: x.strftime('%d-%m-%Y'))\n",
    "fig = px.line(df_2, x=\"datetime\", y=\"medicion\",  color='tipo_medicion',text=\"medicion\")\n",
    "fig.update_traces(textposition=\"top right\")\n",
    "# fig.add_vline(x=df.datetime.max(),line=dict(color=\"#EB4747\"))\n",
    "fig.show()"
   ]
  },
  {
   "cell_type": "code",
   "execution_count": 146,
   "metadata": {},
   "outputs": [
    {
     "data": {
      "text/html": [
       "<div>\n",
       "<style scoped>\n",
       "    .dataframe tbody tr th:only-of-type {\n",
       "        vertical-align: middle;\n",
       "    }\n",
       "\n",
       "    .dataframe tbody tr th {\n",
       "        vertical-align: top;\n",
       "    }\n",
       "\n",
       "    .dataframe thead th {\n",
       "        text-align: right;\n",
       "    }\n",
       "</style>\n",
       "<table border=\"1\" class=\"dataframe\">\n",
       "  <thead>\n",
       "    <tr style=\"text-align: right;\">\n",
       "      <th></th>\n",
       "      <th>aula</th>\n",
       "      <th>datetime</th>\n",
       "      <th>edificio</th>\n",
       "      <th>key</th>\n",
       "      <th>medicion</th>\n",
       "      <th>piso</th>\n",
       "      <th>sensor</th>\n",
       "      <th>tipo_medicion</th>\n",
       "    </tr>\n",
       "  </thead>\n",
       "  <tbody>\n",
       "    <tr>\n",
       "      <th>1713</th>\n",
       "      <td>aula 1</td>\n",
       "      <td>2023-11-02</td>\n",
       "      <td>camilo torres</td>\n",
       "      <td>254</td>\n",
       "      <td>968.000000</td>\n",
       "      <td>1</td>\n",
       "      <td>aula 1_sensor</td>\n",
       "      <td>real</td>\n",
       "    </tr>\n",
       "    <tr>\n",
       "      <th>1380</th>\n",
       "      <td>aula 1</td>\n",
       "      <td>2023-12-01</td>\n",
       "      <td>camilo torres</td>\n",
       "      <td>224</td>\n",
       "      <td>813.000000</td>\n",
       "      <td>1</td>\n",
       "      <td>aula 1_sensor</td>\n",
       "      <td>real</td>\n",
       "    </tr>\n",
       "    <tr>\n",
       "      <th>0</th>\n",
       "      <td>aula 1</td>\n",
       "      <td>2023-12-02</td>\n",
       "      <td>camilo torres</td>\n",
       "      <td>NaN</td>\n",
       "      <td>798.857996</td>\n",
       "      <td>1</td>\n",
       "      <td>aula 1_sensor</td>\n",
       "      <td>predict</td>\n",
       "    </tr>\n",
       "  </tbody>\n",
       "</table>\n",
       "</div>"
      ],
      "text/plain": [
       "        aula   datetime       edificio  key    medicion  piso         sensor  \\\n",
       "1713  aula 1 2023-11-02  camilo torres  254  968.000000     1  aula 1_sensor   \n",
       "1380  aula 1 2023-12-01  camilo torres  224  813.000000     1  aula 1_sensor   \n",
       "0     aula 1 2023-12-02  camilo torres  NaN  798.857996     1  aula 1_sensor   \n",
       "\n",
       "     tipo_medicion  \n",
       "1713          real  \n",
       "1380          real  \n",
       "0          predict  "
      ]
     },
     "execution_count": 146,
     "metadata": {},
     "output_type": "execute_result"
    }
   ],
   "source": [
    "df_2"
   ]
  },
  {
   "cell_type": "code",
   "execution_count": null,
   "metadata": {},
   "outputs": [],
   "source": []
  }
 ],
 "metadata": {
  "kernelspec": {
   "display_name": "Python 3",
   "language": "python",
   "name": "python3"
  },
  "language_info": {
   "codemirror_mode": {
    "name": "ipython",
    "version": 3
   },
   "file_extension": ".py",
   "mimetype": "text/x-python",
   "name": "python",
   "nbconvert_exporter": "python",
   "pygments_lexer": "ipython3",
   "version": "3.8.16"
  },
  "orig_nbformat": 4,
  "vscode": {
   "interpreter": {
    "hash": "31f2aee4e71d21fbe5cf8b01ff0e069b9275f58929596ceb00d14d90e3e16cd6"
   }
  }
 },
 "nbformat": 4,
 "nbformat_minor": 2
}
